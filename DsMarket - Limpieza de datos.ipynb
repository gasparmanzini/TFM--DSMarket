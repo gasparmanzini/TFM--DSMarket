{
 "cells": [
  {
   "cell_type": "markdown",
   "metadata": {
    "id": "Gvx-hiwfw8XP"
   },
   "source": [
    "### 1. Carga de librerias"
   ]
  },
  {
   "cell_type": "code",
   "execution_count": 207,
   "metadata": {
    "colab": {
     "base_uri": "https://localhost:8080/"
    },
    "executionInfo": {
     "elapsed": 22551,
     "status": "ok",
     "timestamp": 1737031504024,
     "user": {
      "displayName": "Gaspar Manzini",
      "userId": "04945097798978388435"
     },
     "user_tz": -60
    },
    "id": "Yo2pJkIY5nzF",
    "outputId": "6aace927-10ba-4301-d2dc-f69e3ec241cb"
   },
   "outputs": [],
   "source": [
    "import pandas as pd\n",
    "import pickle\n",
    "import matplotlib.pyplot as plt\n",
    "import seaborn as sns"
   ]
  },
  {
   "cell_type": "markdown",
   "metadata": {
    "id": "qWc8Nfbsu3En"
   },
   "source": [
    "### 2. Carga de files"
   ]
  },
  {
   "cell_type": "code",
   "execution_count": 208,
   "metadata": {
    "executionInfo": {
     "elapsed": 7829,
     "status": "ok",
     "timestamp": 1737031511849,
     "user": {
      "displayName": "Gaspar Manzini",
      "userId": "04945097798978388435"
     },
     "user_tz": -60
    },
    "id": "U9fK-iyv5qtq"
   },
   "outputs": [],
   "source": [
    "df_sales_original = pd.read_csv('item_sales.csv')"
   ]
  },
  {
   "cell_type": "code",
   "execution_count": 209,
   "metadata": {
    "executionInfo": {
     "elapsed": 23620,
     "status": "ok",
     "timestamp": 1737031535459,
     "user": {
      "displayName": "Gaspar Manzini",
      "userId": "04945097798978388435"
     },
     "user_tz": -60
    },
    "id": "4UrswuydpeQQ"
   },
   "outputs": [],
   "source": [
    "df_prices_original = pd.read_csv('item_prices.csv')"
   ]
  },
  {
   "cell_type": "code",
   "execution_count": 210,
   "metadata": {
    "executionInfo": {
     "elapsed": 750,
     "status": "ok",
     "timestamp": 1737031536205,
     "user": {
      "displayName": "Gaspar Manzini",
      "userId": "04945097798978388435"
     },
     "user_tz": -60
    },
    "id": "CDot1olopeHc"
   },
   "outputs": [],
   "source": [
    "df_calendar_original = pd.read_csv('daily_calendar_with_events.csv')"
   ]
  },
  {
   "cell_type": "code",
   "execution_count": 211,
   "metadata": {
    "executionInfo": {
     "elapsed": 505,
     "status": "ok",
     "timestamp": 1737031536706,
     "user": {
      "displayName": "Gaspar Manzini",
      "userId": "04945097798978388435"
     },
     "user_tz": -60
    },
    "id": "c72yT8Lm1TZz"
   },
   "outputs": [],
   "source": [
    "df_prices = df_prices_original.copy()"
   ]
  },
  {
   "cell_type": "code",
   "execution_count": 212,
   "metadata": {
    "executionInfo": {
     "elapsed": 16,
     "status": "ok",
     "timestamp": 1737031536707,
     "user": {
      "displayName": "Gaspar Manzini",
      "userId": "04945097798978388435"
     },
     "user_tz": -60
    },
    "id": "fx7c6QehvrUG"
   },
   "outputs": [],
   "source": [
    "df_calendar = df_calendar_original.copy()"
   ]
  },
  {
   "cell_type": "markdown",
   "metadata": {
    "id": "MmGZxXebdkmb"
   },
   "source": [
    "## 3. Exploracion de dataframes"
   ]
  },
  {
   "cell_type": "markdown",
   "metadata": {
    "id": "vBnUTxQHeGt0"
   },
   "source": [
    "#### 3.1. df_calendar"
   ]
  },
  {
   "cell_type": "markdown",
   "metadata": {
    "id": "w3Gbz3zkgiTA"
   },
   "source": [
    "Se vio:\n",
    "- Columnas que coincidian con los demas df, y se encontro que matchea la columna \"d\" con df_sales.\n",
    "- Fiestas, y se vio que se podrian agregar Navidad y 4 de Julio.\n",
    "- No se observan duplicados\n",
    "- Se observa que las semanas empiezan el dia sabado, y teniendo en cuenta la cantidad de dias dividido 7 hay 273 semanas"
   ]
  },
  {
   "cell_type": "code",
   "execution_count": 213,
   "metadata": {
    "colab": {
     "base_uri": "https://localhost:8080/"
    },
    "executionInfo": {
     "elapsed": 280,
     "status": "ok",
     "timestamp": 1737033383797,
     "user": {
      "displayName": "Gaspar Manzini",
      "userId": "04945097798978388435"
     },
     "user_tz": -60
    },
    "id": "TyfFuu-RJjBG",
    "outputId": "95682437-c4c7-4403-fbc2-7229615a32b6"
   },
   "outputs": [
    {
     "name": "stdout",
     "output_type": "stream",
     "text": [
      "<class 'pandas.core.frame.DataFrame'>\n",
      "RangeIndex: 1913 entries, 0 to 1912\n",
      "Data columns (total 5 columns):\n",
      " #   Column       Non-Null Count  Dtype \n",
      "---  ------       --------------  ----- \n",
      " 0   date         1913 non-null   object\n",
      " 1   weekday      1913 non-null   object\n",
      " 2   weekday_int  1913 non-null   int64 \n",
      " 3   d            1913 non-null   object\n",
      " 4   event        26 non-null     object\n",
      "dtypes: int64(1), object(4)\n",
      "memory usage: 74.9+ KB\n"
     ]
    }
   ],
   "source": [
    "df_calendar.info()"
   ]
  },
  {
   "cell_type": "code",
   "execution_count": 214,
   "metadata": {
    "colab": {
     "base_uri": "https://localhost:8080/",
     "height": 0
    },
    "executionInfo": {
     "elapsed": 11,
     "status": "ok",
     "timestamp": 1737033383797,
     "user": {
      "displayName": "Gaspar Manzini",
      "userId": "04945097798978388435"
     },
     "user_tz": -60
    },
    "id": "asv5gUk4eLB9",
    "outputId": "0230d2d9-dff0-426f-f3ed-325036ecc669"
   },
   "outputs": [
    {
     "data": {
      "text/html": [
       "<div>\n",
       "<style scoped>\n",
       "    .dataframe tbody tr th:only-of-type {\n",
       "        vertical-align: middle;\n",
       "    }\n",
       "\n",
       "    .dataframe tbody tr th {\n",
       "        vertical-align: top;\n",
       "    }\n",
       "\n",
       "    .dataframe thead th {\n",
       "        text-align: right;\n",
       "    }\n",
       "</style>\n",
       "<table border=\"1\" class=\"dataframe\">\n",
       "  <thead>\n",
       "    <tr style=\"text-align: right;\">\n",
       "      <th></th>\n",
       "      <th>date</th>\n",
       "      <th>weekday</th>\n",
       "      <th>weekday_int</th>\n",
       "      <th>d</th>\n",
       "      <th>event</th>\n",
       "    </tr>\n",
       "  </thead>\n",
       "  <tbody>\n",
       "    <tr>\n",
       "      <th>0</th>\n",
       "      <td>2011-01-29</td>\n",
       "      <td>Saturday</td>\n",
       "      <td>1</td>\n",
       "      <td>d_1</td>\n",
       "      <td>NaN</td>\n",
       "    </tr>\n",
       "    <tr>\n",
       "      <th>1</th>\n",
       "      <td>2011-01-30</td>\n",
       "      <td>Sunday</td>\n",
       "      <td>2</td>\n",
       "      <td>d_2</td>\n",
       "      <td>NaN</td>\n",
       "    </tr>\n",
       "    <tr>\n",
       "      <th>2</th>\n",
       "      <td>2011-01-31</td>\n",
       "      <td>Monday</td>\n",
       "      <td>3</td>\n",
       "      <td>d_3</td>\n",
       "      <td>NaN</td>\n",
       "    </tr>\n",
       "    <tr>\n",
       "      <th>3</th>\n",
       "      <td>2011-02-01</td>\n",
       "      <td>Tuesday</td>\n",
       "      <td>4</td>\n",
       "      <td>d_4</td>\n",
       "      <td>NaN</td>\n",
       "    </tr>\n",
       "    <tr>\n",
       "      <th>4</th>\n",
       "      <td>2011-02-02</td>\n",
       "      <td>Wednesday</td>\n",
       "      <td>5</td>\n",
       "      <td>d_5</td>\n",
       "      <td>NaN</td>\n",
       "    </tr>\n",
       "    <tr>\n",
       "      <th>...</th>\n",
       "      <td>...</td>\n",
       "      <td>...</td>\n",
       "      <td>...</td>\n",
       "      <td>...</td>\n",
       "      <td>...</td>\n",
       "    </tr>\n",
       "    <tr>\n",
       "      <th>1908</th>\n",
       "      <td>2016-04-20</td>\n",
       "      <td>Wednesday</td>\n",
       "      <td>5</td>\n",
       "      <td>d_1909</td>\n",
       "      <td>NaN</td>\n",
       "    </tr>\n",
       "    <tr>\n",
       "      <th>1909</th>\n",
       "      <td>2016-04-21</td>\n",
       "      <td>Thursday</td>\n",
       "      <td>6</td>\n",
       "      <td>d_1910</td>\n",
       "      <td>NaN</td>\n",
       "    </tr>\n",
       "    <tr>\n",
       "      <th>1910</th>\n",
       "      <td>2016-04-22</td>\n",
       "      <td>Friday</td>\n",
       "      <td>7</td>\n",
       "      <td>d_1911</td>\n",
       "      <td>NaN</td>\n",
       "    </tr>\n",
       "    <tr>\n",
       "      <th>1911</th>\n",
       "      <td>2016-04-23</td>\n",
       "      <td>Saturday</td>\n",
       "      <td>1</td>\n",
       "      <td>d_1912</td>\n",
       "      <td>NaN</td>\n",
       "    </tr>\n",
       "    <tr>\n",
       "      <th>1912</th>\n",
       "      <td>2016-04-24</td>\n",
       "      <td>Sunday</td>\n",
       "      <td>2</td>\n",
       "      <td>d_1913</td>\n",
       "      <td>NaN</td>\n",
       "    </tr>\n",
       "  </tbody>\n",
       "</table>\n",
       "<p>1913 rows × 5 columns</p>\n",
       "</div>"
      ],
      "text/plain": [
       "            date    weekday  weekday_int       d event\n",
       "0     2011-01-29   Saturday            1     d_1   NaN\n",
       "1     2011-01-30     Sunday            2     d_2   NaN\n",
       "2     2011-01-31     Monday            3     d_3   NaN\n",
       "3     2011-02-01    Tuesday            4     d_4   NaN\n",
       "4     2011-02-02  Wednesday            5     d_5   NaN\n",
       "...          ...        ...          ...     ...   ...\n",
       "1908  2016-04-20  Wednesday            5  d_1909   NaN\n",
       "1909  2016-04-21   Thursday            6  d_1910   NaN\n",
       "1910  2016-04-22     Friday            7  d_1911   NaN\n",
       "1911  2016-04-23   Saturday            1  d_1912   NaN\n",
       "1912  2016-04-24     Sunday            2  d_1913   NaN\n",
       "\n",
       "[1913 rows x 5 columns]"
      ]
     },
     "execution_count": 214,
     "metadata": {},
     "output_type": "execute_result"
    }
   ],
   "source": [
    "df_calendar"
   ]
  },
  {
   "cell_type": "code",
   "execution_count": 215,
   "metadata": {},
   "outputs": [
    {
     "data": {
      "text/plain": [
       "1913"
      ]
     },
     "execution_count": 215,
     "metadata": {},
     "output_type": "execute_result"
    }
   ],
   "source": [
    "cantidad_dias= df_calendar.shape[0]\n",
    "cantidad_dias"
   ]
  },
  {
   "cell_type": "code",
   "execution_count": 216,
   "metadata": {},
   "outputs": [
    {
     "data": {
      "text/plain": [
       "273.2857142857143"
      ]
     },
     "execution_count": 216,
     "metadata": {},
     "output_type": "execute_result"
    }
   ],
   "source": [
    "cantidad_semanas = cantidad_dias/7\n",
    "cantidad_semanas"
   ]
  },
  {
   "cell_type": "code",
   "execution_count": 217,
   "metadata": {},
   "outputs": [],
   "source": [
    "df_calendar_semanas = df_calendar.copy()"
   ]
  },
  {
   "cell_type": "code",
   "execution_count": 218,
   "metadata": {},
   "outputs": [],
   "source": [
    "df_calendar_semanas['date'] = pd.to_datetime(df_calendar_semanas['date'])\n",
    "\n",
    "df_calendar_semanas['year'] = df_calendar_semanas['date'].dt.year\n",
    "\n",
    "cant_dias_año = df_calendar_semanas['year'].value_counts()"
   ]
  },
  {
   "cell_type": "code",
   "execution_count": 219,
   "metadata": {},
   "outputs": [
    {
     "data": {
      "text/plain": [
       "year\n",
       "2012    366\n",
       "2013    365\n",
       "2014    365\n",
       "2015    365\n",
       "2011    337\n",
       "2016    115\n",
       "Name: count, dtype: int64"
      ]
     },
     "execution_count": 219,
     "metadata": {},
     "output_type": "execute_result"
    }
   ],
   "source": [
    "cant_dias_año"
   ]
  },
  {
   "cell_type": "code",
   "execution_count": 220,
   "metadata": {},
   "outputs": [
    {
     "data": {
      "text/plain": [
       "year\n",
       "2012    52.285714\n",
       "2013    52.142857\n",
       "2014    52.142857\n",
       "2015    52.142857\n",
       "2011    48.142857\n",
       "2016    16.428571\n",
       "Name: count, dtype: float64"
      ]
     },
     "execution_count": 220,
     "metadata": {},
     "output_type": "execute_result"
    }
   ],
   "source": [
    "cant_dias_año/7"
   ]
  },
  {
   "cell_type": "code",
   "execution_count": 221,
   "metadata": {},
   "outputs": [],
   "source": [
    "df_calendar['date'] = pd.to_datetime(df_calendar['date'])\n",
    "\n",
    "sabados = df_calendar[df_calendar['weekday'] == 'Saturday']\n",
    "\n",
    "ultimo_sabado = sabados.groupby(sabados['date'].dt.year)['date'].max().reset_index(drop=True)\n"
   ]
  },
  {
   "cell_type": "code",
   "execution_count": 222,
   "metadata": {},
   "outputs": [
    {
     "data": {
      "text/plain": [
       "0   2011-12-31\n",
       "1   2012-12-29\n",
       "2   2013-12-28\n",
       "3   2014-12-27\n",
       "4   2015-12-26\n",
       "5   2016-04-23\n",
       "Name: date, dtype: datetime64[ns]"
      ]
     },
     "execution_count": 222,
     "metadata": {},
     "output_type": "execute_result"
    }
   ],
   "source": [
    "ultimo_sabado "
   ]
  },
  {
   "cell_type": "code",
   "execution_count": 223,
   "metadata": {},
   "outputs": [
    {
     "data": {
      "text/plain": [
       "0"
      ]
     },
     "execution_count": 223,
     "metadata": {},
     "output_type": "execute_result"
    }
   ],
   "source": [
    "df_calendar.duplicated().sum()"
   ]
  },
  {
   "cell_type": "code",
   "execution_count": 224,
   "metadata": {
    "executionInfo": {
     "elapsed": 8,
     "status": "ok",
     "timestamp": 1737033383797,
     "user": {
      "displayName": "Gaspar Manzini",
      "userId": "04945097798978388435"
     },
     "user_tz": -60
    },
    "id": "dZeI2sujJgeU"
   },
   "outputs": [
    {
     "data": {
      "text/plain": [
       "date           False\n",
       "weekday        False\n",
       "weekday_int    False\n",
       "d              False\n",
       "event           True\n",
       "dtype: bool"
      ]
     },
     "execution_count": 224,
     "metadata": {},
     "output_type": "execute_result"
    }
   ],
   "source": [
    "df_calendar.isnull().any()"
   ]
  },
  {
   "cell_type": "code",
   "execution_count": 225,
   "metadata": {
    "colab": {
     "base_uri": "https://localhost:8080/"
    },
    "executionInfo": {
     "elapsed": 8,
     "status": "ok",
     "timestamp": 1737033383797,
     "user": {
      "displayName": "Gaspar Manzini",
      "userId": "04945097798978388435"
     },
     "user_tz": -60
    },
    "id": "xH32OcKieaPt",
    "outputId": "d3295f62-aa68-4f7b-e2f4-6d42c5e8c9c5"
   },
   "outputs": [
    {
     "data": {
      "text/plain": [
       "array(['SuperBowl', 'Ramadan starts', 'Thanksgiving', 'NewYear', 'Easter'],\n",
       "      dtype=object)"
      ]
     },
     "execution_count": 225,
     "metadata": {},
     "output_type": "execute_result"
    }
   ],
   "source": [
    "calendar_events = df_calendar.dropna()\n",
    "events = calendar_events['event'].unique()\n",
    "events"
   ]
  },
  {
   "cell_type": "markdown",
   "metadata": {
    "id": "npplXzYjd2sj"
   },
   "source": [
    "#### 3.2. df_sales"
   ]
  },
  {
   "cell_type": "markdown",
   "metadata": {
    "id": "gdz656__hB8i"
   },
   "source": [
    "- Se pueden pasar las columnas \"d_\" a filas para poder analizar la informacion\n",
    "- se puede agregar los datos del calendar ya que los datos \"d_\" coinciden con el df_calendar\n",
    "- Para poder agregar el precio habria que agregar una columna con \"yearweek\" a partir de la fecha y poder matchear con el df_prices\n",
    "- Identificacion de valores unicos de items, categories, departamentos, tiendas y ciudades"
   ]
  },
  {
   "cell_type": "code",
   "execution_count": 226,
   "metadata": {
    "colab": {
     "base_uri": "https://localhost:8080/",
     "height": 423
    },
    "executionInfo": {
     "elapsed": 14,
     "status": "ok",
     "timestamp": 1737033384699,
     "user": {
      "displayName": "Gaspar Manzini",
      "userId": "04945097798978388435"
     },
     "user_tz": -60
    },
    "id": "r3WW1F5geDaN",
    "outputId": "b6f86670-3805-4d17-ba88-fcb1c986afd5"
   },
   "outputs": [
    {
     "data": {
      "text/html": [
       "<div>\n",
       "<style scoped>\n",
       "    .dataframe tbody tr th:only-of-type {\n",
       "        vertical-align: middle;\n",
       "    }\n",
       "\n",
       "    .dataframe tbody tr th {\n",
       "        vertical-align: top;\n",
       "    }\n",
       "\n",
       "    .dataframe thead th {\n",
       "        text-align: right;\n",
       "    }\n",
       "</style>\n",
       "<table border=\"1\" class=\"dataframe\">\n",
       "  <thead>\n",
       "    <tr style=\"text-align: right;\">\n",
       "      <th></th>\n",
       "      <th>id</th>\n",
       "      <th>item</th>\n",
       "      <th>category</th>\n",
       "      <th>department</th>\n",
       "      <th>store</th>\n",
       "      <th>store_code</th>\n",
       "      <th>region</th>\n",
       "      <th>d_1</th>\n",
       "      <th>d_2</th>\n",
       "      <th>d_3</th>\n",
       "      <th>...</th>\n",
       "      <th>d_1904</th>\n",
       "      <th>d_1905</th>\n",
       "      <th>d_1906</th>\n",
       "      <th>d_1907</th>\n",
       "      <th>d_1908</th>\n",
       "      <th>d_1909</th>\n",
       "      <th>d_1910</th>\n",
       "      <th>d_1911</th>\n",
       "      <th>d_1912</th>\n",
       "      <th>d_1913</th>\n",
       "    </tr>\n",
       "  </thead>\n",
       "  <tbody>\n",
       "    <tr>\n",
       "      <th>0</th>\n",
       "      <td>ACCESORIES_1_001_NYC_1</td>\n",
       "      <td>ACCESORIES_1_001</td>\n",
       "      <td>ACCESORIES</td>\n",
       "      <td>ACCESORIES_1</td>\n",
       "      <td>Greenwich_Village</td>\n",
       "      <td>NYC_1</td>\n",
       "      <td>New York</td>\n",
       "      <td>0</td>\n",
       "      <td>0</td>\n",
       "      <td>0</td>\n",
       "      <td>...</td>\n",
       "      <td>1</td>\n",
       "      <td>3</td>\n",
       "      <td>0</td>\n",
       "      <td>1</td>\n",
       "      <td>1</td>\n",
       "      <td>1</td>\n",
       "      <td>3</td>\n",
       "      <td>0</td>\n",
       "      <td>1</td>\n",
       "      <td>1</td>\n",
       "    </tr>\n",
       "    <tr>\n",
       "      <th>1</th>\n",
       "      <td>ACCESORIES_1_002_NYC_1</td>\n",
       "      <td>ACCESORIES_1_002</td>\n",
       "      <td>ACCESORIES</td>\n",
       "      <td>ACCESORIES_1</td>\n",
       "      <td>Greenwich_Village</td>\n",
       "      <td>NYC_1</td>\n",
       "      <td>New York</td>\n",
       "      <td>0</td>\n",
       "      <td>0</td>\n",
       "      <td>0</td>\n",
       "      <td>...</td>\n",
       "      <td>0</td>\n",
       "      <td>0</td>\n",
       "      <td>0</td>\n",
       "      <td>0</td>\n",
       "      <td>0</td>\n",
       "      <td>1</td>\n",
       "      <td>0</td>\n",
       "      <td>0</td>\n",
       "      <td>0</td>\n",
       "      <td>0</td>\n",
       "    </tr>\n",
       "    <tr>\n",
       "      <th>2</th>\n",
       "      <td>ACCESORIES_1_003_NYC_1</td>\n",
       "      <td>ACCESORIES_1_003</td>\n",
       "      <td>ACCESORIES</td>\n",
       "      <td>ACCESORIES_1</td>\n",
       "      <td>Greenwich_Village</td>\n",
       "      <td>NYC_1</td>\n",
       "      <td>New York</td>\n",
       "      <td>0</td>\n",
       "      <td>0</td>\n",
       "      <td>0</td>\n",
       "      <td>...</td>\n",
       "      <td>2</td>\n",
       "      <td>1</td>\n",
       "      <td>2</td>\n",
       "      <td>1</td>\n",
       "      <td>1</td>\n",
       "      <td>1</td>\n",
       "      <td>0</td>\n",
       "      <td>1</td>\n",
       "      <td>1</td>\n",
       "      <td>1</td>\n",
       "    </tr>\n",
       "    <tr>\n",
       "      <th>3</th>\n",
       "      <td>ACCESORIES_1_004_NYC_1</td>\n",
       "      <td>ACCESORIES_1_004</td>\n",
       "      <td>ACCESORIES</td>\n",
       "      <td>ACCESORIES_1</td>\n",
       "      <td>Greenwich_Village</td>\n",
       "      <td>NYC_1</td>\n",
       "      <td>New York</td>\n",
       "      <td>0</td>\n",
       "      <td>0</td>\n",
       "      <td>0</td>\n",
       "      <td>...</td>\n",
       "      <td>1</td>\n",
       "      <td>0</td>\n",
       "      <td>5</td>\n",
       "      <td>4</td>\n",
       "      <td>1</td>\n",
       "      <td>0</td>\n",
       "      <td>1</td>\n",
       "      <td>3</td>\n",
       "      <td>7</td>\n",
       "      <td>2</td>\n",
       "    </tr>\n",
       "    <tr>\n",
       "      <th>4</th>\n",
       "      <td>ACCESORIES_1_005_NYC_1</td>\n",
       "      <td>ACCESORIES_1_005</td>\n",
       "      <td>ACCESORIES</td>\n",
       "      <td>ACCESORIES_1</td>\n",
       "      <td>Greenwich_Village</td>\n",
       "      <td>NYC_1</td>\n",
       "      <td>New York</td>\n",
       "      <td>0</td>\n",
       "      <td>0</td>\n",
       "      <td>0</td>\n",
       "      <td>...</td>\n",
       "      <td>2</td>\n",
       "      <td>1</td>\n",
       "      <td>1</td>\n",
       "      <td>0</td>\n",
       "      <td>1</td>\n",
       "      <td>1</td>\n",
       "      <td>2</td>\n",
       "      <td>2</td>\n",
       "      <td>2</td>\n",
       "      <td>4</td>\n",
       "    </tr>\n",
       "    <tr>\n",
       "      <th>...</th>\n",
       "      <td>...</td>\n",
       "      <td>...</td>\n",
       "      <td>...</td>\n",
       "      <td>...</td>\n",
       "      <td>...</td>\n",
       "      <td>...</td>\n",
       "      <td>...</td>\n",
       "      <td>...</td>\n",
       "      <td>...</td>\n",
       "      <td>...</td>\n",
       "      <td>...</td>\n",
       "      <td>...</td>\n",
       "      <td>...</td>\n",
       "      <td>...</td>\n",
       "      <td>...</td>\n",
       "      <td>...</td>\n",
       "      <td>...</td>\n",
       "      <td>...</td>\n",
       "      <td>...</td>\n",
       "      <td>...</td>\n",
       "      <td>...</td>\n",
       "    </tr>\n",
       "    <tr>\n",
       "      <th>30485</th>\n",
       "      <td>SUPERMARKET_3_823_PHI_3</td>\n",
       "      <td>SUPERMARKET_3_823</td>\n",
       "      <td>SUPERMARKET</td>\n",
       "      <td>SUPERMARKET_3</td>\n",
       "      <td>Queen_Village</td>\n",
       "      <td>PHI_3</td>\n",
       "      <td>Philadelphia</td>\n",
       "      <td>0</td>\n",
       "      <td>0</td>\n",
       "      <td>2</td>\n",
       "      <td>...</td>\n",
       "      <td>2</td>\n",
       "      <td>0</td>\n",
       "      <td>0</td>\n",
       "      <td>0</td>\n",
       "      <td>0</td>\n",
       "      <td>0</td>\n",
       "      <td>1</td>\n",
       "      <td>0</td>\n",
       "      <td>0</td>\n",
       "      <td>1</td>\n",
       "    </tr>\n",
       "    <tr>\n",
       "      <th>30486</th>\n",
       "      <td>SUPERMARKET_3_824_PHI_3</td>\n",
       "      <td>SUPERMARKET_3_824</td>\n",
       "      <td>SUPERMARKET</td>\n",
       "      <td>SUPERMARKET_3</td>\n",
       "      <td>Queen_Village</td>\n",
       "      <td>PHI_3</td>\n",
       "      <td>Philadelphia</td>\n",
       "      <td>0</td>\n",
       "      <td>0</td>\n",
       "      <td>0</td>\n",
       "      <td>...</td>\n",
       "      <td>0</td>\n",
       "      <td>0</td>\n",
       "      <td>0</td>\n",
       "      <td>0</td>\n",
       "      <td>0</td>\n",
       "      <td>0</td>\n",
       "      <td>0</td>\n",
       "      <td>0</td>\n",
       "      <td>1</td>\n",
       "      <td>0</td>\n",
       "    </tr>\n",
       "    <tr>\n",
       "      <th>30487</th>\n",
       "      <td>SUPERMARKET_3_825_PHI_3</td>\n",
       "      <td>SUPERMARKET_3_825</td>\n",
       "      <td>SUPERMARKET</td>\n",
       "      <td>SUPERMARKET_3</td>\n",
       "      <td>Queen_Village</td>\n",
       "      <td>PHI_3</td>\n",
       "      <td>Philadelphia</td>\n",
       "      <td>0</td>\n",
       "      <td>6</td>\n",
       "      <td>0</td>\n",
       "      <td>...</td>\n",
       "      <td>2</td>\n",
       "      <td>1</td>\n",
       "      <td>0</td>\n",
       "      <td>2</td>\n",
       "      <td>0</td>\n",
       "      <td>1</td>\n",
       "      <td>0</td>\n",
       "      <td>0</td>\n",
       "      <td>1</td>\n",
       "      <td>0</td>\n",
       "    </tr>\n",
       "    <tr>\n",
       "      <th>30488</th>\n",
       "      <td>SUPERMARKET_3_826_PHI_3</td>\n",
       "      <td>SUPERMARKET_3_826</td>\n",
       "      <td>SUPERMARKET</td>\n",
       "      <td>SUPERMARKET_3</td>\n",
       "      <td>Queen_Village</td>\n",
       "      <td>PHI_3</td>\n",
       "      <td>Philadelphia</td>\n",
       "      <td>0</td>\n",
       "      <td>0</td>\n",
       "      <td>0</td>\n",
       "      <td>...</td>\n",
       "      <td>0</td>\n",
       "      <td>0</td>\n",
       "      <td>1</td>\n",
       "      <td>0</td>\n",
       "      <td>0</td>\n",
       "      <td>1</td>\n",
       "      <td>0</td>\n",
       "      <td>3</td>\n",
       "      <td>1</td>\n",
       "      <td>3</td>\n",
       "    </tr>\n",
       "    <tr>\n",
       "      <th>30489</th>\n",
       "      <td>SUPERMARKET_3_827_PHI_3</td>\n",
       "      <td>SUPERMARKET_3_827</td>\n",
       "      <td>SUPERMARKET</td>\n",
       "      <td>SUPERMARKET_3</td>\n",
       "      <td>Queen_Village</td>\n",
       "      <td>PHI_3</td>\n",
       "      <td>Philadelphia</td>\n",
       "      <td>0</td>\n",
       "      <td>0</td>\n",
       "      <td>0</td>\n",
       "      <td>...</td>\n",
       "      <td>0</td>\n",
       "      <td>0</td>\n",
       "      <td>0</td>\n",
       "      <td>0</td>\n",
       "      <td>0</td>\n",
       "      <td>0</td>\n",
       "      <td>0</td>\n",
       "      <td>0</td>\n",
       "      <td>0</td>\n",
       "      <td>0</td>\n",
       "    </tr>\n",
       "  </tbody>\n",
       "</table>\n",
       "<p>30490 rows × 1920 columns</p>\n",
       "</div>"
      ],
      "text/plain": [
       "                            id               item     category     department  \\\n",
       "0       ACCESORIES_1_001_NYC_1   ACCESORIES_1_001   ACCESORIES   ACCESORIES_1   \n",
       "1       ACCESORIES_1_002_NYC_1   ACCESORIES_1_002   ACCESORIES   ACCESORIES_1   \n",
       "2       ACCESORIES_1_003_NYC_1   ACCESORIES_1_003   ACCESORIES   ACCESORIES_1   \n",
       "3       ACCESORIES_1_004_NYC_1   ACCESORIES_1_004   ACCESORIES   ACCESORIES_1   \n",
       "4       ACCESORIES_1_005_NYC_1   ACCESORIES_1_005   ACCESORIES   ACCESORIES_1   \n",
       "...                        ...                ...          ...            ...   \n",
       "30485  SUPERMARKET_3_823_PHI_3  SUPERMARKET_3_823  SUPERMARKET  SUPERMARKET_3   \n",
       "30486  SUPERMARKET_3_824_PHI_3  SUPERMARKET_3_824  SUPERMARKET  SUPERMARKET_3   \n",
       "30487  SUPERMARKET_3_825_PHI_3  SUPERMARKET_3_825  SUPERMARKET  SUPERMARKET_3   \n",
       "30488  SUPERMARKET_3_826_PHI_3  SUPERMARKET_3_826  SUPERMARKET  SUPERMARKET_3   \n",
       "30489  SUPERMARKET_3_827_PHI_3  SUPERMARKET_3_827  SUPERMARKET  SUPERMARKET_3   \n",
       "\n",
       "                   store store_code        region  d_1  d_2  d_3  ...  d_1904  \\\n",
       "0      Greenwich_Village      NYC_1      New York    0    0    0  ...       1   \n",
       "1      Greenwich_Village      NYC_1      New York    0    0    0  ...       0   \n",
       "2      Greenwich_Village      NYC_1      New York    0    0    0  ...       2   \n",
       "3      Greenwich_Village      NYC_1      New York    0    0    0  ...       1   \n",
       "4      Greenwich_Village      NYC_1      New York    0    0    0  ...       2   \n",
       "...                  ...        ...           ...  ...  ...  ...  ...     ...   \n",
       "30485      Queen_Village      PHI_3  Philadelphia    0    0    2  ...       2   \n",
       "30486      Queen_Village      PHI_3  Philadelphia    0    0    0  ...       0   \n",
       "30487      Queen_Village      PHI_3  Philadelphia    0    6    0  ...       2   \n",
       "30488      Queen_Village      PHI_3  Philadelphia    0    0    0  ...       0   \n",
       "30489      Queen_Village      PHI_3  Philadelphia    0    0    0  ...       0   \n",
       "\n",
       "       d_1905  d_1906  d_1907  d_1908  d_1909  d_1910  d_1911  d_1912  d_1913  \n",
       "0           3       0       1       1       1       3       0       1       1  \n",
       "1           0       0       0       0       1       0       0       0       0  \n",
       "2           1       2       1       1       1       0       1       1       1  \n",
       "3           0       5       4       1       0       1       3       7       2  \n",
       "4           1       1       0       1       1       2       2       2       4  \n",
       "...       ...     ...     ...     ...     ...     ...     ...     ...     ...  \n",
       "30485       0       0       0       0       0       1       0       0       1  \n",
       "30486       0       0       0       0       0       0       0       1       0  \n",
       "30487       1       0       2       0       1       0       0       1       0  \n",
       "30488       0       1       0       0       1       0       3       1       3  \n",
       "30489       0       0       0       0       0       0       0       0       0  \n",
       "\n",
       "[30490 rows x 1920 columns]"
      ]
     },
     "execution_count": 226,
     "metadata": {},
     "output_type": "execute_result"
    }
   ],
   "source": [
    "df_sales_original"
   ]
  },
  {
   "cell_type": "code",
   "execution_count": 227,
   "metadata": {
    "executionInfo": {
     "elapsed": 12,
     "status": "ok",
     "timestamp": 1737033384699,
     "user": {
      "displayName": "Gaspar Manzini",
      "userId": "04945097798978388435"
     },
     "user_tz": -60
    },
    "id": "Xwcuu5Z0LaJQ"
   },
   "outputs": [],
   "source": [
    "df_sales_description = df_sales_original.iloc[:, :7]\n"
   ]
  },
  {
   "cell_type": "code",
   "execution_count": 228,
   "metadata": {
    "colab": {
     "base_uri": "https://localhost:8080/",
     "height": 303
    },
    "executionInfo": {
     "elapsed": 12,
     "status": "ok",
     "timestamp": 1737033384699,
     "user": {
      "displayName": "Gaspar Manzini",
      "userId": "04945097798978388435"
     },
     "user_tz": -60
    },
    "id": "5EZclkp4MCkI",
    "outputId": "02100a81-da4d-41f1-ad61-e14aa237c81b"
   },
   "outputs": [
    {
     "data": {
      "text/plain": [
       "id            30490\n",
       "item           3049\n",
       "category          3\n",
       "department        7\n",
       "store            10\n",
       "store_code       10\n",
       "region            3\n",
       "dtype: int64"
      ]
     },
     "execution_count": 228,
     "metadata": {},
     "output_type": "execute_result"
    }
   ],
   "source": [
    "df_sales_description.nunique()"
   ]
  },
  {
   "cell_type": "code",
   "execution_count": 229,
   "metadata": {},
   "outputs": [
    {
     "data": {
      "text/plain": [
       "0"
      ]
     },
     "execution_count": 229,
     "metadata": {},
     "output_type": "execute_result"
    }
   ],
   "source": [
    "df_sales_original.duplicated().sum()"
   ]
  },
  {
   "cell_type": "code",
   "execution_count": 230,
   "metadata": {},
   "outputs": [
    {
     "data": {
      "text/plain": [
       "id            False\n",
       "item          False\n",
       "category      False\n",
       "department    False\n",
       "store         False\n",
       "              ...  \n",
       "d_1909        False\n",
       "d_1910        False\n",
       "d_1911        False\n",
       "d_1912        False\n",
       "d_1913        False\n",
       "Length: 1920, dtype: bool"
      ]
     },
     "execution_count": 230,
     "metadata": {},
     "output_type": "execute_result"
    }
   ],
   "source": [
    "df_sales_original.isnull().any()"
   ]
  },
  {
   "cell_type": "code",
   "execution_count": 231,
   "metadata": {
    "colab": {
     "base_uri": "https://localhost:8080/"
    },
    "executionInfo": {
     "elapsed": 11,
     "status": "ok",
     "timestamp": 1737033384699,
     "user": {
      "displayName": "Gaspar Manzini",
      "userId": "04945097798978388435"
     },
     "user_tz": -60
    },
    "id": "DXCsYMP1Kq0M",
    "outputId": "da66a7df-9a12-49da-8242-333ec0e85ab5"
   },
   "outputs": [
    {
     "name": "stdout",
     "output_type": "stream",
     "text": [
      "['ACCESORIES_1_001' 'ACCESORIES_1_002' 'ACCESORIES_1_003' ...\n",
      " 'SUPERMARKET_3_825' 'SUPERMARKET_3_826' 'SUPERMARKET_3_827']\n"
     ]
    }
   ],
   "source": [
    "items  = df_sales_original['item'].unique()\n",
    "print(items)"
   ]
  },
  {
   "cell_type": "code",
   "execution_count": 232,
   "metadata": {
    "colab": {
     "base_uri": "https://localhost:8080/"
    },
    "executionInfo": {
     "elapsed": 155,
     "status": "ok",
     "timestamp": 1737033384844,
     "user": {
      "displayName": "Gaspar Manzini",
      "userId": "04945097798978388435"
     },
     "user_tz": -60
    },
    "id": "EQ0CIE_CKqrf",
    "outputId": "6c449dc2-3f0e-4cf3-c018-24d32a6602dd"
   },
   "outputs": [
    {
     "name": "stdout",
     "output_type": "stream",
     "text": [
      "['ACCESORIES' 'HOME_&_GARDEN' 'SUPERMARKET']\n"
     ]
    }
   ],
   "source": [
    "categories = df_sales_original['category'].unique()\n",
    "print(categories)"
   ]
  },
  {
   "cell_type": "code",
   "execution_count": 233,
   "metadata": {
    "colab": {
     "base_uri": "https://localhost:8080/"
    },
    "executionInfo": {
     "elapsed": 7,
     "status": "ok",
     "timestamp": 1737033384845,
     "user": {
      "displayName": "Gaspar Manzini",
      "userId": "04945097798978388435"
     },
     "user_tz": -60
    },
    "id": "1CVJYuapKqbg",
    "outputId": "9c1ce6c6-e305-40a0-fa69-83351ccecfe3"
   },
   "outputs": [
    {
     "name": "stdout",
     "output_type": "stream",
     "text": [
      "['ACCESORIES_1' 'ACCESORIES_2' 'HOME_&_GARDEN_1' 'HOME_&_GARDEN_2'\n",
      " 'SUPERMARKET_1' 'SUPERMARKET_2' 'SUPERMARKET_3']\n"
     ]
    }
   ],
   "source": [
    "departments = df_sales_original['department'].unique()\n",
    "print(departments)"
   ]
  },
  {
   "cell_type": "code",
   "execution_count": 234,
   "metadata": {
    "colab": {
     "base_uri": "https://localhost:8080/"
    },
    "executionInfo": {
     "elapsed": 6,
     "status": "ok",
     "timestamp": 1737033384845,
     "user": {
      "displayName": "Gaspar Manzini",
      "userId": "04945097798978388435"
     },
     "user_tz": -60
    },
    "id": "jsNCpjlUM-T4",
    "outputId": "7c6c083b-1a36-4879-892b-0f872e352396"
   },
   "outputs": [
    {
     "name": "stdout",
     "output_type": "stream",
     "text": [
      "['Greenwich_Village' 'Harlem' 'Tribeca' 'Brooklyn' 'South_End' 'Roxbury'\n",
      " 'Back_Bay' 'Midtown_Village' 'Yorktown' 'Queen_Village']\n"
     ]
    }
   ],
   "source": [
    "stores = df_sales_original['store'].unique()\n",
    "print(stores)"
   ]
  },
  {
   "cell_type": "code",
   "execution_count": 235,
   "metadata": {
    "colab": {
     "base_uri": "https://localhost:8080/"
    },
    "executionInfo": {
     "elapsed": 4,
     "status": "ok",
     "timestamp": 1737033384845,
     "user": {
      "displayName": "Gaspar Manzini",
      "userId": "04945097798978388435"
     },
     "user_tz": -60
    },
    "id": "egMZDnwKNBS1",
    "outputId": "009c2dd5-ba3f-492f-d961-003885f2bfbb"
   },
   "outputs": [
    {
     "name": "stdout",
     "output_type": "stream",
     "text": [
      "['New York' 'Boston' 'Philadelphia']\n"
     ]
    }
   ],
   "source": [
    "regions = df_sales_original['region'].unique()\n",
    "print(regions)"
   ]
  },
  {
   "cell_type": "markdown",
   "metadata": {},
   "source": []
  },
  {
   "cell_type": "markdown",
   "metadata": {
    "id": "zZs9TMNGf_xv"
   },
   "source": [
    "#### 3.3. df_price"
   ]
  },
  {
   "cell_type": "markdown",
   "metadata": {
    "id": "TdHIxRRkhh0W"
   },
   "source": [
    "- Luego de un check ampliando la tabla y viendo \"items\" aleatorios se puede observar que en la columna yearweek los valores estan ordenados de forma descendente en yearweer y ordenados por item, category y store_code, por lo que se podrian completar las lineas faltantes como fechas consecutivas\n",
    "- Se podria incluir la columna \"sell_price\" en el df_sales ya que aqui tambien tenemos \"item\", \"store_code\", solo nos faltaria agregar el yearweek en df_sales\n",
    "- Se observa que hay 279 semanas, 6 semanas mas que la cantidad de dias dividido 7 en el calendar\n",
    "- Se observa que el valor maximo en yearweek para todas las combinaciones de item y store_code es siempre 201716 por lo que se pueden eliminar los valores nulos\n",
    "- Se observo que hay una variacion grande en el item HOME_&_GARDEN_2_406 en la tienda PHI_3 por lo que se cambiaron por la moda para ese item y tienda"
   ]
  },
  {
   "cell_type": "code",
   "execution_count": 236,
   "metadata": {
    "colab": {
     "base_uri": "https://localhost:8080/",
     "height": 423
    },
    "executionInfo": {
     "elapsed": 179,
     "status": "ok",
     "timestamp": 1737033385748,
     "user": {
      "displayName": "Gaspar Manzini",
      "userId": "04945097798978388435"
     },
     "user_tz": -60
    },
    "id": "pa51HXrdgMo1",
    "outputId": "20b710bb-546c-4356-e5e5-066acdc188e9"
   },
   "outputs": [
    {
     "data": {
      "text/html": [
       "<div>\n",
       "<style scoped>\n",
       "    .dataframe tbody tr th:only-of-type {\n",
       "        vertical-align: middle;\n",
       "    }\n",
       "\n",
       "    .dataframe tbody tr th {\n",
       "        vertical-align: top;\n",
       "    }\n",
       "\n",
       "    .dataframe thead th {\n",
       "        text-align: right;\n",
       "    }\n",
       "</style>\n",
       "<table border=\"1\" class=\"dataframe\">\n",
       "  <thead>\n",
       "    <tr style=\"text-align: right;\">\n",
       "      <th></th>\n",
       "      <th>item</th>\n",
       "      <th>category</th>\n",
       "      <th>store_code</th>\n",
       "      <th>yearweek</th>\n",
       "      <th>sell_price</th>\n",
       "    </tr>\n",
       "  </thead>\n",
       "  <tbody>\n",
       "    <tr>\n",
       "      <th>0</th>\n",
       "      <td>ACCESORIES_1_001</td>\n",
       "      <td>ACCESORIES</td>\n",
       "      <td>NYC_1</td>\n",
       "      <td>201328.0</td>\n",
       "      <td>12.7414</td>\n",
       "    </tr>\n",
       "    <tr>\n",
       "      <th>1</th>\n",
       "      <td>ACCESORIES_1_001</td>\n",
       "      <td>ACCESORIES</td>\n",
       "      <td>NYC_1</td>\n",
       "      <td>201329.0</td>\n",
       "      <td>12.7414</td>\n",
       "    </tr>\n",
       "    <tr>\n",
       "      <th>2</th>\n",
       "      <td>ACCESORIES_1_001</td>\n",
       "      <td>ACCESORIES</td>\n",
       "      <td>NYC_1</td>\n",
       "      <td>201330.0</td>\n",
       "      <td>10.9858</td>\n",
       "    </tr>\n",
       "    <tr>\n",
       "      <th>3</th>\n",
       "      <td>ACCESORIES_1_001</td>\n",
       "      <td>ACCESORIES</td>\n",
       "      <td>NYC_1</td>\n",
       "      <td>201331.0</td>\n",
       "      <td>10.9858</td>\n",
       "    </tr>\n",
       "    <tr>\n",
       "      <th>4</th>\n",
       "      <td>ACCESORIES_1_001</td>\n",
       "      <td>ACCESORIES</td>\n",
       "      <td>NYC_1</td>\n",
       "      <td>201332.0</td>\n",
       "      <td>10.9858</td>\n",
       "    </tr>\n",
       "    <tr>\n",
       "      <th>...</th>\n",
       "      <td>...</td>\n",
       "      <td>...</td>\n",
       "      <td>...</td>\n",
       "      <td>...</td>\n",
       "      <td>...</td>\n",
       "    </tr>\n",
       "    <tr>\n",
       "      <th>6965701</th>\n",
       "      <td>SUPERMARKET_3_827</td>\n",
       "      <td>SUPERMARKET</td>\n",
       "      <td>PHI_3</td>\n",
       "      <td>NaN</td>\n",
       "      <td>1.2000</td>\n",
       "    </tr>\n",
       "    <tr>\n",
       "      <th>6965702</th>\n",
       "      <td>SUPERMARKET_3_827</td>\n",
       "      <td>SUPERMARKET</td>\n",
       "      <td>PHI_3</td>\n",
       "      <td>NaN</td>\n",
       "      <td>1.2000</td>\n",
       "    </tr>\n",
       "    <tr>\n",
       "      <th>6965703</th>\n",
       "      <td>SUPERMARKET_3_827</td>\n",
       "      <td>SUPERMARKET</td>\n",
       "      <td>PHI_3</td>\n",
       "      <td>NaN</td>\n",
       "      <td>1.2000</td>\n",
       "    </tr>\n",
       "    <tr>\n",
       "      <th>6965704</th>\n",
       "      <td>SUPERMARKET_3_827</td>\n",
       "      <td>SUPERMARKET</td>\n",
       "      <td>PHI_3</td>\n",
       "      <td>NaN</td>\n",
       "      <td>1.2000</td>\n",
       "    </tr>\n",
       "    <tr>\n",
       "      <th>6965705</th>\n",
       "      <td>SUPERMARKET_3_827</td>\n",
       "      <td>SUPERMARKET</td>\n",
       "      <td>PHI_3</td>\n",
       "      <td>NaN</td>\n",
       "      <td>1.2000</td>\n",
       "    </tr>\n",
       "  </tbody>\n",
       "</table>\n",
       "<p>6965706 rows × 5 columns</p>\n",
       "</div>"
      ],
      "text/plain": [
       "                      item     category store_code  yearweek  sell_price\n",
       "0         ACCESORIES_1_001   ACCESORIES      NYC_1  201328.0     12.7414\n",
       "1         ACCESORIES_1_001   ACCESORIES      NYC_1  201329.0     12.7414\n",
       "2         ACCESORIES_1_001   ACCESORIES      NYC_1  201330.0     10.9858\n",
       "3         ACCESORIES_1_001   ACCESORIES      NYC_1  201331.0     10.9858\n",
       "4         ACCESORIES_1_001   ACCESORIES      NYC_1  201332.0     10.9858\n",
       "...                    ...          ...        ...       ...         ...\n",
       "6965701  SUPERMARKET_3_827  SUPERMARKET      PHI_3       NaN      1.2000\n",
       "6965702  SUPERMARKET_3_827  SUPERMARKET      PHI_3       NaN      1.2000\n",
       "6965703  SUPERMARKET_3_827  SUPERMARKET      PHI_3       NaN      1.2000\n",
       "6965704  SUPERMARKET_3_827  SUPERMARKET      PHI_3       NaN      1.2000\n",
       "6965705  SUPERMARKET_3_827  SUPERMARKET      PHI_3       NaN      1.2000\n",
       "\n",
       "[6965706 rows x 5 columns]"
      ]
     },
     "execution_count": 236,
     "metadata": {},
     "output_type": "execute_result"
    }
   ],
   "source": [
    "df_prices"
   ]
  },
  {
   "cell_type": "code",
   "execution_count": 237,
   "metadata": {
    "colab": {
     "base_uri": "https://localhost:8080/",
     "height": 178
    },
    "executionInfo": {
     "elapsed": 2887,
     "status": "ok",
     "timestamp": 1737033388805,
     "user": {
      "displayName": "Gaspar Manzini",
      "userId": "04945097798978388435"
     },
     "user_tz": -60
    },
    "id": "8MetygKMJ8Dt",
    "outputId": "1d1e3c1a-306b-4ce6-b257-c8da1e1bf138"
   },
   "outputs": [
    {
     "data": {
      "text/plain": [
       "item   category  store_code  yearweek  sell_price\n",
       "False  False     False       False     False         6721786\n",
       "                             True      False          243920\n",
       "Name: count, dtype: int64"
      ]
     },
     "execution_count": 237,
     "metadata": {},
     "output_type": "execute_result"
    }
   ],
   "source": [
    "df_prices.isnull().value_counts()"
   ]
  },
  {
   "cell_type": "code",
   "execution_count": 238,
   "metadata": {},
   "outputs": [
    {
     "data": {
      "text/plain": [
       "212120"
      ]
     },
     "execution_count": 238,
     "metadata": {},
     "output_type": "execute_result"
    }
   ],
   "source": [
    "df_prices.duplicated().sum()"
   ]
  },
  {
   "cell_type": "code",
   "execution_count": 239,
   "metadata": {},
   "outputs": [],
   "source": [
    "duplicados_todos = df_prices[df_prices.duplicated(keep=False)]"
   ]
  },
  {
   "cell_type": "code",
   "execution_count": 240,
   "metadata": {},
   "outputs": [
    {
     "data": {
      "text/plain": [
       "array([nan])"
      ]
     },
     "execution_count": 240,
     "metadata": {},
     "output_type": "execute_result"
    }
   ],
   "source": [
    "duplicados_todos['yearweek'].unique()"
   ]
  },
  {
   "cell_type": "code",
   "execution_count": 241,
   "metadata": {
    "colab": {
     "base_uri": "https://localhost:8080/"
    },
    "executionInfo": {
     "elapsed": 466,
     "status": "ok",
     "timestamp": 1737033389268,
     "user": {
      "displayName": "Gaspar Manzini",
      "userId": "04945097798978388435"
     },
     "user_tz": -60
    },
    "id": "rmJyqdd0JaMA",
    "outputId": "4eb58e2b-2d48-45a2-d82b-b2603249073b"
   },
   "outputs": [
    {
     "name": "stdout",
     "output_type": "stream",
     "text": [
      "['ACCESORIES_1_001' 'ACCESORIES_1_002' 'ACCESORIES_1_003' ...\n",
      " 'SUPERMARKET_3_825' 'SUPERMARKET_3_826' 'SUPERMARKET_3_827']\n"
     ]
    }
   ],
   "source": [
    "items = df_prices['item'].unique()\n",
    "print(items)"
   ]
  },
  {
   "cell_type": "code",
   "execution_count": 242,
   "metadata": {},
   "outputs": [
    {
     "data": {
      "text/plain": [
       "array([201328., 201329., 201330., 201331., 201332., 201333., 201334.,\n",
       "       201335., 201336., 201337., 201338., 201339., 201340., 201341.,\n",
       "       201342., 201343., 201344., 201345., 201346., 201347., 201348.,\n",
       "       201349., 201350., 201351., 201352., 201400., 201401., 201402.,\n",
       "       201403., 201404., 201405., 201406., 201407., 201408., 201409.,\n",
       "       201410., 201411., 201412., 201413., 201414., 201415., 201416.,\n",
       "       201417., 201418., 201419., 201420., 201421., 201422., 201423.,\n",
       "       201424., 201425., 201426., 201427., 201428., 201429., 201430.,\n",
       "       201431., 201432., 201433., 201434., 201435., 201436., 201437.,\n",
       "       201438., 201439., 201440., 201441., 201442., 201443., 201444.,\n",
       "       201445., 201446., 201447., 201448., 201449., 201450., 201451.,\n",
       "       201452., 201500., 201501., 201502., 201503., 201504., 201505.,\n",
       "       201506., 201507., 201508., 201509., 201510., 201511., 201512.,\n",
       "       201513., 201514., 201515., 201516., 201517., 201518., 201519.,\n",
       "       201520., 201521., 201522., 201523., 201524., 201525., 201526.,\n",
       "       201527., 201528., 201529., 201530., 201531., 201532., 201533.,\n",
       "       201534., 201535., 201536., 201537., 201538., 201539., 201540.,\n",
       "       201541., 201542., 201543., 201544., 201545., 201546., 201547.,\n",
       "       201548., 201549., 201550., 201551., 201552., 201600., 201601.,\n",
       "       201602., 201603., 201604., 201605., 201606., 201607., 201608.,\n",
       "       201609., 201610., 201611., 201612., 201613., 201614., 201615.,\n",
       "       201616., 201617.,     nan, 201125., 201126., 201127., 201128.,\n",
       "       201129., 201130., 201131., 201132., 201133., 201134., 201135.,\n",
       "       201136., 201137., 201138., 201139., 201140., 201141., 201142.,\n",
       "       201143., 201144., 201145., 201146., 201147., 201148., 201149.,\n",
       "       201150., 201151., 201152., 201200., 201201., 201202., 201203.,\n",
       "       201204., 201205., 201206., 201207., 201208., 201209., 201210.,\n",
       "       201211., 201212., 201213., 201214., 201215., 201216., 201217.,\n",
       "       201218., 201219., 201220., 201221., 201222., 201223., 201224.,\n",
       "       201225., 201226., 201227., 201228., 201229., 201230., 201231.,\n",
       "       201232., 201233., 201234., 201235., 201236., 201237., 201238.,\n",
       "       201239., 201240., 201241., 201242., 201243., 201244., 201245.,\n",
       "       201246., 201247., 201248., 201249., 201250., 201251., 201252.,\n",
       "       201253., 201300., 201301., 201302., 201303., 201304., 201305.,\n",
       "       201306., 201307., 201308., 201309., 201310., 201311., 201312.,\n",
       "       201313., 201314., 201315., 201316., 201317., 201318., 201319.,\n",
       "       201320., 201321., 201322., 201323., 201324., 201325., 201326.,\n",
       "       201327., 201110., 201111., 201112., 201113., 201114., 201115.,\n",
       "       201116., 201117., 201118., 201119., 201120., 201121., 201122.,\n",
       "       201123., 201124., 201105., 201106., 201107., 201108., 201109.])"
      ]
     },
     "execution_count": 242,
     "metadata": {},
     "output_type": "execute_result"
    }
   ],
   "source": [
    "df_prices['yearweek'].unique()"
   ]
  },
  {
   "cell_type": "code",
   "execution_count": 243,
   "metadata": {},
   "outputs": [
    {
     "data": {
      "text/plain": [
       "279"
      ]
     },
     "execution_count": 243,
     "metadata": {},
     "output_type": "execute_result"
    }
   ],
   "source": [
    "#cantidad de semanas\n",
    "\n",
    "df_prices['yearweek'].nunique()"
   ]
  },
  {
   "cell_type": "code",
   "execution_count": 244,
   "metadata": {},
   "outputs": [],
   "source": [
    "df_prices_semanas = df_prices.copy()"
   ]
  },
  {
   "cell_type": "code",
   "execution_count": 245,
   "metadata": {},
   "outputs": [],
   "source": [
    "df_prices_semanas.dropna(inplace=True)"
   ]
  },
  {
   "cell_type": "code",
   "execution_count": 246,
   "metadata": {},
   "outputs": [],
   "source": [
    "df_prices_semanas['yearweek'] = df_prices_semanas['yearweek'].astype(int)\n",
    "df_prices_semanas['yearweek'] = df_prices_semanas['yearweek'].astype(str)"
   ]
  },
  {
   "cell_type": "code",
   "execution_count": 247,
   "metadata": {},
   "outputs": [],
   "source": [
    "df_prices_semanas['year'] = df_prices_semanas['yearweek'].str[:4] \n",
    "df_prices_semanas['week'] = df_prices_semanas['yearweek'].str[4:]"
   ]
  },
  {
   "cell_type": "code",
   "execution_count": 248,
   "metadata": {},
   "outputs": [],
   "source": [
    "cant_semanas_año = df_prices_semanas.groupby('year')['week'].max()"
   ]
  },
  {
   "cell_type": "code",
   "execution_count": 249,
   "metadata": {},
   "outputs": [
    {
     "data": {
      "text/plain": [
       "year\n",
       "2011    52\n",
       "2012    53\n",
       "2013    52\n",
       "2014    52\n",
       "2015    52\n",
       "2016    17\n",
       "Name: week, dtype: object"
      ]
     },
     "execution_count": 249,
     "metadata": {},
     "output_type": "execute_result"
    }
   ],
   "source": [
    "cant_semanas_año"
   ]
  },
  {
   "cell_type": "code",
   "execution_count": 250,
   "metadata": {},
   "outputs": [
    {
     "data": {
      "text/plain": [
       "item               store_code\n",
       "ACCESORIES_1_001   BOS_1         3\n",
       "                   BOS_2         2\n",
       "                   BOS_3         3\n",
       "                   NYC_1         3\n",
       "                   NYC_2         2\n",
       "                                ..\n",
       "SUPERMARKET_3_827  NYC_3         1\n",
       "                   NYC_4         1\n",
       "                   PHI_1         1\n",
       "                   PHI_2         1\n",
       "                   PHI_3         1\n",
       "Name: sell_price, Length: 30490, dtype: int64"
      ]
     },
     "execution_count": 250,
     "metadata": {},
     "output_type": "execute_result"
    }
   ],
   "source": [
    "cantidad_precios = df_prices.groupby(['item', 'store_code'])['sell_price'].nunique()\n",
    "cantidad_precios"
   ]
  },
  {
   "cell_type": "code",
   "execution_count": 251,
   "metadata": {},
   "outputs": [],
   "source": [
    "precios_unicos = df_prices.groupby(['item', 'store_code'])['sell_price'].nunique()\n",
    "\n",
    "precios_que_varian = precios_unicos[precios_unicos > 1]\n"
   ]
  },
  {
   "cell_type": "code",
   "execution_count": 252,
   "metadata": {},
   "outputs": [
    {
     "data": {
      "text/plain": [
       "item               store_code\n",
       "ACCESORIES_1_001   BOS_1         3\n",
       "                   BOS_2         2\n",
       "                   BOS_3         3\n",
       "                   NYC_1         3\n",
       "                   NYC_2         2\n",
       "                                ..\n",
       "SUPERMARKET_3_825  PHI_1         4\n",
       "                   PHI_2         3\n",
       "                   PHI_3         3\n",
       "SUPERMARKET_3_826  BOS_1         2\n",
       "SUPERMARKET_3_827  BOS_3         2\n",
       "Name: sell_price, Length: 22243, dtype: int64"
      ]
     },
     "execution_count": 252,
     "metadata": {},
     "output_type": "execute_result"
    }
   ],
   "source": [
    "precios_que_varian"
   ]
  },
  {
   "cell_type": "code",
   "execution_count": 253,
   "metadata": {},
   "outputs": [],
   "source": [
    "max_yearweek = df_prices.groupby([\"item\", \"store_code\"])[\"yearweek\"].max().reset_index()\n",
    "\n",
    "incorrect_combinations = max_yearweek[max_yearweek[\"yearweek\"] != 201617]"
   ]
  },
  {
   "cell_type": "code",
   "execution_count": 254,
   "metadata": {},
   "outputs": [
    {
     "data": {
      "text/html": [
       "<div>\n",
       "<style scoped>\n",
       "    .dataframe tbody tr th:only-of-type {\n",
       "        vertical-align: middle;\n",
       "    }\n",
       "\n",
       "    .dataframe tbody tr th {\n",
       "        vertical-align: top;\n",
       "    }\n",
       "\n",
       "    .dataframe thead th {\n",
       "        text-align: right;\n",
       "    }\n",
       "</style>\n",
       "<table border=\"1\" class=\"dataframe\">\n",
       "  <thead>\n",
       "    <tr style=\"text-align: right;\">\n",
       "      <th></th>\n",
       "      <th>item</th>\n",
       "      <th>store_code</th>\n",
       "      <th>yearweek</th>\n",
       "    </tr>\n",
       "  </thead>\n",
       "  <tbody>\n",
       "  </tbody>\n",
       "</table>\n",
       "</div>"
      ],
      "text/plain": [
       "Empty DataFrame\n",
       "Columns: [item, store_code, yearweek]\n",
       "Index: []"
      ]
     },
     "execution_count": 254,
     "metadata": {},
     "output_type": "execute_result"
    }
   ],
   "source": [
    "incorrect_combinations"
   ]
  },
  {
   "cell_type": "code",
   "execution_count": 255,
   "metadata": {},
   "outputs": [
    {
     "data": {
      "image/png": "[encoded data removed]",
      "text/plain": [
       "<Figure size 1200x600 with 1 Axes>"
      ]
     },
     "metadata": {},
     "output_type": "display_data"
    }
   ],
   "source": [
    "plt.figure(figsize=(12, 6))\n",
    "sns.boxplot(x=\"category\", y=\"sell_price\", data=df_prices)\n",
    "plt.xticks(rotation=45)\n",
    "plt.title(\"Distribución de precios por categoría\")\n",
    "plt.show()\n",
    "     "
   ]
  },
  {
   "cell_type": "code",
   "execution_count": 256,
   "metadata": {},
   "outputs": [],
   "source": [
    "df_prices_check = df_prices[(df_prices[\"category\"] == \"HOME_&_GARDEN\") & (df_prices[\"sell_price\"] > 75)]"
   ]
  },
  {
   "cell_type": "code",
   "execution_count": 257,
   "metadata": {},
   "outputs": [
    {
     "data": {
      "text/html": [
       "<div>\n",
       "<style scoped>\n",
       "    .dataframe tbody tr th:only-of-type {\n",
       "        vertical-align: middle;\n",
       "    }\n",
       "\n",
       "    .dataframe tbody tr th {\n",
       "        vertical-align: top;\n",
       "    }\n",
       "\n",
       "    .dataframe thead th {\n",
       "        text-align: right;\n",
       "    }\n",
       "</style>\n",
       "<table border=\"1\" class=\"dataframe\">\n",
       "  <thead>\n",
       "    <tr style=\"text-align: right;\">\n",
       "      <th></th>\n",
       "      <th>item</th>\n",
       "      <th>category</th>\n",
       "      <th>store_code</th>\n",
       "      <th>yearweek</th>\n",
       "      <th>sell_price</th>\n",
       "    </tr>\n",
       "  </thead>\n",
       "  <tbody>\n",
       "    <tr>\n",
       "      <th>5910991</th>\n",
       "      <td>HOME_&amp;_GARDEN_2_406</td>\n",
       "      <td>HOME_&amp;_GARDEN</td>\n",
       "      <td>PHI_2</td>\n",
       "      <td>201241.0</td>\n",
       "      <td>76.825</td>\n",
       "    </tr>\n",
       "    <tr>\n",
       "      <th>5910992</th>\n",
       "      <td>HOME_&amp;_GARDEN_2_406</td>\n",
       "      <td>HOME_&amp;_GARDEN</td>\n",
       "      <td>PHI_2</td>\n",
       "      <td>201242.0</td>\n",
       "      <td>76.825</td>\n",
       "    </tr>\n",
       "    <tr>\n",
       "      <th>5910993</th>\n",
       "      <td>HOME_&amp;_GARDEN_2_406</td>\n",
       "      <td>HOME_&amp;_GARDEN</td>\n",
       "      <td>PHI_2</td>\n",
       "      <td>201243.0</td>\n",
       "      <td>76.825</td>\n",
       "    </tr>\n",
       "    <tr>\n",
       "      <th>5910994</th>\n",
       "      <td>HOME_&amp;_GARDEN_2_406</td>\n",
       "      <td>HOME_&amp;_GARDEN</td>\n",
       "      <td>PHI_2</td>\n",
       "      <td>201244.0</td>\n",
       "      <td>76.825</td>\n",
       "    </tr>\n",
       "    <tr>\n",
       "      <th>5910995</th>\n",
       "      <td>HOME_&amp;_GARDEN_2_406</td>\n",
       "      <td>HOME_&amp;_GARDEN</td>\n",
       "      <td>PHI_2</td>\n",
       "      <td>201245.0</td>\n",
       "      <td>76.825</td>\n",
       "    </tr>\n",
       "    <tr>\n",
       "      <th>5910996</th>\n",
       "      <td>HOME_&amp;_GARDEN_2_406</td>\n",
       "      <td>HOME_&amp;_GARDEN</td>\n",
       "      <td>PHI_2</td>\n",
       "      <td>201246.0</td>\n",
       "      <td>76.825</td>\n",
       "    </tr>\n",
       "    <tr>\n",
       "      <th>5910997</th>\n",
       "      <td>HOME_&amp;_GARDEN_2_406</td>\n",
       "      <td>HOME_&amp;_GARDEN</td>\n",
       "      <td>PHI_2</td>\n",
       "      <td>201247.0</td>\n",
       "      <td>76.825</td>\n",
       "    </tr>\n",
       "    <tr>\n",
       "      <th>5910998</th>\n",
       "      <td>HOME_&amp;_GARDEN_2_406</td>\n",
       "      <td>HOME_&amp;_GARDEN</td>\n",
       "      <td>PHI_2</td>\n",
       "      <td>201248.0</td>\n",
       "      <td>76.825</td>\n",
       "    </tr>\n",
       "    <tr>\n",
       "      <th>5910999</th>\n",
       "      <td>HOME_&amp;_GARDEN_2_406</td>\n",
       "      <td>HOME_&amp;_GARDEN</td>\n",
       "      <td>PHI_2</td>\n",
       "      <td>201249.0</td>\n",
       "      <td>76.825</td>\n",
       "    </tr>\n",
       "    <tr>\n",
       "      <th>5911000</th>\n",
       "      <td>HOME_&amp;_GARDEN_2_406</td>\n",
       "      <td>HOME_&amp;_GARDEN</td>\n",
       "      <td>PHI_2</td>\n",
       "      <td>201250.0</td>\n",
       "      <td>76.825</td>\n",
       "    </tr>\n",
       "    <tr>\n",
       "      <th>5911001</th>\n",
       "      <td>HOME_&amp;_GARDEN_2_406</td>\n",
       "      <td>HOME_&amp;_GARDEN</td>\n",
       "      <td>PHI_2</td>\n",
       "      <td>201251.0</td>\n",
       "      <td>76.825</td>\n",
       "    </tr>\n",
       "    <tr>\n",
       "      <th>5911002</th>\n",
       "      <td>HOME_&amp;_GARDEN_2_406</td>\n",
       "      <td>HOME_&amp;_GARDEN</td>\n",
       "      <td>PHI_2</td>\n",
       "      <td>201252.0</td>\n",
       "      <td>76.825</td>\n",
       "    </tr>\n",
       "    <tr>\n",
       "      <th>5911003</th>\n",
       "      <td>HOME_&amp;_GARDEN_2_406</td>\n",
       "      <td>HOME_&amp;_GARDEN</td>\n",
       "      <td>PHI_2</td>\n",
       "      <td>201253.0</td>\n",
       "      <td>76.825</td>\n",
       "    </tr>\n",
       "    <tr>\n",
       "      <th>5911004</th>\n",
       "      <td>HOME_&amp;_GARDEN_2_406</td>\n",
       "      <td>HOME_&amp;_GARDEN</td>\n",
       "      <td>PHI_2</td>\n",
       "      <td>201300.0</td>\n",
       "      <td>76.825</td>\n",
       "    </tr>\n",
       "    <tr>\n",
       "      <th>6604082</th>\n",
       "      <td>HOME_&amp;_GARDEN_2_406</td>\n",
       "      <td>HOME_&amp;_GARDEN</td>\n",
       "      <td>PHI_3</td>\n",
       "      <td>201320.0</td>\n",
       "      <td>134.150</td>\n",
       "    </tr>\n",
       "    <tr>\n",
       "      <th>6604083</th>\n",
       "      <td>HOME_&amp;_GARDEN_2_406</td>\n",
       "      <td>HOME_&amp;_GARDEN</td>\n",
       "      <td>PHI_3</td>\n",
       "      <td>201321.0</td>\n",
       "      <td>134.150</td>\n",
       "    </tr>\n",
       "    <tr>\n",
       "      <th>6604084</th>\n",
       "      <td>HOME_&amp;_GARDEN_2_406</td>\n",
       "      <td>HOME_&amp;_GARDEN</td>\n",
       "      <td>PHI_3</td>\n",
       "      <td>201322.0</td>\n",
       "      <td>134.150</td>\n",
       "    </tr>\n",
       "  </tbody>\n",
       "</table>\n",
       "</div>"
      ],
      "text/plain": [
       "                        item       category store_code  yearweek  sell_price\n",
       "5910991  HOME_&_GARDEN_2_406  HOME_&_GARDEN      PHI_2  201241.0      76.825\n",
       "5910992  HOME_&_GARDEN_2_406  HOME_&_GARDEN      PHI_2  201242.0      76.825\n",
       "5910993  HOME_&_GARDEN_2_406  HOME_&_GARDEN      PHI_2  201243.0      76.825\n",
       "5910994  HOME_&_GARDEN_2_406  HOME_&_GARDEN      PHI_2  201244.0      76.825\n",
       "5910995  HOME_&_GARDEN_2_406  HOME_&_GARDEN      PHI_2  201245.0      76.825\n",
       "5910996  HOME_&_GARDEN_2_406  HOME_&_GARDEN      PHI_2  201246.0      76.825\n",
       "5910997  HOME_&_GARDEN_2_406  HOME_&_GARDEN      PHI_2  201247.0      76.825\n",
       "5910998  HOME_&_GARDEN_2_406  HOME_&_GARDEN      PHI_2  201248.0      76.825\n",
       "5910999  HOME_&_GARDEN_2_406  HOME_&_GARDEN      PHI_2  201249.0      76.825\n",
       "5911000  HOME_&_GARDEN_2_406  HOME_&_GARDEN      PHI_2  201250.0      76.825\n",
       "5911001  HOME_&_GARDEN_2_406  HOME_&_GARDEN      PHI_2  201251.0      76.825\n",
       "5911002  HOME_&_GARDEN_2_406  HOME_&_GARDEN      PHI_2  201252.0      76.825\n",
       "5911003  HOME_&_GARDEN_2_406  HOME_&_GARDEN      PHI_2  201253.0      76.825\n",
       "5911004  HOME_&_GARDEN_2_406  HOME_&_GARDEN      PHI_2  201300.0      76.825\n",
       "6604082  HOME_&_GARDEN_2_406  HOME_&_GARDEN      PHI_3  201320.0     134.150\n",
       "6604083  HOME_&_GARDEN_2_406  HOME_&_GARDEN      PHI_3  201321.0     134.150\n",
       "6604084  HOME_&_GARDEN_2_406  HOME_&_GARDEN      PHI_3  201322.0     134.150"
      ]
     },
     "execution_count": 257,
     "metadata": {},
     "output_type": "execute_result"
    }
   ],
   "source": [
    "df_prices_check"
   ]
  },
  {
   "cell_type": "code",
   "execution_count": 258,
   "metadata": {},
   "outputs": [],
   "source": [
    "df_pr_check = df_prices[\n",
    "    (df_prices[\"item\"] == \"HOME_&_GARDEN_2_406\") & \n",
    "    (df_prices[\"store_code\"].isin([ \"PHI_3\"]))\n",
    "]"
   ]
  },
  {
   "cell_type": "code",
   "execution_count": 259,
   "metadata": {},
   "outputs": [
    {
     "data": {
      "text/plain": [
       "store_code\n",
       "PHI_3    [15.5875, 4.074999999999999, 15.575, 134.14999999999998]\n",
       "Name: sell_price, dtype: object"
      ]
     },
     "execution_count": 259,
     "metadata": {},
     "output_type": "execute_result"
    }
   ],
   "source": [
    "pd.set_option('display.max_colwidth', None) \n",
    "df_pr_check.groupby('store_code')['sell_price'].unique()"
   ]
  },
  {
   "cell_type": "code",
   "execution_count": 260,
   "metadata": {},
   "outputs": [],
   "source": [
    "pd.reset_option('display.max_colwidth')"
   ]
  },
  {
   "cell_type": "code",
   "execution_count": 261,
   "metadata": {},
   "outputs": [
    {
     "data": {
      "text/plain": [
       "0    15.575\n",
       "Name: sell_price, dtype: float64"
      ]
     },
     "execution_count": 261,
     "metadata": {},
     "output_type": "execute_result"
    }
   ],
   "source": [
    "moda_valor = df_prices.loc[(df_prices['store_code'] == 'PHI_3') & \n",
    "                           (df_prices['item'] == 'HOME_&_GARDEN_2_406'), 'sell_price'].mode()\n",
    "moda_valor"
   ]
  },
  {
   "cell_type": "code",
   "execution_count": 262,
   "metadata": {},
   "outputs": [
    {
     "data": {
      "text/plain": [
       "134.14999999999998"
      ]
     },
     "execution_count": 262,
     "metadata": {},
     "output_type": "execute_result"
    }
   ],
   "source": [
    "max_precio = df_prices.loc[(df_prices['store_code'] == 'PHI_3') & \n",
    "                           (df_prices['item'] == 'HOME_&_GARDEN_2_406'), 'sell_price'].max()\n",
    "max_precio"
   ]
  },
  {
   "cell_type": "code",
   "execution_count": 263,
   "metadata": {},
   "outputs": [],
   "source": [
    "df_prices.loc[(df_prices['store_code'] == 'PHI_3') & \n",
    "              (df_prices['item'] == 'HOME_&_GARDEN_2_406') & \n",
    "              (df_prices['sell_price'] == max_precio), 'sell_price'] = moda_valor"
   ]
  },
  {
   "cell_type": "code",
   "execution_count": 316,
   "metadata": {},
   "outputs": [
    {
     "data": {
      "text/html": [
       "<div>\n",
       "<style scoped>\n",
       "    .dataframe tbody tr th:only-of-type {\n",
       "        vertical-align: middle;\n",
       "    }\n",
       "\n",
       "    .dataframe tbody tr th {\n",
       "        vertical-align: top;\n",
       "    }\n",
       "\n",
       "    .dataframe thead th {\n",
       "        text-align: right;\n",
       "    }\n",
       "</style>\n",
       "<table border=\"1\" class=\"dataframe\">\n",
       "  <thead>\n",
       "    <tr style=\"text-align: right;\">\n",
       "      <th></th>\n",
       "      <th>item</th>\n",
       "      <th>category</th>\n",
       "      <th>store_code</th>\n",
       "      <th>yearweek</th>\n",
       "      <th>sell_price</th>\n",
       "    </tr>\n",
       "  </thead>\n",
       "  <tbody>\n",
       "  </tbody>\n",
       "</table>\n",
       "</div>"
      ],
      "text/plain": [
       "Empty DataFrame\n",
       "Columns: [item, category, store_code, yearweek, sell_price]\n",
       "Index: []"
      ]
     },
     "execution_count": 316,
     "metadata": {},
     "output_type": "execute_result"
    }
   ],
   "source": [
    "df_prices_check2 = df_prices[(df_prices[\"category\"] == \"HOME_&_GARDEN\") & (df_prices[\"sell_price\"] > 100)]\n",
    "df_prices_check2"
   ]
  },
  {
   "cell_type": "code",
   "execution_count": 265,
   "metadata": {
    "colab": {
     "base_uri": "https://localhost:8080/",
     "height": 1000
    },
    "executionInfo": {
     "elapsed": 882,
     "status": "ok",
     "timestamp": 1737033390513,
     "user": {
      "displayName": "Gaspar Manzini",
      "userId": "04945097798978388435"
     },
     "user_tz": -60
    },
    "id": "PoK7KOv3I0yx",
    "outputId": "bc6cc8ff-db7c-4f71-dcdd-488f7dd41cec"
   },
   "outputs": [
    {
     "data": {
      "text/html": [
       "<div>\n",
       "<style scoped>\n",
       "    .dataframe tbody tr th:only-of-type {\n",
       "        vertical-align: middle;\n",
       "    }\n",
       "\n",
       "    .dataframe tbody tr th {\n",
       "        vertical-align: top;\n",
       "    }\n",
       "\n",
       "    .dataframe thead th {\n",
       "        text-align: right;\n",
       "    }\n",
       "</style>\n",
       "<table border=\"1\" class=\"dataframe\">\n",
       "  <thead>\n",
       "    <tr style=\"text-align: right;\">\n",
       "      <th></th>\n",
       "      <th>item</th>\n",
       "      <th>category</th>\n",
       "      <th>store_code</th>\n",
       "      <th>yearweek</th>\n",
       "      <th>sell_price</th>\n",
       "    </tr>\n",
       "  </thead>\n",
       "  <tbody>\n",
       "    <tr>\n",
       "      <th>0</th>\n",
       "      <td>ACCESORIES_1_001</td>\n",
       "      <td>ACCESORIES</td>\n",
       "      <td>NYC_1</td>\n",
       "      <td>201328.0</td>\n",
       "      <td>12.7414</td>\n",
       "    </tr>\n",
       "    <tr>\n",
       "      <th>1</th>\n",
       "      <td>ACCESORIES_1_001</td>\n",
       "      <td>ACCESORIES</td>\n",
       "      <td>NYC_1</td>\n",
       "      <td>201329.0</td>\n",
       "      <td>12.7414</td>\n",
       "    </tr>\n",
       "    <tr>\n",
       "      <th>2</th>\n",
       "      <td>ACCESORIES_1_001</td>\n",
       "      <td>ACCESORIES</td>\n",
       "      <td>NYC_1</td>\n",
       "      <td>201330.0</td>\n",
       "      <td>10.9858</td>\n",
       "    </tr>\n",
       "    <tr>\n",
       "      <th>3</th>\n",
       "      <td>ACCESORIES_1_001</td>\n",
       "      <td>ACCESORIES</td>\n",
       "      <td>NYC_1</td>\n",
       "      <td>201331.0</td>\n",
       "      <td>10.9858</td>\n",
       "    </tr>\n",
       "    <tr>\n",
       "      <th>4</th>\n",
       "      <td>ACCESORIES_1_001</td>\n",
       "      <td>ACCESORIES</td>\n",
       "      <td>NYC_1</td>\n",
       "      <td>201332.0</td>\n",
       "      <td>10.9858</td>\n",
       "    </tr>\n",
       "    <tr>\n",
       "      <th>...</th>\n",
       "      <td>...</td>\n",
       "      <td>...</td>\n",
       "      <td>...</td>\n",
       "      <td>...</td>\n",
       "      <td>...</td>\n",
       "    </tr>\n",
       "    <tr>\n",
       "      <th>6257108</th>\n",
       "      <td>ACCESORIES_1_001</td>\n",
       "      <td>ACCESORIES</td>\n",
       "      <td>PHI_3</td>\n",
       "      <td>NaN</td>\n",
       "      <td>11.1454</td>\n",
       "    </tr>\n",
       "    <tr>\n",
       "      <th>6257109</th>\n",
       "      <td>ACCESORIES_1_001</td>\n",
       "      <td>ACCESORIES</td>\n",
       "      <td>PHI_3</td>\n",
       "      <td>NaN</td>\n",
       "      <td>11.1454</td>\n",
       "    </tr>\n",
       "    <tr>\n",
       "      <th>6257110</th>\n",
       "      <td>ACCESORIES_1_001</td>\n",
       "      <td>ACCESORIES</td>\n",
       "      <td>PHI_3</td>\n",
       "      <td>NaN</td>\n",
       "      <td>11.1454</td>\n",
       "    </tr>\n",
       "    <tr>\n",
       "      <th>6257111</th>\n",
       "      <td>ACCESORIES_1_001</td>\n",
       "      <td>ACCESORIES</td>\n",
       "      <td>PHI_3</td>\n",
       "      <td>NaN</td>\n",
       "      <td>11.1454</td>\n",
       "    </tr>\n",
       "    <tr>\n",
       "      <th>6257112</th>\n",
       "      <td>ACCESORIES_1_001</td>\n",
       "      <td>ACCESORIES</td>\n",
       "      <td>PHI_3</td>\n",
       "      <td>NaN</td>\n",
       "      <td>11.1454</td>\n",
       "    </tr>\n",
       "  </tbody>\n",
       "</table>\n",
       "<p>1558 rows × 5 columns</p>\n",
       "</div>"
      ],
      "text/plain": [
       "                     item    category store_code  yearweek  sell_price\n",
       "0        ACCESORIES_1_001  ACCESORIES      NYC_1  201328.0     12.7414\n",
       "1        ACCESORIES_1_001  ACCESORIES      NYC_1  201329.0     12.7414\n",
       "2        ACCESORIES_1_001  ACCESORIES      NYC_1  201330.0     10.9858\n",
       "3        ACCESORIES_1_001  ACCESORIES      NYC_1  201331.0     10.9858\n",
       "4        ACCESORIES_1_001  ACCESORIES      NYC_1  201332.0     10.9858\n",
       "...                   ...         ...        ...       ...         ...\n",
       "6257108  ACCESORIES_1_001  ACCESORIES      PHI_3       NaN     11.1454\n",
       "6257109  ACCESORIES_1_001  ACCESORIES      PHI_3       NaN     11.1454\n",
       "6257110  ACCESORIES_1_001  ACCESORIES      PHI_3       NaN     11.1454\n",
       "6257111  ACCESORIES_1_001  ACCESORIES      PHI_3       NaN     11.1454\n",
       "6257112  ACCESORIES_1_001  ACCESORIES      PHI_3       NaN     11.1454\n",
       "\n",
       "[1558 rows x 5 columns]"
      ]
     },
     "execution_count": 265,
     "metadata": {},
     "output_type": "execute_result"
    }
   ],
   "source": [
    "\n",
    "filtered_df = df_prices[(df_prices['item'] == 'ACCESORIES_1_001')]\n",
    "filtered_df"
   ]
  },
  {
   "cell_type": "code",
   "execution_count": 266,
   "metadata": {
    "colab": {
     "base_uri": "https://localhost:8080/",
     "height": 1000
    },
    "executionInfo": {
     "elapsed": 9,
     "status": "ok",
     "timestamp": 1737033391008,
     "user": {
      "displayName": "Gaspar Manzini",
      "userId": "04945097798978388435"
     },
     "user_tz": -60
    },
    "id": "NtqAv3zFI8CS",
    "outputId": "a36b37a5-9897-4920-dceb-98e3c5da4121"
   },
   "outputs": [
    {
     "data": {
      "text/html": [
       "<div>\n",
       "<style scoped>\n",
       "    .dataframe tbody tr th:only-of-type {\n",
       "        vertical-align: middle;\n",
       "    }\n",
       "\n",
       "    .dataframe tbody tr th {\n",
       "        vertical-align: top;\n",
       "    }\n",
       "\n",
       "    .dataframe thead th {\n",
       "        text-align: right;\n",
       "    }\n",
       "</style>\n",
       "<table border=\"1\" class=\"dataframe\">\n",
       "  <thead>\n",
       "    <tr style=\"text-align: right;\">\n",
       "      <th></th>\n",
       "      <th>item</th>\n",
       "      <th>category</th>\n",
       "      <th>store_code</th>\n",
       "      <th>yearweek</th>\n",
       "      <th>sell_price</th>\n",
       "    </tr>\n",
       "  </thead>\n",
       "  <tbody>\n",
       "    <tr>\n",
       "      <th>711002</th>\n",
       "      <td>SUPERMARKET_3_827</td>\n",
       "      <td>SUPERMARKET</td>\n",
       "      <td>NYC_1</td>\n",
       "      <td>201508.0</td>\n",
       "      <td>1.2</td>\n",
       "    </tr>\n",
       "    <tr>\n",
       "      <th>711003</th>\n",
       "      <td>SUPERMARKET_3_827</td>\n",
       "      <td>SUPERMARKET</td>\n",
       "      <td>NYC_1</td>\n",
       "      <td>201509.0</td>\n",
       "      <td>1.2</td>\n",
       "    </tr>\n",
       "    <tr>\n",
       "      <th>711004</th>\n",
       "      <td>SUPERMARKET_3_827</td>\n",
       "      <td>SUPERMARKET</td>\n",
       "      <td>NYC_1</td>\n",
       "      <td>201510.0</td>\n",
       "      <td>1.2</td>\n",
       "    </tr>\n",
       "    <tr>\n",
       "      <th>711005</th>\n",
       "      <td>SUPERMARKET_3_827</td>\n",
       "      <td>SUPERMARKET</td>\n",
       "      <td>NYC_1</td>\n",
       "      <td>201511.0</td>\n",
       "      <td>1.2</td>\n",
       "    </tr>\n",
       "    <tr>\n",
       "      <th>711006</th>\n",
       "      <td>SUPERMARKET_3_827</td>\n",
       "      <td>SUPERMARKET</td>\n",
       "      <td>NYC_1</td>\n",
       "      <td>201512.0</td>\n",
       "      <td>1.2</td>\n",
       "    </tr>\n",
       "    <tr>\n",
       "      <th>...</th>\n",
       "      <td>...</td>\n",
       "      <td>...</td>\n",
       "      <td>...</td>\n",
       "      <td>...</td>\n",
       "      <td>...</td>\n",
       "    </tr>\n",
       "    <tr>\n",
       "      <th>6965701</th>\n",
       "      <td>SUPERMARKET_3_827</td>\n",
       "      <td>SUPERMARKET</td>\n",
       "      <td>PHI_3</td>\n",
       "      <td>NaN</td>\n",
       "      <td>1.2</td>\n",
       "    </tr>\n",
       "    <tr>\n",
       "      <th>6965702</th>\n",
       "      <td>SUPERMARKET_3_827</td>\n",
       "      <td>SUPERMARKET</td>\n",
       "      <td>PHI_3</td>\n",
       "      <td>NaN</td>\n",
       "      <td>1.2</td>\n",
       "    </tr>\n",
       "    <tr>\n",
       "      <th>6965703</th>\n",
       "      <td>SUPERMARKET_3_827</td>\n",
       "      <td>SUPERMARKET</td>\n",
       "      <td>PHI_3</td>\n",
       "      <td>NaN</td>\n",
       "      <td>1.2</td>\n",
       "    </tr>\n",
       "    <tr>\n",
       "      <th>6965704</th>\n",
       "      <td>SUPERMARKET_3_827</td>\n",
       "      <td>SUPERMARKET</td>\n",
       "      <td>PHI_3</td>\n",
       "      <td>NaN</td>\n",
       "      <td>1.2</td>\n",
       "    </tr>\n",
       "    <tr>\n",
       "      <th>6965705</th>\n",
       "      <td>SUPERMARKET_3_827</td>\n",
       "      <td>SUPERMARKET</td>\n",
       "      <td>PHI_3</td>\n",
       "      <td>NaN</td>\n",
       "      <td>1.2</td>\n",
       "    </tr>\n",
       "  </tbody>\n",
       "</table>\n",
       "<p>1071 rows × 5 columns</p>\n",
       "</div>"
      ],
      "text/plain": [
       "                      item     category store_code  yearweek  sell_price\n",
       "711002   SUPERMARKET_3_827  SUPERMARKET      NYC_1  201508.0         1.2\n",
       "711003   SUPERMARKET_3_827  SUPERMARKET      NYC_1  201509.0         1.2\n",
       "711004   SUPERMARKET_3_827  SUPERMARKET      NYC_1  201510.0         1.2\n",
       "711005   SUPERMARKET_3_827  SUPERMARKET      NYC_1  201511.0         1.2\n",
       "711006   SUPERMARKET_3_827  SUPERMARKET      NYC_1  201512.0         1.2\n",
       "...                    ...          ...        ...       ...         ...\n",
       "6965701  SUPERMARKET_3_827  SUPERMARKET      PHI_3       NaN         1.2\n",
       "6965702  SUPERMARKET_3_827  SUPERMARKET      PHI_3       NaN         1.2\n",
       "6965703  SUPERMARKET_3_827  SUPERMARKET      PHI_3       NaN         1.2\n",
       "6965704  SUPERMARKET_3_827  SUPERMARKET      PHI_3       NaN         1.2\n",
       "6965705  SUPERMARKET_3_827  SUPERMARKET      PHI_3       NaN         1.2\n",
       "\n",
       "[1071 rows x 5 columns]"
      ]
     },
     "execution_count": 266,
     "metadata": {},
     "output_type": "execute_result"
    }
   ],
   "source": [
    "filtered_df1 = df_prices[(df_prices['item'] == 'SUPERMARKET_3_827')]\n",
    "filtered_df1"
   ]
  },
  {
   "cell_type": "code",
   "execution_count": 267,
   "metadata": {
    "executionInfo": {
     "elapsed": 6,
     "status": "ok",
     "timestamp": 1737033391008,
     "user": {
      "displayName": "Gaspar Manzini",
      "userId": "04945097798978388435"
     },
     "user_tz": -60
    },
    "id": "n5tpNb-7JMXc"
   },
   "outputs": [],
   "source": [
    "pd.reset_option('display.max_rows')"
   ]
  },
  {
   "cell_type": "code",
   "execution_count": 268,
   "metadata": {
    "colab": {
     "base_uri": "https://localhost:8080/",
     "height": 143
    },
    "executionInfo": {
     "elapsed": 169,
     "status": "ok",
     "timestamp": 1737035320813,
     "user": {
      "displayName": "Gaspar Manzini",
      "userId": "04945097798978388435"
     },
     "user_tz": -60
    },
    "id": "GE_G_ST1XW_B",
    "outputId": "a6eeec6b-7ae9-44aa-c1d9-b0841ebec750"
   },
   "outputs": [
    {
     "data": {
      "text/html": [
       "<div>\n",
       "<style scoped>\n",
       "    .dataframe tbody tr th:only-of-type {\n",
       "        vertical-align: middle;\n",
       "    }\n",
       "\n",
       "    .dataframe tbody tr th {\n",
       "        vertical-align: top;\n",
       "    }\n",
       "\n",
       "    .dataframe thead th {\n",
       "        text-align: right;\n",
       "    }\n",
       "</style>\n",
       "<table border=\"1\" class=\"dataframe\">\n",
       "  <thead>\n",
       "    <tr style=\"text-align: right;\">\n",
       "      <th></th>\n",
       "      <th>item</th>\n",
       "      <th>category</th>\n",
       "      <th>store_code</th>\n",
       "      <th>yearweek</th>\n",
       "      <th>sell_price</th>\n",
       "    </tr>\n",
       "  </thead>\n",
       "  <tbody>\n",
       "    <tr>\n",
       "      <th>5910991</th>\n",
       "      <td>HOME_&amp;_GARDEN_2_406</td>\n",
       "      <td>HOME_&amp;_GARDEN</td>\n",
       "      <td>PHI_2</td>\n",
       "      <td>201241.0</td>\n",
       "      <td>76.825</td>\n",
       "    </tr>\n",
       "    <tr>\n",
       "      <th>5910992</th>\n",
       "      <td>HOME_&amp;_GARDEN_2_406</td>\n",
       "      <td>HOME_&amp;_GARDEN</td>\n",
       "      <td>PHI_2</td>\n",
       "      <td>201242.0</td>\n",
       "      <td>76.825</td>\n",
       "    </tr>\n",
       "    <tr>\n",
       "      <th>5910993</th>\n",
       "      <td>HOME_&amp;_GARDEN_2_406</td>\n",
       "      <td>HOME_&amp;_GARDEN</td>\n",
       "      <td>PHI_2</td>\n",
       "      <td>201243.0</td>\n",
       "      <td>76.825</td>\n",
       "    </tr>\n",
       "    <tr>\n",
       "      <th>5910994</th>\n",
       "      <td>HOME_&amp;_GARDEN_2_406</td>\n",
       "      <td>HOME_&amp;_GARDEN</td>\n",
       "      <td>PHI_2</td>\n",
       "      <td>201244.0</td>\n",
       "      <td>76.825</td>\n",
       "    </tr>\n",
       "    <tr>\n",
       "      <th>5910995</th>\n",
       "      <td>HOME_&amp;_GARDEN_2_406</td>\n",
       "      <td>HOME_&amp;_GARDEN</td>\n",
       "      <td>PHI_2</td>\n",
       "      <td>201245.0</td>\n",
       "      <td>76.825</td>\n",
       "    </tr>\n",
       "    <tr>\n",
       "      <th>5910996</th>\n",
       "      <td>HOME_&amp;_GARDEN_2_406</td>\n",
       "      <td>HOME_&amp;_GARDEN</td>\n",
       "      <td>PHI_2</td>\n",
       "      <td>201246.0</td>\n",
       "      <td>76.825</td>\n",
       "    </tr>\n",
       "    <tr>\n",
       "      <th>5910997</th>\n",
       "      <td>HOME_&amp;_GARDEN_2_406</td>\n",
       "      <td>HOME_&amp;_GARDEN</td>\n",
       "      <td>PHI_2</td>\n",
       "      <td>201247.0</td>\n",
       "      <td>76.825</td>\n",
       "    </tr>\n",
       "    <tr>\n",
       "      <th>5910998</th>\n",
       "      <td>HOME_&amp;_GARDEN_2_406</td>\n",
       "      <td>HOME_&amp;_GARDEN</td>\n",
       "      <td>PHI_2</td>\n",
       "      <td>201248.0</td>\n",
       "      <td>76.825</td>\n",
       "    </tr>\n",
       "    <tr>\n",
       "      <th>5910999</th>\n",
       "      <td>HOME_&amp;_GARDEN_2_406</td>\n",
       "      <td>HOME_&amp;_GARDEN</td>\n",
       "      <td>PHI_2</td>\n",
       "      <td>201249.0</td>\n",
       "      <td>76.825</td>\n",
       "    </tr>\n",
       "    <tr>\n",
       "      <th>5911000</th>\n",
       "      <td>HOME_&amp;_GARDEN_2_406</td>\n",
       "      <td>HOME_&amp;_GARDEN</td>\n",
       "      <td>PHI_2</td>\n",
       "      <td>201250.0</td>\n",
       "      <td>76.825</td>\n",
       "    </tr>\n",
       "    <tr>\n",
       "      <th>5911001</th>\n",
       "      <td>HOME_&amp;_GARDEN_2_406</td>\n",
       "      <td>HOME_&amp;_GARDEN</td>\n",
       "      <td>PHI_2</td>\n",
       "      <td>201251.0</td>\n",
       "      <td>76.825</td>\n",
       "    </tr>\n",
       "    <tr>\n",
       "      <th>5911002</th>\n",
       "      <td>HOME_&amp;_GARDEN_2_406</td>\n",
       "      <td>HOME_&amp;_GARDEN</td>\n",
       "      <td>PHI_2</td>\n",
       "      <td>201252.0</td>\n",
       "      <td>76.825</td>\n",
       "    </tr>\n",
       "    <tr>\n",
       "      <th>5911003</th>\n",
       "      <td>HOME_&amp;_GARDEN_2_406</td>\n",
       "      <td>HOME_&amp;_GARDEN</td>\n",
       "      <td>PHI_2</td>\n",
       "      <td>201253.0</td>\n",
       "      <td>76.825</td>\n",
       "    </tr>\n",
       "    <tr>\n",
       "      <th>5911004</th>\n",
       "      <td>HOME_&amp;_GARDEN_2_406</td>\n",
       "      <td>HOME_&amp;_GARDEN</td>\n",
       "      <td>PHI_2</td>\n",
       "      <td>201300.0</td>\n",
       "      <td>76.825</td>\n",
       "    </tr>\n",
       "  </tbody>\n",
       "</table>\n",
       "</div>"
      ],
      "text/plain": [
       "                        item       category store_code  yearweek  sell_price\n",
       "5910991  HOME_&_GARDEN_2_406  HOME_&_GARDEN      PHI_2  201241.0      76.825\n",
       "5910992  HOME_&_GARDEN_2_406  HOME_&_GARDEN      PHI_2  201242.0      76.825\n",
       "5910993  HOME_&_GARDEN_2_406  HOME_&_GARDEN      PHI_2  201243.0      76.825\n",
       "5910994  HOME_&_GARDEN_2_406  HOME_&_GARDEN      PHI_2  201244.0      76.825\n",
       "5910995  HOME_&_GARDEN_2_406  HOME_&_GARDEN      PHI_2  201245.0      76.825\n",
       "5910996  HOME_&_GARDEN_2_406  HOME_&_GARDEN      PHI_2  201246.0      76.825\n",
       "5910997  HOME_&_GARDEN_2_406  HOME_&_GARDEN      PHI_2  201247.0      76.825\n",
       "5910998  HOME_&_GARDEN_2_406  HOME_&_GARDEN      PHI_2  201248.0      76.825\n",
       "5910999  HOME_&_GARDEN_2_406  HOME_&_GARDEN      PHI_2  201249.0      76.825\n",
       "5911000  HOME_&_GARDEN_2_406  HOME_&_GARDEN      PHI_2  201250.0      76.825\n",
       "5911001  HOME_&_GARDEN_2_406  HOME_&_GARDEN      PHI_2  201251.0      76.825\n",
       "5911002  HOME_&_GARDEN_2_406  HOME_&_GARDEN      PHI_2  201252.0      76.825\n",
       "5911003  HOME_&_GARDEN_2_406  HOME_&_GARDEN      PHI_2  201253.0      76.825\n",
       "5911004  HOME_&_GARDEN_2_406  HOME_&_GARDEN      PHI_2  201300.0      76.825"
      ]
     },
     "execution_count": 268,
     "metadata": {},
     "output_type": "execute_result"
    }
   ],
   "source": [
    "max = df_prices['sell_price'].max()\n",
    "expensiveitem = df_prices[df_prices['sell_price'] == max]\n",
    "expensiveitem"
   ]
  },
  {
   "cell_type": "code",
   "execution_count": 269,
   "metadata": {
    "colab": {
     "base_uri": "https://localhost:8080/",
     "height": 143
    },
    "executionInfo": {
     "elapsed": 259,
     "status": "ok",
     "timestamp": 1737035354963,
     "user": {
      "displayName": "Gaspar Manzini",
      "userId": "04945097798978388435"
     },
     "user_tz": -60
    },
    "id": "PRnop5MeXegZ",
    "outputId": "4ca27c6a-eb6d-49a7-d321-925e64d8b6d4"
   },
   "outputs": [
    {
     "data": {
      "text/html": [
       "<div>\n",
       "<style scoped>\n",
       "    .dataframe tbody tr th:only-of-type {\n",
       "        vertical-align: middle;\n",
       "    }\n",
       "\n",
       "    .dataframe tbody tr th {\n",
       "        vertical-align: top;\n",
       "    }\n",
       "\n",
       "    .dataframe thead th {\n",
       "        text-align: right;\n",
       "    }\n",
       "</style>\n",
       "<table border=\"1\" class=\"dataframe\">\n",
       "  <thead>\n",
       "    <tr style=\"text-align: right;\">\n",
       "      <th></th>\n",
       "      <th>item</th>\n",
       "      <th>category</th>\n",
       "      <th>store_code</th>\n",
       "      <th>yearweek</th>\n",
       "      <th>sell_price</th>\n",
       "    </tr>\n",
       "  </thead>\n",
       "  <tbody>\n",
       "    <tr>\n",
       "      <th>2664856</th>\n",
       "      <td>SUPERMARKET_3_413</td>\n",
       "      <td>SUPERMARKET</td>\n",
       "      <td>NYC_4</td>\n",
       "      <td>201152.0</td>\n",
       "      <td>0.012</td>\n",
       "    </tr>\n",
       "    <tr>\n",
       "      <th>2664857</th>\n",
       "      <td>SUPERMARKET_3_413</td>\n",
       "      <td>SUPERMARKET</td>\n",
       "      <td>NYC_4</td>\n",
       "      <td>201200.0</td>\n",
       "      <td>0.012</td>\n",
       "    </tr>\n",
       "    <tr>\n",
       "      <th>5413301</th>\n",
       "      <td>SUPERMARKET_3_122</td>\n",
       "      <td>SUPERMARKET</td>\n",
       "      <td>PHI_1</td>\n",
       "      <td>201429.0</td>\n",
       "      <td>0.012</td>\n",
       "    </tr>\n",
       "  </tbody>\n",
       "</table>\n",
       "</div>"
      ],
      "text/plain": [
       "                      item     category store_code  yearweek  sell_price\n",
       "2664856  SUPERMARKET_3_413  SUPERMARKET      NYC_4  201152.0       0.012\n",
       "2664857  SUPERMARKET_3_413  SUPERMARKET      NYC_4  201200.0       0.012\n",
       "5413301  SUPERMARKET_3_122  SUPERMARKET      PHI_1  201429.0       0.012"
      ]
     },
     "execution_count": 269,
     "metadata": {},
     "output_type": "execute_result"
    }
   ],
   "source": [
    "min = df_prices['sell_price'].min()\n",
    "cheapitem = df_prices[df_prices['sell_price'] == min]\n",
    "cheapitem"
   ]
  },
  {
   "cell_type": "code",
   "execution_count": null,
   "metadata": {
    "id": "-L8kk8nsYDog"
   },
   "outputs": [],
   "source": []
  },
  {
   "cell_type": "markdown",
   "metadata": {
    "id": "a4TZ6748g01V"
   },
   "source": [
    "## 4. Limpieza de files"
   ]
  },
  {
   "cell_type": "markdown",
   "metadata": {
    "id": "QbKn0udfwTr9"
   },
   "source": [
    "### 4.1. Calendar\n",
    "\n"
   ]
  },
  {
   "cell_type": "markdown",
   "metadata": {
    "id": "cxspLkjcibqS"
   },
   "source": [
    "- Se paso la columna \"date\" a formato datetime\n",
    "- Se identifico un problema al intentar crear una columna con el formato \"yearweek\" ya que utilizando solo la columna date y las formulas genericas *dt.strftime('%Y-%U')* y *dt.isocalendar()* no nos da los resultados esperados, al hacer el merge entre df_sales y df_price para la cual necesitamos el \"yearweek\" obtenemos NaN.\n",
    "- Con las formuals anteriores observamos que las semanas comienzan el dia sabado, y esta relacionnado con el weekday_int en el df_calendar ya que el Sabado es 1, tambien se vio que todos los años tienen poco mas de 2 semanas en base a la cantidad de dias, pero en el df_price, tiene 52 semanas excepto el 2012, por lo que se puede asumir que al terminar la semana 52, comienza el proximo año (sin importar que sean los ultimos dias del año)\n",
    "- Luego de investigacion y pruebas hemos visto que para crear la columna \"yearweek\" necesitamos una formula personalizada para que cuenta las semanas teniendo el sabado como primer dia y siendo 52 semanas al año, exepto por el 2012 que tiene 53 semanas. Al cumplirse las 52 semanas comienza el proximo año, aunque aun no haya finalizado en año en la columna date.\n",
    "- Se cambiaron los NaN de la columna \"event\" por Regular Day\n",
    "- Se agregaron las fiestas Navidad y 4 de Julio\n",
    "- Se crearon diccionarios de la columna \"d\" con \"date\", \"weekday\", \"event\" y \"yearweek\" para luego incluir estos valores en el df_sales"
   ]
  },
  {
   "cell_type": "code",
   "execution_count": 270,
   "metadata": {},
   "outputs": [],
   "source": [
    "df_calendar = df_calendar_original.copy()"
   ]
  },
  {
   "cell_type": "code",
   "execution_count": 271,
   "metadata": {},
   "outputs": [
    {
     "data": {
      "text/html": [
       "<div>\n",
       "<style scoped>\n",
       "    .dataframe tbody tr th:only-of-type {\n",
       "        vertical-align: middle;\n",
       "    }\n",
       "\n",
       "    .dataframe tbody tr th {\n",
       "        vertical-align: top;\n",
       "    }\n",
       "\n",
       "    .dataframe thead th {\n",
       "        text-align: right;\n",
       "    }\n",
       "</style>\n",
       "<table border=\"1\" class=\"dataframe\">\n",
       "  <thead>\n",
       "    <tr style=\"text-align: right;\">\n",
       "      <th></th>\n",
       "      <th>date</th>\n",
       "      <th>weekday</th>\n",
       "      <th>weekday_int</th>\n",
       "      <th>d</th>\n",
       "      <th>event</th>\n",
       "    </tr>\n",
       "  </thead>\n",
       "  <tbody>\n",
       "    <tr>\n",
       "      <th>0</th>\n",
       "      <td>2011-01-29</td>\n",
       "      <td>Saturday</td>\n",
       "      <td>1</td>\n",
       "      <td>d_1</td>\n",
       "      <td>NaN</td>\n",
       "    </tr>\n",
       "    <tr>\n",
       "      <th>1</th>\n",
       "      <td>2011-01-30</td>\n",
       "      <td>Sunday</td>\n",
       "      <td>2</td>\n",
       "      <td>d_2</td>\n",
       "      <td>NaN</td>\n",
       "    </tr>\n",
       "    <tr>\n",
       "      <th>2</th>\n",
       "      <td>2011-01-31</td>\n",
       "      <td>Monday</td>\n",
       "      <td>3</td>\n",
       "      <td>d_3</td>\n",
       "      <td>NaN</td>\n",
       "    </tr>\n",
       "    <tr>\n",
       "      <th>3</th>\n",
       "      <td>2011-02-01</td>\n",
       "      <td>Tuesday</td>\n",
       "      <td>4</td>\n",
       "      <td>d_4</td>\n",
       "      <td>NaN</td>\n",
       "    </tr>\n",
       "    <tr>\n",
       "      <th>4</th>\n",
       "      <td>2011-02-02</td>\n",
       "      <td>Wednesday</td>\n",
       "      <td>5</td>\n",
       "      <td>d_5</td>\n",
       "      <td>NaN</td>\n",
       "    </tr>\n",
       "    <tr>\n",
       "      <th>...</th>\n",
       "      <td>...</td>\n",
       "      <td>...</td>\n",
       "      <td>...</td>\n",
       "      <td>...</td>\n",
       "      <td>...</td>\n",
       "    </tr>\n",
       "    <tr>\n",
       "      <th>1908</th>\n",
       "      <td>2016-04-20</td>\n",
       "      <td>Wednesday</td>\n",
       "      <td>5</td>\n",
       "      <td>d_1909</td>\n",
       "      <td>NaN</td>\n",
       "    </tr>\n",
       "    <tr>\n",
       "      <th>1909</th>\n",
       "      <td>2016-04-21</td>\n",
       "      <td>Thursday</td>\n",
       "      <td>6</td>\n",
       "      <td>d_1910</td>\n",
       "      <td>NaN</td>\n",
       "    </tr>\n",
       "    <tr>\n",
       "      <th>1910</th>\n",
       "      <td>2016-04-22</td>\n",
       "      <td>Friday</td>\n",
       "      <td>7</td>\n",
       "      <td>d_1911</td>\n",
       "      <td>NaN</td>\n",
       "    </tr>\n",
       "    <tr>\n",
       "      <th>1911</th>\n",
       "      <td>2016-04-23</td>\n",
       "      <td>Saturday</td>\n",
       "      <td>1</td>\n",
       "      <td>d_1912</td>\n",
       "      <td>NaN</td>\n",
       "    </tr>\n",
       "    <tr>\n",
       "      <th>1912</th>\n",
       "      <td>2016-04-24</td>\n",
       "      <td>Sunday</td>\n",
       "      <td>2</td>\n",
       "      <td>d_1913</td>\n",
       "      <td>NaN</td>\n",
       "    </tr>\n",
       "  </tbody>\n",
       "</table>\n",
       "<p>1913 rows × 5 columns</p>\n",
       "</div>"
      ],
      "text/plain": [
       "            date    weekday  weekday_int       d event\n",
       "0     2011-01-29   Saturday            1     d_1   NaN\n",
       "1     2011-01-30     Sunday            2     d_2   NaN\n",
       "2     2011-01-31     Monday            3     d_3   NaN\n",
       "3     2011-02-01    Tuesday            4     d_4   NaN\n",
       "4     2011-02-02  Wednesday            5     d_5   NaN\n",
       "...          ...        ...          ...     ...   ...\n",
       "1908  2016-04-20  Wednesday            5  d_1909   NaN\n",
       "1909  2016-04-21   Thursday            6  d_1910   NaN\n",
       "1910  2016-04-22     Friday            7  d_1911   NaN\n",
       "1911  2016-04-23   Saturday            1  d_1912   NaN\n",
       "1912  2016-04-24     Sunday            2  d_1913   NaN\n",
       "\n",
       "[1913 rows x 5 columns]"
      ]
     },
     "execution_count": 271,
     "metadata": {},
     "output_type": "execute_result"
    }
   ],
   "source": [
    "df_calendar"
   ]
  },
  {
   "cell_type": "code",
   "execution_count": 272,
   "metadata": {
    "executionInfo": {
     "elapsed": 9,
     "status": "ok",
     "timestamp": 1737033391397,
     "user": {
      "displayName": "Gaspar Manzini",
      "userId": "04945097798978388435"
     },
     "user_tz": -60
    },
    "id": "kGFv8yQmccpb"
   },
   "outputs": [],
   "source": [
    "#pasar columna date a formato dtime\n",
    "df_calendar['date'] = pd.to_datetime(df_calendar['date'])"
   ]
  },
  {
   "cell_type": "code",
   "execution_count": 273,
   "metadata": {
    "executionInfo": {
     "elapsed": 483,
     "status": "ok",
     "timestamp": 1737033391872,
     "user": {
      "displayName": "Gaspar Manzini",
      "userId": "04945097798978388435"
     },
     "user_tz": -60
    },
    "id": "iQR3hFKoXrS3"
   },
   "outputs": [],
   "source": [
    "# Parámetros iniciales\n",
    "start_date = pd.Timestamp('2011-01-29')  # Fecha inicial\n",
    "start_year = start_date.year\n",
    "start_week = 5  # Semana inicial del año 2011\n",
    "\n",
    "# Función para calcular el yearweek\n",
    "def calculate_yearweek(row):\n",
    "    days_since_start = (row['date'] - start_date).days\n",
    "    weeks_since_start = days_since_start // 7\n",
    "    adjusted_year = start_year\n",
    "    adjusted_week = start_week + weeks_since_start\n",
    "\n",
    "    while True:\n",
    "        if adjusted_year == 2012:\n",
    "            weeks_in_year = 53\n",
    "        else:\n",
    "            weeks_in_year = 52\n",
    "\n",
    "        if adjusted_week > weeks_in_year:\n",
    "            adjusted_week -= weeks_in_year\n",
    "            adjusted_year += 1\n",
    "        else:\n",
    "            break\n",
    "\n",
    "    return f\"{adjusted_year}{str(adjusted_week).zfill(2)}\"\n"
   ]
  },
  {
   "cell_type": "code",
   "execution_count": 274,
   "metadata": {},
   "outputs": [],
   "source": [
    "# Crear la columna yearweek\n",
    "df_calendar['yearweek'] = df_calendar.apply(calculate_yearweek, axis=1)"
   ]
  },
  {
   "cell_type": "code",
   "execution_count": 275,
   "metadata": {},
   "outputs": [],
   "source": [
    "df_calendar['year'] = df_calendar['yearweek'].str[:4]\n",
    "df_calendar['week'] = df_calendar['yearweek'].str[4:]\n",
    "df_calendar['month'] = df_calendar['date'].dt.month\n",
    "df_calendar['day'] = df_calendar['date'].dt.day\n",
    "\n"
   ]
  },
  {
   "cell_type": "code",
   "execution_count": 276,
   "metadata": {},
   "outputs": [
    {
     "data": {
      "text/html": [
       "<div>\n",
       "<style scoped>\n",
       "    .dataframe tbody tr th:only-of-type {\n",
       "        vertical-align: middle;\n",
       "    }\n",
       "\n",
       "    .dataframe tbody tr th {\n",
       "        vertical-align: top;\n",
       "    }\n",
       "\n",
       "    .dataframe thead th {\n",
       "        text-align: right;\n",
       "    }\n",
       "</style>\n",
       "<table border=\"1\" class=\"dataframe\">\n",
       "  <thead>\n",
       "    <tr style=\"text-align: right;\">\n",
       "      <th></th>\n",
       "      <th>date</th>\n",
       "      <th>weekday</th>\n",
       "      <th>weekday_int</th>\n",
       "      <th>d</th>\n",
       "      <th>event</th>\n",
       "      <th>yearweek</th>\n",
       "      <th>year</th>\n",
       "      <th>week</th>\n",
       "      <th>month</th>\n",
       "      <th>day</th>\n",
       "    </tr>\n",
       "  </thead>\n",
       "  <tbody>\n",
       "    <tr>\n",
       "      <th>0</th>\n",
       "      <td>2011-01-29</td>\n",
       "      <td>Saturday</td>\n",
       "      <td>1</td>\n",
       "      <td>d_1</td>\n",
       "      <td>NaN</td>\n",
       "      <td>201105</td>\n",
       "      <td>2011</td>\n",
       "      <td>05</td>\n",
       "      <td>1</td>\n",
       "      <td>29</td>\n",
       "    </tr>\n",
       "    <tr>\n",
       "      <th>1</th>\n",
       "      <td>2011-01-30</td>\n",
       "      <td>Sunday</td>\n",
       "      <td>2</td>\n",
       "      <td>d_2</td>\n",
       "      <td>NaN</td>\n",
       "      <td>201105</td>\n",
       "      <td>2011</td>\n",
       "      <td>05</td>\n",
       "      <td>1</td>\n",
       "      <td>30</td>\n",
       "    </tr>\n",
       "    <tr>\n",
       "      <th>2</th>\n",
       "      <td>2011-01-31</td>\n",
       "      <td>Monday</td>\n",
       "      <td>3</td>\n",
       "      <td>d_3</td>\n",
       "      <td>NaN</td>\n",
       "      <td>201105</td>\n",
       "      <td>2011</td>\n",
       "      <td>05</td>\n",
       "      <td>1</td>\n",
       "      <td>31</td>\n",
       "    </tr>\n",
       "    <tr>\n",
       "      <th>3</th>\n",
       "      <td>2011-02-01</td>\n",
       "      <td>Tuesday</td>\n",
       "      <td>4</td>\n",
       "      <td>d_4</td>\n",
       "      <td>NaN</td>\n",
       "      <td>201105</td>\n",
       "      <td>2011</td>\n",
       "      <td>05</td>\n",
       "      <td>2</td>\n",
       "      <td>1</td>\n",
       "    </tr>\n",
       "    <tr>\n",
       "      <th>4</th>\n",
       "      <td>2011-02-02</td>\n",
       "      <td>Wednesday</td>\n",
       "      <td>5</td>\n",
       "      <td>d_5</td>\n",
       "      <td>NaN</td>\n",
       "      <td>201105</td>\n",
       "      <td>2011</td>\n",
       "      <td>05</td>\n",
       "      <td>2</td>\n",
       "      <td>2</td>\n",
       "    </tr>\n",
       "    <tr>\n",
       "      <th>...</th>\n",
       "      <td>...</td>\n",
       "      <td>...</td>\n",
       "      <td>...</td>\n",
       "      <td>...</td>\n",
       "      <td>...</td>\n",
       "      <td>...</td>\n",
       "      <td>...</td>\n",
       "      <td>...</td>\n",
       "      <td>...</td>\n",
       "      <td>...</td>\n",
       "    </tr>\n",
       "    <tr>\n",
       "      <th>1908</th>\n",
       "      <td>2016-04-20</td>\n",
       "      <td>Wednesday</td>\n",
       "      <td>5</td>\n",
       "      <td>d_1909</td>\n",
       "      <td>NaN</td>\n",
       "      <td>201616</td>\n",
       "      <td>2016</td>\n",
       "      <td>16</td>\n",
       "      <td>4</td>\n",
       "      <td>20</td>\n",
       "    </tr>\n",
       "    <tr>\n",
       "      <th>1909</th>\n",
       "      <td>2016-04-21</td>\n",
       "      <td>Thursday</td>\n",
       "      <td>6</td>\n",
       "      <td>d_1910</td>\n",
       "      <td>NaN</td>\n",
       "      <td>201616</td>\n",
       "      <td>2016</td>\n",
       "      <td>16</td>\n",
       "      <td>4</td>\n",
       "      <td>21</td>\n",
       "    </tr>\n",
       "    <tr>\n",
       "      <th>1910</th>\n",
       "      <td>2016-04-22</td>\n",
       "      <td>Friday</td>\n",
       "      <td>7</td>\n",
       "      <td>d_1911</td>\n",
       "      <td>NaN</td>\n",
       "      <td>201616</td>\n",
       "      <td>2016</td>\n",
       "      <td>16</td>\n",
       "      <td>4</td>\n",
       "      <td>22</td>\n",
       "    </tr>\n",
       "    <tr>\n",
       "      <th>1911</th>\n",
       "      <td>2016-04-23</td>\n",
       "      <td>Saturday</td>\n",
       "      <td>1</td>\n",
       "      <td>d_1912</td>\n",
       "      <td>NaN</td>\n",
       "      <td>201617</td>\n",
       "      <td>2016</td>\n",
       "      <td>17</td>\n",
       "      <td>4</td>\n",
       "      <td>23</td>\n",
       "    </tr>\n",
       "    <tr>\n",
       "      <th>1912</th>\n",
       "      <td>2016-04-24</td>\n",
       "      <td>Sunday</td>\n",
       "      <td>2</td>\n",
       "      <td>d_1913</td>\n",
       "      <td>NaN</td>\n",
       "      <td>201617</td>\n",
       "      <td>2016</td>\n",
       "      <td>17</td>\n",
       "      <td>4</td>\n",
       "      <td>24</td>\n",
       "    </tr>\n",
       "  </tbody>\n",
       "</table>\n",
       "<p>1913 rows × 10 columns</p>\n",
       "</div>"
      ],
      "text/plain": [
       "           date    weekday  weekday_int       d event yearweek  year week  \\\n",
       "0    2011-01-29   Saturday            1     d_1   NaN   201105  2011   05   \n",
       "1    2011-01-30     Sunday            2     d_2   NaN   201105  2011   05   \n",
       "2    2011-01-31     Monday            3     d_3   NaN   201105  2011   05   \n",
       "3    2011-02-01    Tuesday            4     d_4   NaN   201105  2011   05   \n",
       "4    2011-02-02  Wednesday            5     d_5   NaN   201105  2011   05   \n",
       "...         ...        ...          ...     ...   ...      ...   ...  ...   \n",
       "1908 2016-04-20  Wednesday            5  d_1909   NaN   201616  2016   16   \n",
       "1909 2016-04-21   Thursday            6  d_1910   NaN   201616  2016   16   \n",
       "1910 2016-04-22     Friday            7  d_1911   NaN   201616  2016   16   \n",
       "1911 2016-04-23   Saturday            1  d_1912   NaN   201617  2016   17   \n",
       "1912 2016-04-24     Sunday            2  d_1913   NaN   201617  2016   17   \n",
       "\n",
       "      month  day  \n",
       "0         1   29  \n",
       "1         1   30  \n",
       "2         1   31  \n",
       "3         2    1  \n",
       "4         2    2  \n",
       "...     ...  ...  \n",
       "1908      4   20  \n",
       "1909      4   21  \n",
       "1910      4   22  \n",
       "1911      4   23  \n",
       "1912      4   24  \n",
       "\n",
       "[1913 rows x 10 columns]"
      ]
     },
     "execution_count": 276,
     "metadata": {},
     "output_type": "execute_result"
    }
   ],
   "source": [
    "df_calendar"
   ]
  },
  {
   "cell_type": "code",
   "execution_count": 277,
   "metadata": {
    "executionInfo": {
     "elapsed": 14,
     "status": "ok",
     "timestamp": 1737033391873,
     "user": {
      "displayName": "Gaspar Manzini",
      "userId": "04945097798978388435"
     },
     "user_tz": -60
    },
    "id": "c9GKESU6dm9u"
   },
   "outputs": [],
   "source": [
    "df_calendar = df_calendar.fillna('No_event')"
   ]
  },
  {
   "cell_type": "code",
   "execution_count": 278,
   "metadata": {
    "executionInfo": {
     "elapsed": 14,
     "status": "ok",
     "timestamp": 1737033391874,
     "user": {
      "displayName": "Gaspar Manzini",
      "userId": "04945097798978388435"
     },
     "user_tz": -60
    },
    "id": "fJ54BQqDKfgO"
   },
   "outputs": [],
   "source": [
    "# formulas para agregar navidad y 4 de julio\n",
    "# se elimino el ramadan\n",
    "\n",
    "df_calendar.loc[(df_calendar['month'] == 12) & (df_calendar['day'] == 25), 'event'] = 'Navidad'\n",
    "df_calendar.loc[(df_calendar['month'] == 7) & (df_calendar['day'] == 4), 'event'] = '4 de Julio'\n",
    "#df_calendar['event'] = df_calendar['event'].replace('Ramadan starts', 'No_event')"
   ]
  },
  {
   "cell_type": "code",
   "execution_count": 279,
   "metadata": {},
   "outputs": [],
   "source": [
    "weekday_mapping = {3: 1,4: 2,5: 3,6: 4,7: 5,1: 6,2: 7}"
   ]
  },
  {
   "cell_type": "code",
   "execution_count": 280,
   "metadata": {},
   "outputs": [],
   "source": [
    "df_calendar['weekday_int'] = df_calendar['weekday_int'].replace(weekday_mapping)"
   ]
  },
  {
   "cell_type": "code",
   "execution_count": 281,
   "metadata": {
    "executionInfo": {
     "elapsed": 12,
     "status": "ok",
     "timestamp": 1737033391874,
     "user": {
      "displayName": "Gaspar Manzini",
      "userId": "04945097798978388435"
     },
     "user_tz": -60
    },
    "id": "tVXE4f___y4-"
   },
   "outputs": [],
   "source": [
    "#crear diccionaron del calendar\n",
    "\n",
    "map_dict_date = df_calendar.set_index('d')['date'].to_dict()\n",
    "map_dict_yearweek = df_calendar.set_index('d')['yearweek'].to_dict()\n",
    "map_dict_event = df_calendar.set_index('d')['event'].to_dict()\n",
    "map_dict_weekday = df_calendar.set_index('d')['weekday_int'].to_dict()"
   ]
  },
  {
   "cell_type": "code",
   "execution_count": 282,
   "metadata": {},
   "outputs": [
    {
     "data": {
      "text/plain": [
       "274"
      ]
     },
     "execution_count": 282,
     "metadata": {},
     "output_type": "execute_result"
    }
   ],
   "source": [
    "df_calendar['yearweek'].nunique()"
   ]
  },
  {
   "cell_type": "code",
   "execution_count": 283,
   "metadata": {
    "colab": {
     "base_uri": "https://localhost:8080/",
     "height": 0
    },
    "executionInfo": {
     "elapsed": 11,
     "status": "ok",
     "timestamp": 1737033391874,
     "user": {
      "displayName": "Gaspar Manzini",
      "userId": "04945097798978388435"
     },
     "user_tz": -60
    },
    "id": "hZUULZ85X0aX",
    "outputId": "2612705a-f77c-457b-b129-4fca8e128ac5"
   },
   "outputs": [
    {
     "data": {
      "text/html": [
       "<div>\n",
       "<style scoped>\n",
       "    .dataframe tbody tr th:only-of-type {\n",
       "        vertical-align: middle;\n",
       "    }\n",
       "\n",
       "    .dataframe tbody tr th {\n",
       "        vertical-align: top;\n",
       "    }\n",
       "\n",
       "    .dataframe thead th {\n",
       "        text-align: right;\n",
       "    }\n",
       "</style>\n",
       "<table border=\"1\" class=\"dataframe\">\n",
       "  <thead>\n",
       "    <tr style=\"text-align: right;\">\n",
       "      <th></th>\n",
       "      <th>date</th>\n",
       "      <th>weekday</th>\n",
       "      <th>weekday_int</th>\n",
       "      <th>d</th>\n",
       "      <th>event</th>\n",
       "      <th>yearweek</th>\n",
       "      <th>year</th>\n",
       "      <th>week</th>\n",
       "      <th>month</th>\n",
       "      <th>day</th>\n",
       "    </tr>\n",
       "  </thead>\n",
       "  <tbody>\n",
       "    <tr>\n",
       "      <th>0</th>\n",
       "      <td>2011-01-29</td>\n",
       "      <td>Saturday</td>\n",
       "      <td>6</td>\n",
       "      <td>d_1</td>\n",
       "      <td>No_event</td>\n",
       "      <td>201105</td>\n",
       "      <td>2011</td>\n",
       "      <td>05</td>\n",
       "      <td>1</td>\n",
       "      <td>29</td>\n",
       "    </tr>\n",
       "    <tr>\n",
       "      <th>1</th>\n",
       "      <td>2011-01-30</td>\n",
       "      <td>Sunday</td>\n",
       "      <td>7</td>\n",
       "      <td>d_2</td>\n",
       "      <td>No_event</td>\n",
       "      <td>201105</td>\n",
       "      <td>2011</td>\n",
       "      <td>05</td>\n",
       "      <td>1</td>\n",
       "      <td>30</td>\n",
       "    </tr>\n",
       "    <tr>\n",
       "      <th>2</th>\n",
       "      <td>2011-01-31</td>\n",
       "      <td>Monday</td>\n",
       "      <td>1</td>\n",
       "      <td>d_3</td>\n",
       "      <td>No_event</td>\n",
       "      <td>201105</td>\n",
       "      <td>2011</td>\n",
       "      <td>05</td>\n",
       "      <td>1</td>\n",
       "      <td>31</td>\n",
       "    </tr>\n",
       "    <tr>\n",
       "      <th>3</th>\n",
       "      <td>2011-02-01</td>\n",
       "      <td>Tuesday</td>\n",
       "      <td>2</td>\n",
       "      <td>d_4</td>\n",
       "      <td>No_event</td>\n",
       "      <td>201105</td>\n",
       "      <td>2011</td>\n",
       "      <td>05</td>\n",
       "      <td>2</td>\n",
       "      <td>1</td>\n",
       "    </tr>\n",
       "    <tr>\n",
       "      <th>4</th>\n",
       "      <td>2011-02-02</td>\n",
       "      <td>Wednesday</td>\n",
       "      <td>3</td>\n",
       "      <td>d_5</td>\n",
       "      <td>No_event</td>\n",
       "      <td>201105</td>\n",
       "      <td>2011</td>\n",
       "      <td>05</td>\n",
       "      <td>2</td>\n",
       "      <td>2</td>\n",
       "    </tr>\n",
       "    <tr>\n",
       "      <th>...</th>\n",
       "      <td>...</td>\n",
       "      <td>...</td>\n",
       "      <td>...</td>\n",
       "      <td>...</td>\n",
       "      <td>...</td>\n",
       "      <td>...</td>\n",
       "      <td>...</td>\n",
       "      <td>...</td>\n",
       "      <td>...</td>\n",
       "      <td>...</td>\n",
       "    </tr>\n",
       "    <tr>\n",
       "      <th>1908</th>\n",
       "      <td>2016-04-20</td>\n",
       "      <td>Wednesday</td>\n",
       "      <td>3</td>\n",
       "      <td>d_1909</td>\n",
       "      <td>No_event</td>\n",
       "      <td>201616</td>\n",
       "      <td>2016</td>\n",
       "      <td>16</td>\n",
       "      <td>4</td>\n",
       "      <td>20</td>\n",
       "    </tr>\n",
       "    <tr>\n",
       "      <th>1909</th>\n",
       "      <td>2016-04-21</td>\n",
       "      <td>Thursday</td>\n",
       "      <td>4</td>\n",
       "      <td>d_1910</td>\n",
       "      <td>No_event</td>\n",
       "      <td>201616</td>\n",
       "      <td>2016</td>\n",
       "      <td>16</td>\n",
       "      <td>4</td>\n",
       "      <td>21</td>\n",
       "    </tr>\n",
       "    <tr>\n",
       "      <th>1910</th>\n",
       "      <td>2016-04-22</td>\n",
       "      <td>Friday</td>\n",
       "      <td>5</td>\n",
       "      <td>d_1911</td>\n",
       "      <td>No_event</td>\n",
       "      <td>201616</td>\n",
       "      <td>2016</td>\n",
       "      <td>16</td>\n",
       "      <td>4</td>\n",
       "      <td>22</td>\n",
       "    </tr>\n",
       "    <tr>\n",
       "      <th>1911</th>\n",
       "      <td>2016-04-23</td>\n",
       "      <td>Saturday</td>\n",
       "      <td>6</td>\n",
       "      <td>d_1912</td>\n",
       "      <td>No_event</td>\n",
       "      <td>201617</td>\n",
       "      <td>2016</td>\n",
       "      <td>17</td>\n",
       "      <td>4</td>\n",
       "      <td>23</td>\n",
       "    </tr>\n",
       "    <tr>\n",
       "      <th>1912</th>\n",
       "      <td>2016-04-24</td>\n",
       "      <td>Sunday</td>\n",
       "      <td>7</td>\n",
       "      <td>d_1913</td>\n",
       "      <td>No_event</td>\n",
       "      <td>201617</td>\n",
       "      <td>2016</td>\n",
       "      <td>17</td>\n",
       "      <td>4</td>\n",
       "      <td>24</td>\n",
       "    </tr>\n",
       "  </tbody>\n",
       "</table>\n",
       "<p>1913 rows × 10 columns</p>\n",
       "</div>"
      ],
      "text/plain": [
       "           date    weekday  weekday_int       d     event yearweek  year week  \\\n",
       "0    2011-01-29   Saturday            6     d_1  No_event   201105  2011   05   \n",
       "1    2011-01-30     Sunday            7     d_2  No_event   201105  2011   05   \n",
       "2    2011-01-31     Monday            1     d_3  No_event   201105  2011   05   \n",
       "3    2011-02-01    Tuesday            2     d_4  No_event   201105  2011   05   \n",
       "4    2011-02-02  Wednesday            3     d_5  No_event   201105  2011   05   \n",
       "...         ...        ...          ...     ...       ...      ...   ...  ...   \n",
       "1908 2016-04-20  Wednesday            3  d_1909  No_event   201616  2016   16   \n",
       "1909 2016-04-21   Thursday            4  d_1910  No_event   201616  2016   16   \n",
       "1910 2016-04-22     Friday            5  d_1911  No_event   201616  2016   16   \n",
       "1911 2016-04-23   Saturday            6  d_1912  No_event   201617  2016   17   \n",
       "1912 2016-04-24     Sunday            7  d_1913  No_event   201617  2016   17   \n",
       "\n",
       "      month  day  \n",
       "0         1   29  \n",
       "1         1   30  \n",
       "2         1   31  \n",
       "3         2    1  \n",
       "4         2    2  \n",
       "...     ...  ...  \n",
       "1908      4   20  \n",
       "1909      4   21  \n",
       "1910      4   22  \n",
       "1911      4   23  \n",
       "1912      4   24  \n",
       "\n",
       "[1913 rows x 10 columns]"
      ]
     },
     "execution_count": 283,
     "metadata": {},
     "output_type": "execute_result"
    }
   ],
   "source": [
    "df_calendar"
   ]
  },
  {
   "cell_type": "code",
   "execution_count": 284,
   "metadata": {},
   "outputs": [
    {
     "data": {
      "text/plain": [
       "year\n",
       "2011    52\n",
       "2012    53\n",
       "2013    52\n",
       "2014    52\n",
       "2015    52\n",
       "2016    17\n",
       "Name: week, dtype: object"
      ]
     },
     "execution_count": 284,
     "metadata": {},
     "output_type": "execute_result"
    }
   ],
   "source": [
    "df_calendar.groupby('year')['week'].max()"
   ]
  },
  {
   "cell_type": "code",
   "execution_count": 285,
   "metadata": {},
   "outputs": [
    {
     "data": {
      "text/plain": [
       "'201105'"
      ]
     },
     "execution_count": 285,
     "metadata": {},
     "output_type": "execute_result"
    }
   ],
   "source": [
    "df_calendar['yearweek'].min()"
   ]
  },
  {
   "cell_type": "code",
   "execution_count": 286,
   "metadata": {},
   "outputs": [
    {
     "data": {
      "text/plain": [
       "'201617'"
      ]
     },
     "execution_count": 286,
     "metadata": {},
     "output_type": "execute_result"
    }
   ],
   "source": [
    "df_calendar['yearweek'].max()"
   ]
  },
  {
   "cell_type": "code",
   "execution_count": 287,
   "metadata": {},
   "outputs": [
    {
     "data": {
      "text/plain": [
       "array(['201105', '201106', '201107', '201108', '201109', '201110',\n",
       "       '201111', '201112', '201113', '201114', '201115', '201116',\n",
       "       '201117', '201118', '201119', '201120', '201121', '201122',\n",
       "       '201123', '201124', '201125', '201126', '201127', '201128',\n",
       "       '201129', '201130', '201131', '201132', '201133', '201134',\n",
       "       '201135', '201136', '201137', '201138', '201139', '201140',\n",
       "       '201141', '201142', '201143', '201144', '201145', '201146',\n",
       "       '201147', '201148', '201149', '201150', '201151', '201152',\n",
       "       '201201', '201202', '201203', '201204', '201205', '201206',\n",
       "       '201207', '201208', '201209', '201210', '201211', '201212',\n",
       "       '201213', '201214', '201215', '201216', '201217', '201218',\n",
       "       '201219', '201220', '201221', '201222', '201223', '201224',\n",
       "       '201225', '201226', '201227', '201228', '201229', '201230',\n",
       "       '201231', '201232', '201233', '201234', '201235', '201236',\n",
       "       '201237', '201238', '201239', '201240', '201241', '201242',\n",
       "       '201243', '201244', '201245', '201246', '201247', '201248',\n",
       "       '201249', '201250', '201251', '201252', '201253', '201301',\n",
       "       '201302', '201303', '201304', '201305', '201306', '201307',\n",
       "       '201308', '201309', '201310', '201311', '201312', '201313',\n",
       "       '201314', '201315', '201316', '201317', '201318', '201319',\n",
       "       '201320', '201321', '201322', '201323', '201324', '201325',\n",
       "       '201326', '201327', '201328', '201329', '201330', '201331',\n",
       "       '201332', '201333', '201334', '201335', '201336', '201337',\n",
       "       '201338', '201339', '201340', '201341', '201342', '201343',\n",
       "       '201344', '201345', '201346', '201347', '201348', '201349',\n",
       "       '201350', '201351', '201352', '201401', '201402', '201403',\n",
       "       '201404', '201405', '201406', '201407', '201408', '201409',\n",
       "       '201410', '201411', '201412', '201413', '201414', '201415',\n",
       "       '201416', '201417', '201418', '201419', '201420', '201421',\n",
       "       '201422', '201423', '201424', '201425', '201426', '201427',\n",
       "       '201428', '201429', '201430', '201431', '201432', '201433',\n",
       "       '201434', '201435', '201436', '201437', '201438', '201439',\n",
       "       '201440', '201441', '201442', '201443', '201444', '201445',\n",
       "       '201446', '201447', '201448', '201449', '201450', '201451',\n",
       "       '201452', '201501', '201502', '201503', '201504', '201505',\n",
       "       '201506', '201507', '201508', '201509', '201510', '201511',\n",
       "       '201512', '201513', '201514', '201515', '201516', '201517',\n",
       "       '201518', '201519', '201520', '201521', '201522', '201523',\n",
       "       '201524', '201525', '201526', '201527', '201528', '201529',\n",
       "       '201530', '201531', '201532', '201533', '201534', '201535',\n",
       "       '201536', '201537', '201538', '201539', '201540', '201541',\n",
       "       '201542', '201543', '201544', '201545', '201546', '201547',\n",
       "       '201548', '201549', '201550', '201551', '201552', '201601',\n",
       "       '201602', '201603', '201604', '201605', '201606', '201607',\n",
       "       '201608', '201609', '201610', '201611', '201612', '201613',\n",
       "       '201614', '201615', '201616', '201617'], dtype=object)"
      ]
     },
     "execution_count": 287,
     "metadata": {},
     "output_type": "execute_result"
    }
   ],
   "source": [
    "df_calendar['yearweek'].unique()"
   ]
  },
  {
   "cell_type": "markdown",
   "metadata": {
    "id": "W69KvKSgug1Q"
   },
   "source": [
    "### 4.2. Sales\n"
   ]
  },
  {
   "cell_type": "markdown",
   "metadata": {
    "id": "B4w9GZYtlpO7"
   },
   "source": [
    "- Se hizo melt de las columnas \"d_\" para que sean filas en vez de columnas manteniendo fijas las columas desde \"id\" a \"region\"\n",
    "- en primera instancia se habian eliminado las lineas con venta 0 pero hemos visto que para algunos analisis previos a la clusterizacion son necesarias las lineas sin ventas\n",
    "- Se resetaron los numeros del index\n",
    "- Se incluyeron las columnas de \"date\", \"yearweek\", \"events\" y \"weekday\" a partir de los diccionarios creados anteriormente"
   ]
  },
  {
   "cell_type": "code",
   "execution_count": 288,
   "metadata": {
    "colab": {
     "base_uri": "https://localhost:8080/",
     "height": 0
    },
    "executionInfo": {
     "elapsed": 10,
     "status": "ok",
     "timestamp": 1737033391874,
     "user": {
      "displayName": "Gaspar Manzini",
      "userId": "04945097798978388435"
     },
     "user_tz": -60
    },
    "id": "6FXKuiQzY-mO",
    "outputId": "01069920-5df7-429b-f5c6-c6ff85935a6c"
   },
   "outputs": [
    {
     "data": {
      "text/html": [
       "<div>\n",
       "<style scoped>\n",
       "    .dataframe tbody tr th:only-of-type {\n",
       "        vertical-align: middle;\n",
       "    }\n",
       "\n",
       "    .dataframe tbody tr th {\n",
       "        vertical-align: top;\n",
       "    }\n",
       "\n",
       "    .dataframe thead th {\n",
       "        text-align: right;\n",
       "    }\n",
       "</style>\n",
       "<table border=\"1\" class=\"dataframe\">\n",
       "  <thead>\n",
       "    <tr style=\"text-align: right;\">\n",
       "      <th></th>\n",
       "      <th>id</th>\n",
       "      <th>item</th>\n",
       "      <th>category</th>\n",
       "      <th>department</th>\n",
       "      <th>store</th>\n",
       "      <th>store_code</th>\n",
       "      <th>region</th>\n",
       "      <th>d_1</th>\n",
       "      <th>d_2</th>\n",
       "      <th>d_3</th>\n",
       "      <th>...</th>\n",
       "      <th>d_1904</th>\n",
       "      <th>d_1905</th>\n",
       "      <th>d_1906</th>\n",
       "      <th>d_1907</th>\n",
       "      <th>d_1908</th>\n",
       "      <th>d_1909</th>\n",
       "      <th>d_1910</th>\n",
       "      <th>d_1911</th>\n",
       "      <th>d_1912</th>\n",
       "      <th>d_1913</th>\n",
       "    </tr>\n",
       "  </thead>\n",
       "  <tbody>\n",
       "    <tr>\n",
       "      <th>0</th>\n",
       "      <td>ACCESORIES_1_001_NYC_1</td>\n",
       "      <td>ACCESORIES_1_001</td>\n",
       "      <td>ACCESORIES</td>\n",
       "      <td>ACCESORIES_1</td>\n",
       "      <td>Greenwich_Village</td>\n",
       "      <td>NYC_1</td>\n",
       "      <td>New York</td>\n",
       "      <td>0</td>\n",
       "      <td>0</td>\n",
       "      <td>0</td>\n",
       "      <td>...</td>\n",
       "      <td>1</td>\n",
       "      <td>3</td>\n",
       "      <td>0</td>\n",
       "      <td>1</td>\n",
       "      <td>1</td>\n",
       "      <td>1</td>\n",
       "      <td>3</td>\n",
       "      <td>0</td>\n",
       "      <td>1</td>\n",
       "      <td>1</td>\n",
       "    </tr>\n",
       "    <tr>\n",
       "      <th>1</th>\n",
       "      <td>ACCESORIES_1_002_NYC_1</td>\n",
       "      <td>ACCESORIES_1_002</td>\n",
       "      <td>ACCESORIES</td>\n",
       "      <td>ACCESORIES_1</td>\n",
       "      <td>Greenwich_Village</td>\n",
       "      <td>NYC_1</td>\n",
       "      <td>New York</td>\n",
       "      <td>0</td>\n",
       "      <td>0</td>\n",
       "      <td>0</td>\n",
       "      <td>...</td>\n",
       "      <td>0</td>\n",
       "      <td>0</td>\n",
       "      <td>0</td>\n",
       "      <td>0</td>\n",
       "      <td>0</td>\n",
       "      <td>1</td>\n",
       "      <td>0</td>\n",
       "      <td>0</td>\n",
       "      <td>0</td>\n",
       "      <td>0</td>\n",
       "    </tr>\n",
       "    <tr>\n",
       "      <th>2</th>\n",
       "      <td>ACCESORIES_1_003_NYC_1</td>\n",
       "      <td>ACCESORIES_1_003</td>\n",
       "      <td>ACCESORIES</td>\n",
       "      <td>ACCESORIES_1</td>\n",
       "      <td>Greenwich_Village</td>\n",
       "      <td>NYC_1</td>\n",
       "      <td>New York</td>\n",
       "      <td>0</td>\n",
       "      <td>0</td>\n",
       "      <td>0</td>\n",
       "      <td>...</td>\n",
       "      <td>2</td>\n",
       "      <td>1</td>\n",
       "      <td>2</td>\n",
       "      <td>1</td>\n",
       "      <td>1</td>\n",
       "      <td>1</td>\n",
       "      <td>0</td>\n",
       "      <td>1</td>\n",
       "      <td>1</td>\n",
       "      <td>1</td>\n",
       "    </tr>\n",
       "    <tr>\n",
       "      <th>3</th>\n",
       "      <td>ACCESORIES_1_004_NYC_1</td>\n",
       "      <td>ACCESORIES_1_004</td>\n",
       "      <td>ACCESORIES</td>\n",
       "      <td>ACCESORIES_1</td>\n",
       "      <td>Greenwich_Village</td>\n",
       "      <td>NYC_1</td>\n",
       "      <td>New York</td>\n",
       "      <td>0</td>\n",
       "      <td>0</td>\n",
       "      <td>0</td>\n",
       "      <td>...</td>\n",
       "      <td>1</td>\n",
       "      <td>0</td>\n",
       "      <td>5</td>\n",
       "      <td>4</td>\n",
       "      <td>1</td>\n",
       "      <td>0</td>\n",
       "      <td>1</td>\n",
       "      <td>3</td>\n",
       "      <td>7</td>\n",
       "      <td>2</td>\n",
       "    </tr>\n",
       "    <tr>\n",
       "      <th>4</th>\n",
       "      <td>ACCESORIES_1_005_NYC_1</td>\n",
       "      <td>ACCESORIES_1_005</td>\n",
       "      <td>ACCESORIES</td>\n",
       "      <td>ACCESORIES_1</td>\n",
       "      <td>Greenwich_Village</td>\n",
       "      <td>NYC_1</td>\n",
       "      <td>New York</td>\n",
       "      <td>0</td>\n",
       "      <td>0</td>\n",
       "      <td>0</td>\n",
       "      <td>...</td>\n",
       "      <td>2</td>\n",
       "      <td>1</td>\n",
       "      <td>1</td>\n",
       "      <td>0</td>\n",
       "      <td>1</td>\n",
       "      <td>1</td>\n",
       "      <td>2</td>\n",
       "      <td>2</td>\n",
       "      <td>2</td>\n",
       "      <td>4</td>\n",
       "    </tr>\n",
       "    <tr>\n",
       "      <th>...</th>\n",
       "      <td>...</td>\n",
       "      <td>...</td>\n",
       "      <td>...</td>\n",
       "      <td>...</td>\n",
       "      <td>...</td>\n",
       "      <td>...</td>\n",
       "      <td>...</td>\n",
       "      <td>...</td>\n",
       "      <td>...</td>\n",
       "      <td>...</td>\n",
       "      <td>...</td>\n",
       "      <td>...</td>\n",
       "      <td>...</td>\n",
       "      <td>...</td>\n",
       "      <td>...</td>\n",
       "      <td>...</td>\n",
       "      <td>...</td>\n",
       "      <td>...</td>\n",
       "      <td>...</td>\n",
       "      <td>...</td>\n",
       "      <td>...</td>\n",
       "    </tr>\n",
       "    <tr>\n",
       "      <th>30485</th>\n",
       "      <td>SUPERMARKET_3_823_PHI_3</td>\n",
       "      <td>SUPERMARKET_3_823</td>\n",
       "      <td>SUPERMARKET</td>\n",
       "      <td>SUPERMARKET_3</td>\n",
       "      <td>Queen_Village</td>\n",
       "      <td>PHI_3</td>\n",
       "      <td>Philadelphia</td>\n",
       "      <td>0</td>\n",
       "      <td>0</td>\n",
       "      <td>2</td>\n",
       "      <td>...</td>\n",
       "      <td>2</td>\n",
       "      <td>0</td>\n",
       "      <td>0</td>\n",
       "      <td>0</td>\n",
       "      <td>0</td>\n",
       "      <td>0</td>\n",
       "      <td>1</td>\n",
       "      <td>0</td>\n",
       "      <td>0</td>\n",
       "      <td>1</td>\n",
       "    </tr>\n",
       "    <tr>\n",
       "      <th>30486</th>\n",
       "      <td>SUPERMARKET_3_824_PHI_3</td>\n",
       "      <td>SUPERMARKET_3_824</td>\n",
       "      <td>SUPERMARKET</td>\n",
       "      <td>SUPERMARKET_3</td>\n",
       "      <td>Queen_Village</td>\n",
       "      <td>PHI_3</td>\n",
       "      <td>Philadelphia</td>\n",
       "      <td>0</td>\n",
       "      <td>0</td>\n",
       "      <td>0</td>\n",
       "      <td>...</td>\n",
       "      <td>0</td>\n",
       "      <td>0</td>\n",
       "      <td>0</td>\n",
       "      <td>0</td>\n",
       "      <td>0</td>\n",
       "      <td>0</td>\n",
       "      <td>0</td>\n",
       "      <td>0</td>\n",
       "      <td>1</td>\n",
       "      <td>0</td>\n",
       "    </tr>\n",
       "    <tr>\n",
       "      <th>30487</th>\n",
       "      <td>SUPERMARKET_3_825_PHI_3</td>\n",
       "      <td>SUPERMARKET_3_825</td>\n",
       "      <td>SUPERMARKET</td>\n",
       "      <td>SUPERMARKET_3</td>\n",
       "      <td>Queen_Village</td>\n",
       "      <td>PHI_3</td>\n",
       "      <td>Philadelphia</td>\n",
       "      <td>0</td>\n",
       "      <td>6</td>\n",
       "      <td>0</td>\n",
       "      <td>...</td>\n",
       "      <td>2</td>\n",
       "      <td>1</td>\n",
       "      <td>0</td>\n",
       "      <td>2</td>\n",
       "      <td>0</td>\n",
       "      <td>1</td>\n",
       "      <td>0</td>\n",
       "      <td>0</td>\n",
       "      <td>1</td>\n",
       "      <td>0</td>\n",
       "    </tr>\n",
       "    <tr>\n",
       "      <th>30488</th>\n",
       "      <td>SUPERMARKET_3_826_PHI_3</td>\n",
       "      <td>SUPERMARKET_3_826</td>\n",
       "      <td>SUPERMARKET</td>\n",
       "      <td>SUPERMARKET_3</td>\n",
       "      <td>Queen_Village</td>\n",
       "      <td>PHI_3</td>\n",
       "      <td>Philadelphia</td>\n",
       "      <td>0</td>\n",
       "      <td>0</td>\n",
       "      <td>0</td>\n",
       "      <td>...</td>\n",
       "      <td>0</td>\n",
       "      <td>0</td>\n",
       "      <td>1</td>\n",
       "      <td>0</td>\n",
       "      <td>0</td>\n",
       "      <td>1</td>\n",
       "      <td>0</td>\n",
       "      <td>3</td>\n",
       "      <td>1</td>\n",
       "      <td>3</td>\n",
       "    </tr>\n",
       "    <tr>\n",
       "      <th>30489</th>\n",
       "      <td>SUPERMARKET_3_827_PHI_3</td>\n",
       "      <td>SUPERMARKET_3_827</td>\n",
       "      <td>SUPERMARKET</td>\n",
       "      <td>SUPERMARKET_3</td>\n",
       "      <td>Queen_Village</td>\n",
       "      <td>PHI_3</td>\n",
       "      <td>Philadelphia</td>\n",
       "      <td>0</td>\n",
       "      <td>0</td>\n",
       "      <td>0</td>\n",
       "      <td>...</td>\n",
       "      <td>0</td>\n",
       "      <td>0</td>\n",
       "      <td>0</td>\n",
       "      <td>0</td>\n",
       "      <td>0</td>\n",
       "      <td>0</td>\n",
       "      <td>0</td>\n",
       "      <td>0</td>\n",
       "      <td>0</td>\n",
       "      <td>0</td>\n",
       "    </tr>\n",
       "  </tbody>\n",
       "</table>\n",
       "<p>30490 rows × 1920 columns</p>\n",
       "</div>"
      ],
      "text/plain": [
       "                            id               item     category     department  \\\n",
       "0       ACCESORIES_1_001_NYC_1   ACCESORIES_1_001   ACCESORIES   ACCESORIES_1   \n",
       "1       ACCESORIES_1_002_NYC_1   ACCESORIES_1_002   ACCESORIES   ACCESORIES_1   \n",
       "2       ACCESORIES_1_003_NYC_1   ACCESORIES_1_003   ACCESORIES   ACCESORIES_1   \n",
       "3       ACCESORIES_1_004_NYC_1   ACCESORIES_1_004   ACCESORIES   ACCESORIES_1   \n",
       "4       ACCESORIES_1_005_NYC_1   ACCESORIES_1_005   ACCESORIES   ACCESORIES_1   \n",
       "...                        ...                ...          ...            ...   \n",
       "30485  SUPERMARKET_3_823_PHI_3  SUPERMARKET_3_823  SUPERMARKET  SUPERMARKET_3   \n",
       "30486  SUPERMARKET_3_824_PHI_3  SUPERMARKET_3_824  SUPERMARKET  SUPERMARKET_3   \n",
       "30487  SUPERMARKET_3_825_PHI_3  SUPERMARKET_3_825  SUPERMARKET  SUPERMARKET_3   \n",
       "30488  SUPERMARKET_3_826_PHI_3  SUPERMARKET_3_826  SUPERMARKET  SUPERMARKET_3   \n",
       "30489  SUPERMARKET_3_827_PHI_3  SUPERMARKET_3_827  SUPERMARKET  SUPERMARKET_3   \n",
       "\n",
       "                   store store_code        region  d_1  d_2  d_3  ...  d_1904  \\\n",
       "0      Greenwich_Village      NYC_1      New York    0    0    0  ...       1   \n",
       "1      Greenwich_Village      NYC_1      New York    0    0    0  ...       0   \n",
       "2      Greenwich_Village      NYC_1      New York    0    0    0  ...       2   \n",
       "3      Greenwich_Village      NYC_1      New York    0    0    0  ...       1   \n",
       "4      Greenwich_Village      NYC_1      New York    0    0    0  ...       2   \n",
       "...                  ...        ...           ...  ...  ...  ...  ...     ...   \n",
       "30485      Queen_Village      PHI_3  Philadelphia    0    0    2  ...       2   \n",
       "30486      Queen_Village      PHI_3  Philadelphia    0    0    0  ...       0   \n",
       "30487      Queen_Village      PHI_3  Philadelphia    0    6    0  ...       2   \n",
       "30488      Queen_Village      PHI_3  Philadelphia    0    0    0  ...       0   \n",
       "30489      Queen_Village      PHI_3  Philadelphia    0    0    0  ...       0   \n",
       "\n",
       "       d_1905  d_1906  d_1907  d_1908  d_1909  d_1910  d_1911  d_1912  d_1913  \n",
       "0           3       0       1       1       1       3       0       1       1  \n",
       "1           0       0       0       0       1       0       0       0       0  \n",
       "2           1       2       1       1       1       0       1       1       1  \n",
       "3           0       5       4       1       0       1       3       7       2  \n",
       "4           1       1       0       1       1       2       2       2       4  \n",
       "...       ...     ...     ...     ...     ...     ...     ...     ...     ...  \n",
       "30485       0       0       0       0       0       1       0       0       1  \n",
       "30486       0       0       0       0       0       0       0       1       0  \n",
       "30487       1       0       2       0       1       0       0       1       0  \n",
       "30488       0       1       0       0       1       0       3       1       3  \n",
       "30489       0       0       0       0       0       0       0       0       0  \n",
       "\n",
       "[30490 rows x 1920 columns]"
      ]
     },
     "execution_count": 288,
     "metadata": {},
     "output_type": "execute_result"
    }
   ],
   "source": [
    "df_sales_original"
   ]
  },
  {
   "cell_type": "code",
   "execution_count": 289,
   "metadata": {
    "colab": {
     "base_uri": "https://localhost:8080/"
    },
    "executionInfo": {
     "elapsed": 9,
     "status": "ok",
     "timestamp": 1737033391874,
     "user": {
      "displayName": "Gaspar Manzini",
      "userId": "04945097798978388435"
     },
     "user_tz": -60
    },
    "id": "6SJ2y1HZZB4G",
    "outputId": "acae9583-86ef-4ddf-c8e8-957fe6f12a51"
   },
   "outputs": [
    {
     "data": {
      "text/plain": [
       "['id', 'item', 'category', 'department', 'store', 'store_code', 'region']"
      ]
     },
     "execution_count": 289,
     "metadata": {},
     "output_type": "execute_result"
    }
   ],
   "source": [
    "columns_sales = df_sales_original.columns[:7].to_list()\n",
    "columns_sales"
   ]
  },
  {
   "cell_type": "code",
   "execution_count": 290,
   "metadata": {
    "executionInfo": {
     "elapsed": 18890,
     "status": "ok",
     "timestamp": 1737033410756,
     "user": {
      "displayName": "Gaspar Manzini",
      "userId": "04945097798978388435"
     },
     "user_tz": -60
    },
    "id": "AqRJL_-SudnH"
   },
   "outputs": [],
   "source": [
    "#Mover las ventas a filas\n",
    "# id_vars = Columnas que no cambian\n",
    "# var_name = Nombre para la nueva columna de fecha\n",
    "# value_name = Nombre para los valores de ventas\n",
    "\n",
    "df_sales = pd.melt(df_sales_original,id_vars=columns_sales,var_name='Fecha',value_name='Qsale')"
   ]
  },
  {
   "cell_type": "code",
   "execution_count": 291,
   "metadata": {
    "executionInfo": {
     "elapsed": 2722,
     "status": "ok",
     "timestamp": 1737033413474,
     "user": {
      "displayName": "Gaspar Manzini",
      "userId": "04945097798978388435"
     },
     "user_tz": -60
    },
    "id": "Udb35R_Tudsv"
   },
   "outputs": [],
   "source": [
    "#eliminar las lineas en las que las ventas son 0\n",
    "\n",
    "#df_sales = df_sales[df_sales['Qsale'] != 0]+"
   ]
  },
  {
   "cell_type": "code",
   "execution_count": 292,
   "metadata": {
    "executionInfo": {
     "elapsed": 3183,
     "status": "ok",
     "timestamp": 1737033416654,
     "user": {
      "displayName": "Gaspar Manzini",
      "userId": "04945097798978388435"
     },
     "user_tz": -60
    },
    "id": "7WpzNFXWudvU"
   },
   "outputs": [],
   "source": [
    "#Resetear los numeros del indice\n",
    "\n",
    "#df_sales = df_sales.reset_index(drop=True)"
   ]
  },
  {
   "cell_type": "code",
   "execution_count": 293,
   "metadata": {
    "colab": {
     "base_uri": "https://localhost:8080/",
     "height": 0
    },
    "executionInfo": {
     "elapsed": 6,
     "status": "ok",
     "timestamp": 1737033416654,
     "user": {
      "displayName": "Gaspar Manzini",
      "userId": "04945097798978388435"
     },
     "user_tz": -60
    },
    "id": "r0PLh-LPdGCL",
    "outputId": "e5fb4f81-7ab8-48e9-d115-17fb61a94112"
   },
   "outputs": [
    {
     "data": {
      "text/html": [
       "<div>\n",
       "<style scoped>\n",
       "    .dataframe tbody tr th:only-of-type {\n",
       "        vertical-align: middle;\n",
       "    }\n",
       "\n",
       "    .dataframe tbody tr th {\n",
       "        vertical-align: top;\n",
       "    }\n",
       "\n",
       "    .dataframe thead th {\n",
       "        text-align: right;\n",
       "    }\n",
       "</style>\n",
       "<table border=\"1\" class=\"dataframe\">\n",
       "  <thead>\n",
       "    <tr style=\"text-align: right;\">\n",
       "      <th></th>\n",
       "      <th>id</th>\n",
       "      <th>item</th>\n",
       "      <th>category</th>\n",
       "      <th>department</th>\n",
       "      <th>store</th>\n",
       "      <th>store_code</th>\n",
       "      <th>region</th>\n",
       "      <th>Fecha</th>\n",
       "      <th>Qsale</th>\n",
       "    </tr>\n",
       "  </thead>\n",
       "  <tbody>\n",
       "    <tr>\n",
       "      <th>0</th>\n",
       "      <td>ACCESORIES_1_001_NYC_1</td>\n",
       "      <td>ACCESORIES_1_001</td>\n",
       "      <td>ACCESORIES</td>\n",
       "      <td>ACCESORIES_1</td>\n",
       "      <td>Greenwich_Village</td>\n",
       "      <td>NYC_1</td>\n",
       "      <td>New York</td>\n",
       "      <td>d_1</td>\n",
       "      <td>0</td>\n",
       "    </tr>\n",
       "    <tr>\n",
       "      <th>1</th>\n",
       "      <td>ACCESORIES_1_002_NYC_1</td>\n",
       "      <td>ACCESORIES_1_002</td>\n",
       "      <td>ACCESORIES</td>\n",
       "      <td>ACCESORIES_1</td>\n",
       "      <td>Greenwich_Village</td>\n",
       "      <td>NYC_1</td>\n",
       "      <td>New York</td>\n",
       "      <td>d_1</td>\n",
       "      <td>0</td>\n",
       "    </tr>\n",
       "    <tr>\n",
       "      <th>2</th>\n",
       "      <td>ACCESORIES_1_003_NYC_1</td>\n",
       "      <td>ACCESORIES_1_003</td>\n",
       "      <td>ACCESORIES</td>\n",
       "      <td>ACCESORIES_1</td>\n",
       "      <td>Greenwich_Village</td>\n",
       "      <td>NYC_1</td>\n",
       "      <td>New York</td>\n",
       "      <td>d_1</td>\n",
       "      <td>0</td>\n",
       "    </tr>\n",
       "    <tr>\n",
       "      <th>3</th>\n",
       "      <td>ACCESORIES_1_004_NYC_1</td>\n",
       "      <td>ACCESORIES_1_004</td>\n",
       "      <td>ACCESORIES</td>\n",
       "      <td>ACCESORIES_1</td>\n",
       "      <td>Greenwich_Village</td>\n",
       "      <td>NYC_1</td>\n",
       "      <td>New York</td>\n",
       "      <td>d_1</td>\n",
       "      <td>0</td>\n",
       "    </tr>\n",
       "    <tr>\n",
       "      <th>4</th>\n",
       "      <td>ACCESORIES_1_005_NYC_1</td>\n",
       "      <td>ACCESORIES_1_005</td>\n",
       "      <td>ACCESORIES</td>\n",
       "      <td>ACCESORIES_1</td>\n",
       "      <td>Greenwich_Village</td>\n",
       "      <td>NYC_1</td>\n",
       "      <td>New York</td>\n",
       "      <td>d_1</td>\n",
       "      <td>0</td>\n",
       "    </tr>\n",
       "    <tr>\n",
       "      <th>...</th>\n",
       "      <td>...</td>\n",
       "      <td>...</td>\n",
       "      <td>...</td>\n",
       "      <td>...</td>\n",
       "      <td>...</td>\n",
       "      <td>...</td>\n",
       "      <td>...</td>\n",
       "      <td>...</td>\n",
       "      <td>...</td>\n",
       "    </tr>\n",
       "    <tr>\n",
       "      <th>58327365</th>\n",
       "      <td>SUPERMARKET_3_823_PHI_3</td>\n",
       "      <td>SUPERMARKET_3_823</td>\n",
       "      <td>SUPERMARKET</td>\n",
       "      <td>SUPERMARKET_3</td>\n",
       "      <td>Queen_Village</td>\n",
       "      <td>PHI_3</td>\n",
       "      <td>Philadelphia</td>\n",
       "      <td>d_1913</td>\n",
       "      <td>1</td>\n",
       "    </tr>\n",
       "    <tr>\n",
       "      <th>58327366</th>\n",
       "      <td>SUPERMARKET_3_824_PHI_3</td>\n",
       "      <td>SUPERMARKET_3_824</td>\n",
       "      <td>SUPERMARKET</td>\n",
       "      <td>SUPERMARKET_3</td>\n",
       "      <td>Queen_Village</td>\n",
       "      <td>PHI_3</td>\n",
       "      <td>Philadelphia</td>\n",
       "      <td>d_1913</td>\n",
       "      <td>0</td>\n",
       "    </tr>\n",
       "    <tr>\n",
       "      <th>58327367</th>\n",
       "      <td>SUPERMARKET_3_825_PHI_3</td>\n",
       "      <td>SUPERMARKET_3_825</td>\n",
       "      <td>SUPERMARKET</td>\n",
       "      <td>SUPERMARKET_3</td>\n",
       "      <td>Queen_Village</td>\n",
       "      <td>PHI_3</td>\n",
       "      <td>Philadelphia</td>\n",
       "      <td>d_1913</td>\n",
       "      <td>0</td>\n",
       "    </tr>\n",
       "    <tr>\n",
       "      <th>58327368</th>\n",
       "      <td>SUPERMARKET_3_826_PHI_3</td>\n",
       "      <td>SUPERMARKET_3_826</td>\n",
       "      <td>SUPERMARKET</td>\n",
       "      <td>SUPERMARKET_3</td>\n",
       "      <td>Queen_Village</td>\n",
       "      <td>PHI_3</td>\n",
       "      <td>Philadelphia</td>\n",
       "      <td>d_1913</td>\n",
       "      <td>3</td>\n",
       "    </tr>\n",
       "    <tr>\n",
       "      <th>58327369</th>\n",
       "      <td>SUPERMARKET_3_827_PHI_3</td>\n",
       "      <td>SUPERMARKET_3_827</td>\n",
       "      <td>SUPERMARKET</td>\n",
       "      <td>SUPERMARKET_3</td>\n",
       "      <td>Queen_Village</td>\n",
       "      <td>PHI_3</td>\n",
       "      <td>Philadelphia</td>\n",
       "      <td>d_1913</td>\n",
       "      <td>0</td>\n",
       "    </tr>\n",
       "  </tbody>\n",
       "</table>\n",
       "<p>58327370 rows × 9 columns</p>\n",
       "</div>"
      ],
      "text/plain": [
       "                               id               item     category  \\\n",
       "0          ACCESORIES_1_001_NYC_1   ACCESORIES_1_001   ACCESORIES   \n",
       "1          ACCESORIES_1_002_NYC_1   ACCESORIES_1_002   ACCESORIES   \n",
       "2          ACCESORIES_1_003_NYC_1   ACCESORIES_1_003   ACCESORIES   \n",
       "3          ACCESORIES_1_004_NYC_1   ACCESORIES_1_004   ACCESORIES   \n",
       "4          ACCESORIES_1_005_NYC_1   ACCESORIES_1_005   ACCESORIES   \n",
       "...                           ...                ...          ...   \n",
       "58327365  SUPERMARKET_3_823_PHI_3  SUPERMARKET_3_823  SUPERMARKET   \n",
       "58327366  SUPERMARKET_3_824_PHI_3  SUPERMARKET_3_824  SUPERMARKET   \n",
       "58327367  SUPERMARKET_3_825_PHI_3  SUPERMARKET_3_825  SUPERMARKET   \n",
       "58327368  SUPERMARKET_3_826_PHI_3  SUPERMARKET_3_826  SUPERMARKET   \n",
       "58327369  SUPERMARKET_3_827_PHI_3  SUPERMARKET_3_827  SUPERMARKET   \n",
       "\n",
       "             department              store store_code        region   Fecha  \\\n",
       "0          ACCESORIES_1  Greenwich_Village      NYC_1      New York     d_1   \n",
       "1          ACCESORIES_1  Greenwich_Village      NYC_1      New York     d_1   \n",
       "2          ACCESORIES_1  Greenwich_Village      NYC_1      New York     d_1   \n",
       "3          ACCESORIES_1  Greenwich_Village      NYC_1      New York     d_1   \n",
       "4          ACCESORIES_1  Greenwich_Village      NYC_1      New York     d_1   \n",
       "...                 ...                ...        ...           ...     ...   \n",
       "58327365  SUPERMARKET_3      Queen_Village      PHI_3  Philadelphia  d_1913   \n",
       "58327366  SUPERMARKET_3      Queen_Village      PHI_3  Philadelphia  d_1913   \n",
       "58327367  SUPERMARKET_3      Queen_Village      PHI_3  Philadelphia  d_1913   \n",
       "58327368  SUPERMARKET_3      Queen_Village      PHI_3  Philadelphia  d_1913   \n",
       "58327369  SUPERMARKET_3      Queen_Village      PHI_3  Philadelphia  d_1913   \n",
       "\n",
       "          Qsale  \n",
       "0             0  \n",
       "1             0  \n",
       "2             0  \n",
       "3             0  \n",
       "4             0  \n",
       "...         ...  \n",
       "58327365      1  \n",
       "58327366      0  \n",
       "58327367      0  \n",
       "58327368      3  \n",
       "58327369      0  \n",
       "\n",
       "[58327370 rows x 9 columns]"
      ]
     },
     "execution_count": 293,
     "metadata": {},
     "output_type": "execute_result"
    }
   ],
   "source": [
    "df_sales"
   ]
  },
  {
   "cell_type": "code",
   "execution_count": 294,
   "metadata": {
    "executionInfo": {
     "elapsed": 9912,
     "status": "ok",
     "timestamp": 1737033426562,
     "user": {
      "displayName": "Gaspar Manzini",
      "userId": "04945097798978388435"
     },
     "user_tz": -60
    },
    "id": "5_EYAZnFud3R"
   },
   "outputs": [
    {
     "name": "stderr",
     "output_type": "stream",
     "text": [
      "C:\\Users\\gaspi\\AppData\\Local\\Temp\\ipykernel_16796\\2103031368.py:6: FutureWarning: The behavior of array concatenation with empty entries is deprecated. In a future version, this will no longer exclude empty items when determining the result dtype. To retain the old behavior, exclude the empty entries before the concat operation.\n",
      "  df_sales['weekday'] = df_sales['Fecha'].map(map_dict_weekday).combine_first(df_sales['Fecha'])\n"
     ]
    }
   ],
   "source": [
    "#Agregar fecha, yearweek y event del calendar\n",
    "\n",
    "df_sales['date'] = df_sales['Fecha'].map(map_dict_date).combine_first(df_sales['Fecha'])\n",
    "df_sales['yearweek'] = df_sales['Fecha'].map(map_dict_yearweek).combine_first(df_sales['Fecha'])\n",
    "df_sales['event'] = df_sales['Fecha'].map(map_dict_event).combine_first(df_sales['Fecha'])\n",
    "df_sales['weekday'] = df_sales['Fecha'].map(map_dict_weekday).combine_first(df_sales['Fecha'])\n"
   ]
  },
  {
   "cell_type": "code",
   "execution_count": 295,
   "metadata": {
    "colab": {
     "base_uri": "https://localhost:8080/",
     "height": 0
    },
    "executionInfo": {
     "elapsed": 87,
     "status": "ok",
     "timestamp": 1737033426565,
     "user": {
      "displayName": "Gaspar Manzini",
      "userId": "04945097798978388435"
     },
     "user_tz": -60
    },
    "id": "KrW-aulFignq",
    "outputId": "762ea40f-2b82-4972-8c84-ad000fa993c0"
   },
   "outputs": [
    {
     "data": {
      "text/html": [
       "<div>\n",
       "<style scoped>\n",
       "    .dataframe tbody tr th:only-of-type {\n",
       "        vertical-align: middle;\n",
       "    }\n",
       "\n",
       "    .dataframe tbody tr th {\n",
       "        vertical-align: top;\n",
       "    }\n",
       "\n",
       "    .dataframe thead th {\n",
       "        text-align: right;\n",
       "    }\n",
       "</style>\n",
       "<table border=\"1\" class=\"dataframe\">\n",
       "  <thead>\n",
       "    <tr style=\"text-align: right;\">\n",
       "      <th></th>\n",
       "      <th>id</th>\n",
       "      <th>item</th>\n",
       "      <th>category</th>\n",
       "      <th>department</th>\n",
       "      <th>store</th>\n",
       "      <th>store_code</th>\n",
       "      <th>region</th>\n",
       "      <th>Fecha</th>\n",
       "      <th>Qsale</th>\n",
       "      <th>date</th>\n",
       "      <th>yearweek</th>\n",
       "      <th>event</th>\n",
       "      <th>weekday</th>\n",
       "    </tr>\n",
       "  </thead>\n",
       "  <tbody>\n",
       "    <tr>\n",
       "      <th>0</th>\n",
       "      <td>ACCESORIES_1_001_NYC_1</td>\n",
       "      <td>ACCESORIES_1_001</td>\n",
       "      <td>ACCESORIES</td>\n",
       "      <td>ACCESORIES_1</td>\n",
       "      <td>Greenwich_Village</td>\n",
       "      <td>NYC_1</td>\n",
       "      <td>New York</td>\n",
       "      <td>d_1</td>\n",
       "      <td>0</td>\n",
       "      <td>2011-01-29</td>\n",
       "      <td>201105</td>\n",
       "      <td>No_event</td>\n",
       "      <td>6</td>\n",
       "    </tr>\n",
       "    <tr>\n",
       "      <th>1</th>\n",
       "      <td>ACCESORIES_1_002_NYC_1</td>\n",
       "      <td>ACCESORIES_1_002</td>\n",
       "      <td>ACCESORIES</td>\n",
       "      <td>ACCESORIES_1</td>\n",
       "      <td>Greenwich_Village</td>\n",
       "      <td>NYC_1</td>\n",
       "      <td>New York</td>\n",
       "      <td>d_1</td>\n",
       "      <td>0</td>\n",
       "      <td>2011-01-29</td>\n",
       "      <td>201105</td>\n",
       "      <td>No_event</td>\n",
       "      <td>6</td>\n",
       "    </tr>\n",
       "    <tr>\n",
       "      <th>2</th>\n",
       "      <td>ACCESORIES_1_003_NYC_1</td>\n",
       "      <td>ACCESORIES_1_003</td>\n",
       "      <td>ACCESORIES</td>\n",
       "      <td>ACCESORIES_1</td>\n",
       "      <td>Greenwich_Village</td>\n",
       "      <td>NYC_1</td>\n",
       "      <td>New York</td>\n",
       "      <td>d_1</td>\n",
       "      <td>0</td>\n",
       "      <td>2011-01-29</td>\n",
       "      <td>201105</td>\n",
       "      <td>No_event</td>\n",
       "      <td>6</td>\n",
       "    </tr>\n",
       "    <tr>\n",
       "      <th>3</th>\n",
       "      <td>ACCESORIES_1_004_NYC_1</td>\n",
       "      <td>ACCESORIES_1_004</td>\n",
       "      <td>ACCESORIES</td>\n",
       "      <td>ACCESORIES_1</td>\n",
       "      <td>Greenwich_Village</td>\n",
       "      <td>NYC_1</td>\n",
       "      <td>New York</td>\n",
       "      <td>d_1</td>\n",
       "      <td>0</td>\n",
       "      <td>2011-01-29</td>\n",
       "      <td>201105</td>\n",
       "      <td>No_event</td>\n",
       "      <td>6</td>\n",
       "    </tr>\n",
       "    <tr>\n",
       "      <th>4</th>\n",
       "      <td>ACCESORIES_1_005_NYC_1</td>\n",
       "      <td>ACCESORIES_1_005</td>\n",
       "      <td>ACCESORIES</td>\n",
       "      <td>ACCESORIES_1</td>\n",
       "      <td>Greenwich_Village</td>\n",
       "      <td>NYC_1</td>\n",
       "      <td>New York</td>\n",
       "      <td>d_1</td>\n",
       "      <td>0</td>\n",
       "      <td>2011-01-29</td>\n",
       "      <td>201105</td>\n",
       "      <td>No_event</td>\n",
       "      <td>6</td>\n",
       "    </tr>\n",
       "    <tr>\n",
       "      <th>...</th>\n",
       "      <td>...</td>\n",
       "      <td>...</td>\n",
       "      <td>...</td>\n",
       "      <td>...</td>\n",
       "      <td>...</td>\n",
       "      <td>...</td>\n",
       "      <td>...</td>\n",
       "      <td>...</td>\n",
       "      <td>...</td>\n",
       "      <td>...</td>\n",
       "      <td>...</td>\n",
       "      <td>...</td>\n",
       "      <td>...</td>\n",
       "    </tr>\n",
       "    <tr>\n",
       "      <th>58327365</th>\n",
       "      <td>SUPERMARKET_3_823_PHI_3</td>\n",
       "      <td>SUPERMARKET_3_823</td>\n",
       "      <td>SUPERMARKET</td>\n",
       "      <td>SUPERMARKET_3</td>\n",
       "      <td>Queen_Village</td>\n",
       "      <td>PHI_3</td>\n",
       "      <td>Philadelphia</td>\n",
       "      <td>d_1913</td>\n",
       "      <td>1</td>\n",
       "      <td>2016-04-24</td>\n",
       "      <td>201617</td>\n",
       "      <td>No_event</td>\n",
       "      <td>7</td>\n",
       "    </tr>\n",
       "    <tr>\n",
       "      <th>58327366</th>\n",
       "      <td>SUPERMARKET_3_824_PHI_3</td>\n",
       "      <td>SUPERMARKET_3_824</td>\n",
       "      <td>SUPERMARKET</td>\n",
       "      <td>SUPERMARKET_3</td>\n",
       "      <td>Queen_Village</td>\n",
       "      <td>PHI_3</td>\n",
       "      <td>Philadelphia</td>\n",
       "      <td>d_1913</td>\n",
       "      <td>0</td>\n",
       "      <td>2016-04-24</td>\n",
       "      <td>201617</td>\n",
       "      <td>No_event</td>\n",
       "      <td>7</td>\n",
       "    </tr>\n",
       "    <tr>\n",
       "      <th>58327367</th>\n",
       "      <td>SUPERMARKET_3_825_PHI_3</td>\n",
       "      <td>SUPERMARKET_3_825</td>\n",
       "      <td>SUPERMARKET</td>\n",
       "      <td>SUPERMARKET_3</td>\n",
       "      <td>Queen_Village</td>\n",
       "      <td>PHI_3</td>\n",
       "      <td>Philadelphia</td>\n",
       "      <td>d_1913</td>\n",
       "      <td>0</td>\n",
       "      <td>2016-04-24</td>\n",
       "      <td>201617</td>\n",
       "      <td>No_event</td>\n",
       "      <td>7</td>\n",
       "    </tr>\n",
       "    <tr>\n",
       "      <th>58327368</th>\n",
       "      <td>SUPERMARKET_3_826_PHI_3</td>\n",
       "      <td>SUPERMARKET_3_826</td>\n",
       "      <td>SUPERMARKET</td>\n",
       "      <td>SUPERMARKET_3</td>\n",
       "      <td>Queen_Village</td>\n",
       "      <td>PHI_3</td>\n",
       "      <td>Philadelphia</td>\n",
       "      <td>d_1913</td>\n",
       "      <td>3</td>\n",
       "      <td>2016-04-24</td>\n",
       "      <td>201617</td>\n",
       "      <td>No_event</td>\n",
       "      <td>7</td>\n",
       "    </tr>\n",
       "    <tr>\n",
       "      <th>58327369</th>\n",
       "      <td>SUPERMARKET_3_827_PHI_3</td>\n",
       "      <td>SUPERMARKET_3_827</td>\n",
       "      <td>SUPERMARKET</td>\n",
       "      <td>SUPERMARKET_3</td>\n",
       "      <td>Queen_Village</td>\n",
       "      <td>PHI_3</td>\n",
       "      <td>Philadelphia</td>\n",
       "      <td>d_1913</td>\n",
       "      <td>0</td>\n",
       "      <td>2016-04-24</td>\n",
       "      <td>201617</td>\n",
       "      <td>No_event</td>\n",
       "      <td>7</td>\n",
       "    </tr>\n",
       "  </tbody>\n",
       "</table>\n",
       "<p>58327370 rows × 13 columns</p>\n",
       "</div>"
      ],
      "text/plain": [
       "                               id               item     category  \\\n",
       "0          ACCESORIES_1_001_NYC_1   ACCESORIES_1_001   ACCESORIES   \n",
       "1          ACCESORIES_1_002_NYC_1   ACCESORIES_1_002   ACCESORIES   \n",
       "2          ACCESORIES_1_003_NYC_1   ACCESORIES_1_003   ACCESORIES   \n",
       "3          ACCESORIES_1_004_NYC_1   ACCESORIES_1_004   ACCESORIES   \n",
       "4          ACCESORIES_1_005_NYC_1   ACCESORIES_1_005   ACCESORIES   \n",
       "...                           ...                ...          ...   \n",
       "58327365  SUPERMARKET_3_823_PHI_3  SUPERMARKET_3_823  SUPERMARKET   \n",
       "58327366  SUPERMARKET_3_824_PHI_3  SUPERMARKET_3_824  SUPERMARKET   \n",
       "58327367  SUPERMARKET_3_825_PHI_3  SUPERMARKET_3_825  SUPERMARKET   \n",
       "58327368  SUPERMARKET_3_826_PHI_3  SUPERMARKET_3_826  SUPERMARKET   \n",
       "58327369  SUPERMARKET_3_827_PHI_3  SUPERMARKET_3_827  SUPERMARKET   \n",
       "\n",
       "             department              store store_code        region   Fecha  \\\n",
       "0          ACCESORIES_1  Greenwich_Village      NYC_1      New York     d_1   \n",
       "1          ACCESORIES_1  Greenwich_Village      NYC_1      New York     d_1   \n",
       "2          ACCESORIES_1  Greenwich_Village      NYC_1      New York     d_1   \n",
       "3          ACCESORIES_1  Greenwich_Village      NYC_1      New York     d_1   \n",
       "4          ACCESORIES_1  Greenwich_Village      NYC_1      New York     d_1   \n",
       "...                 ...                ...        ...           ...     ...   \n",
       "58327365  SUPERMARKET_3      Queen_Village      PHI_3  Philadelphia  d_1913   \n",
       "58327366  SUPERMARKET_3      Queen_Village      PHI_3  Philadelphia  d_1913   \n",
       "58327367  SUPERMARKET_3      Queen_Village      PHI_3  Philadelphia  d_1913   \n",
       "58327368  SUPERMARKET_3      Queen_Village      PHI_3  Philadelphia  d_1913   \n",
       "58327369  SUPERMARKET_3      Queen_Village      PHI_3  Philadelphia  d_1913   \n",
       "\n",
       "          Qsale       date yearweek     event  weekday  \n",
       "0             0 2011-01-29   201105  No_event        6  \n",
       "1             0 2011-01-29   201105  No_event        6  \n",
       "2             0 2011-01-29   201105  No_event        6  \n",
       "3             0 2011-01-29   201105  No_event        6  \n",
       "4             0 2011-01-29   201105  No_event        6  \n",
       "...         ...        ...      ...       ...      ...  \n",
       "58327365      1 2016-04-24   201617  No_event        7  \n",
       "58327366      0 2016-04-24   201617  No_event        7  \n",
       "58327367      0 2016-04-24   201617  No_event        7  \n",
       "58327368      3 2016-04-24   201617  No_event        7  \n",
       "58327369      0 2016-04-24   201617  No_event        7  \n",
       "\n",
       "[58327370 rows x 13 columns]"
      ]
     },
     "execution_count": 295,
     "metadata": {},
     "output_type": "execute_result"
    }
   ],
   "source": [
    "df_sales"
   ]
  },
  {
   "cell_type": "markdown",
   "metadata": {
    "id": "_WsrXhF4utbX"
   },
   "source": [
    "### 4.3. Prices"
   ]
  },
  {
   "cell_type": "markdown",
   "metadata": {
    "id": "5AW6iWIqmfhw"
   },
   "source": [
    "- Se actualizaron los NaN en la columnas de \"yearweek\" con una formula personalizada\n",
    "- Se cambio el formato de la columna \"yearweek\" para eliminar el .0"
   ]
  },
  {
   "cell_type": "code",
   "execution_count": 296,
   "metadata": {
    "colab": {
     "base_uri": "https://localhost:8080/",
     "height": 423
    },
    "executionInfo": {
     "elapsed": 85,
     "status": "ok",
     "timestamp": 1737033426566,
     "user": {
      "displayName": "Gaspar Manzini",
      "userId": "04945097798978388435"
     },
     "user_tz": -60
    },
    "id": "uTlma0t_hzIz",
    "outputId": "30e669e3-a195-4e28-a62e-8f2bf0b7bc3c"
   },
   "outputs": [
    {
     "data": {
      "text/html": [
       "<div>\n",
       "<style scoped>\n",
       "    .dataframe tbody tr th:only-of-type {\n",
       "        vertical-align: middle;\n",
       "    }\n",
       "\n",
       "    .dataframe tbody tr th {\n",
       "        vertical-align: top;\n",
       "    }\n",
       "\n",
       "    .dataframe thead th {\n",
       "        text-align: right;\n",
       "    }\n",
       "</style>\n",
       "<table border=\"1\" class=\"dataframe\">\n",
       "  <thead>\n",
       "    <tr style=\"text-align: right;\">\n",
       "      <th></th>\n",
       "      <th>item</th>\n",
       "      <th>category</th>\n",
       "      <th>store_code</th>\n",
       "      <th>yearweek</th>\n",
       "      <th>sell_price</th>\n",
       "    </tr>\n",
       "  </thead>\n",
       "  <tbody>\n",
       "    <tr>\n",
       "      <th>0</th>\n",
       "      <td>ACCESORIES_1_001</td>\n",
       "      <td>ACCESORIES</td>\n",
       "      <td>NYC_1</td>\n",
       "      <td>201328.0</td>\n",
       "      <td>12.7414</td>\n",
       "    </tr>\n",
       "    <tr>\n",
       "      <th>1</th>\n",
       "      <td>ACCESORIES_1_001</td>\n",
       "      <td>ACCESORIES</td>\n",
       "      <td>NYC_1</td>\n",
       "      <td>201329.0</td>\n",
       "      <td>12.7414</td>\n",
       "    </tr>\n",
       "    <tr>\n",
       "      <th>2</th>\n",
       "      <td>ACCESORIES_1_001</td>\n",
       "      <td>ACCESORIES</td>\n",
       "      <td>NYC_1</td>\n",
       "      <td>201330.0</td>\n",
       "      <td>10.9858</td>\n",
       "    </tr>\n",
       "    <tr>\n",
       "      <th>3</th>\n",
       "      <td>ACCESORIES_1_001</td>\n",
       "      <td>ACCESORIES</td>\n",
       "      <td>NYC_1</td>\n",
       "      <td>201331.0</td>\n",
       "      <td>10.9858</td>\n",
       "    </tr>\n",
       "    <tr>\n",
       "      <th>4</th>\n",
       "      <td>ACCESORIES_1_001</td>\n",
       "      <td>ACCESORIES</td>\n",
       "      <td>NYC_1</td>\n",
       "      <td>201332.0</td>\n",
       "      <td>10.9858</td>\n",
       "    </tr>\n",
       "    <tr>\n",
       "      <th>...</th>\n",
       "      <td>...</td>\n",
       "      <td>...</td>\n",
       "      <td>...</td>\n",
       "      <td>...</td>\n",
       "      <td>...</td>\n",
       "    </tr>\n",
       "    <tr>\n",
       "      <th>6965701</th>\n",
       "      <td>SUPERMARKET_3_827</td>\n",
       "      <td>SUPERMARKET</td>\n",
       "      <td>PHI_3</td>\n",
       "      <td>NaN</td>\n",
       "      <td>1.2000</td>\n",
       "    </tr>\n",
       "    <tr>\n",
       "      <th>6965702</th>\n",
       "      <td>SUPERMARKET_3_827</td>\n",
       "      <td>SUPERMARKET</td>\n",
       "      <td>PHI_3</td>\n",
       "      <td>NaN</td>\n",
       "      <td>1.2000</td>\n",
       "    </tr>\n",
       "    <tr>\n",
       "      <th>6965703</th>\n",
       "      <td>SUPERMARKET_3_827</td>\n",
       "      <td>SUPERMARKET</td>\n",
       "      <td>PHI_3</td>\n",
       "      <td>NaN</td>\n",
       "      <td>1.2000</td>\n",
       "    </tr>\n",
       "    <tr>\n",
       "      <th>6965704</th>\n",
       "      <td>SUPERMARKET_3_827</td>\n",
       "      <td>SUPERMARKET</td>\n",
       "      <td>PHI_3</td>\n",
       "      <td>NaN</td>\n",
       "      <td>1.2000</td>\n",
       "    </tr>\n",
       "    <tr>\n",
       "      <th>6965705</th>\n",
       "      <td>SUPERMARKET_3_827</td>\n",
       "      <td>SUPERMARKET</td>\n",
       "      <td>PHI_3</td>\n",
       "      <td>NaN</td>\n",
       "      <td>1.2000</td>\n",
       "    </tr>\n",
       "  </tbody>\n",
       "</table>\n",
       "<p>6965706 rows × 5 columns</p>\n",
       "</div>"
      ],
      "text/plain": [
       "                      item     category store_code  yearweek  sell_price\n",
       "0         ACCESORIES_1_001   ACCESORIES      NYC_1  201328.0     12.7414\n",
       "1         ACCESORIES_1_001   ACCESORIES      NYC_1  201329.0     12.7414\n",
       "2         ACCESORIES_1_001   ACCESORIES      NYC_1  201330.0     10.9858\n",
       "3         ACCESORIES_1_001   ACCESORIES      NYC_1  201331.0     10.9858\n",
       "4         ACCESORIES_1_001   ACCESORIES      NYC_1  201332.0     10.9858\n",
       "...                    ...          ...        ...       ...         ...\n",
       "6965701  SUPERMARKET_3_827  SUPERMARKET      PHI_3       NaN      1.2000\n",
       "6965702  SUPERMARKET_3_827  SUPERMARKET      PHI_3       NaN      1.2000\n",
       "6965703  SUPERMARKET_3_827  SUPERMARKET      PHI_3       NaN      1.2000\n",
       "6965704  SUPERMARKET_3_827  SUPERMARKET      PHI_3       NaN      1.2000\n",
       "6965705  SUPERMARKET_3_827  SUPERMARKET      PHI_3       NaN      1.2000\n",
       "\n",
       "[6965706 rows x 5 columns]"
      ]
     },
     "execution_count": 296,
     "metadata": {},
     "output_type": "execute_result"
    }
   ],
   "source": [
    "df_prices"
   ]
  },
  {
   "cell_type": "code",
   "execution_count": 297,
   "metadata": {
    "executionInfo": {
     "elapsed": 11141,
     "status": "ok",
     "timestamp": 1737033437623,
     "user": {
      "displayName": "Gaspar Manzini",
      "userId": "04945097798978388435"
     },
     "user_tz": -60
    },
    "id": "y_QHriJtvb1g"
   },
   "outputs": [],
   "source": [
    "df_prices.dropna(inplace=True)\n"
   ]
  },
  {
   "cell_type": "code",
   "execution_count": 298,
   "metadata": {
    "executionInfo": {
     "elapsed": 2244,
     "status": "ok",
     "timestamp": 1737033439863,
     "user": {
      "displayName": "Gaspar Manzini",
      "userId": "04945097798978388435"
     },
     "user_tz": -60
    },
    "id": "V1qb16bg9aQi"
   },
   "outputs": [],
   "source": [
    "#pasar yearweek a str, primero lo paso a int para que no tenga el .0\n",
    "\n",
    "df_prices['yearweek'] = df_prices['yearweek'].astype(int)\n",
    "df_prices['yearweek'] = df_prices['yearweek'].astype(str)"
   ]
  },
  {
   "cell_type": "code",
   "execution_count": 299,
   "metadata": {
    "colab": {
     "base_uri": "https://localhost:8080/",
     "height": 423
    },
    "executionInfo": {
     "elapsed": 33,
     "status": "ok",
     "timestamp": 1737033439864,
     "user": {
      "displayName": "Gaspar Manzini",
      "userId": "04945097798978388435"
     },
     "user_tz": -60
    },
    "id": "6n0y3osmgiRH",
    "outputId": "3fe7f13d-7972-46cd-f2ff-c9a5107e837d"
   },
   "outputs": [
    {
     "data": {
      "text/html": [
       "<div>\n",
       "<style scoped>\n",
       "    .dataframe tbody tr th:only-of-type {\n",
       "        vertical-align: middle;\n",
       "    }\n",
       "\n",
       "    .dataframe tbody tr th {\n",
       "        vertical-align: top;\n",
       "    }\n",
       "\n",
       "    .dataframe thead th {\n",
       "        text-align: right;\n",
       "    }\n",
       "</style>\n",
       "<table border=\"1\" class=\"dataframe\">\n",
       "  <thead>\n",
       "    <tr style=\"text-align: right;\">\n",
       "      <th></th>\n",
       "      <th>item</th>\n",
       "      <th>category</th>\n",
       "      <th>store_code</th>\n",
       "      <th>yearweek</th>\n",
       "      <th>sell_price</th>\n",
       "    </tr>\n",
       "  </thead>\n",
       "  <tbody>\n",
       "    <tr>\n",
       "      <th>0</th>\n",
       "      <td>ACCESORIES_1_001</td>\n",
       "      <td>ACCESORIES</td>\n",
       "      <td>NYC_1</td>\n",
       "      <td>201328</td>\n",
       "      <td>12.7414</td>\n",
       "    </tr>\n",
       "    <tr>\n",
       "      <th>1</th>\n",
       "      <td>ACCESORIES_1_001</td>\n",
       "      <td>ACCESORIES</td>\n",
       "      <td>NYC_1</td>\n",
       "      <td>201329</td>\n",
       "      <td>12.7414</td>\n",
       "    </tr>\n",
       "    <tr>\n",
       "      <th>2</th>\n",
       "      <td>ACCESORIES_1_001</td>\n",
       "      <td>ACCESORIES</td>\n",
       "      <td>NYC_1</td>\n",
       "      <td>201330</td>\n",
       "      <td>10.9858</td>\n",
       "    </tr>\n",
       "    <tr>\n",
       "      <th>3</th>\n",
       "      <td>ACCESORIES_1_001</td>\n",
       "      <td>ACCESORIES</td>\n",
       "      <td>NYC_1</td>\n",
       "      <td>201331</td>\n",
       "      <td>10.9858</td>\n",
       "    </tr>\n",
       "    <tr>\n",
       "      <th>4</th>\n",
       "      <td>ACCESORIES_1_001</td>\n",
       "      <td>ACCESORIES</td>\n",
       "      <td>NYC_1</td>\n",
       "      <td>201332</td>\n",
       "      <td>10.9858</td>\n",
       "    </tr>\n",
       "    <tr>\n",
       "      <th>...</th>\n",
       "      <td>...</td>\n",
       "      <td>...</td>\n",
       "      <td>...</td>\n",
       "      <td>...</td>\n",
       "      <td>...</td>\n",
       "    </tr>\n",
       "    <tr>\n",
       "      <th>6965693</th>\n",
       "      <td>SUPERMARKET_3_827</td>\n",
       "      <td>SUPERMARKET</td>\n",
       "      <td>PHI_3</td>\n",
       "      <td>201613</td>\n",
       "      <td>1.2000</td>\n",
       "    </tr>\n",
       "    <tr>\n",
       "      <th>6965694</th>\n",
       "      <td>SUPERMARKET_3_827</td>\n",
       "      <td>SUPERMARKET</td>\n",
       "      <td>PHI_3</td>\n",
       "      <td>201614</td>\n",
       "      <td>1.2000</td>\n",
       "    </tr>\n",
       "    <tr>\n",
       "      <th>6965695</th>\n",
       "      <td>SUPERMARKET_3_827</td>\n",
       "      <td>SUPERMARKET</td>\n",
       "      <td>PHI_3</td>\n",
       "      <td>201615</td>\n",
       "      <td>1.2000</td>\n",
       "    </tr>\n",
       "    <tr>\n",
       "      <th>6965696</th>\n",
       "      <td>SUPERMARKET_3_827</td>\n",
       "      <td>SUPERMARKET</td>\n",
       "      <td>PHI_3</td>\n",
       "      <td>201616</td>\n",
       "      <td>1.2000</td>\n",
       "    </tr>\n",
       "    <tr>\n",
       "      <th>6965697</th>\n",
       "      <td>SUPERMARKET_3_827</td>\n",
       "      <td>SUPERMARKET</td>\n",
       "      <td>PHI_3</td>\n",
       "      <td>201617</td>\n",
       "      <td>1.2000</td>\n",
       "    </tr>\n",
       "  </tbody>\n",
       "</table>\n",
       "<p>6721783 rows × 5 columns</p>\n",
       "</div>"
      ],
      "text/plain": [
       "                      item     category store_code yearweek  sell_price\n",
       "0         ACCESORIES_1_001   ACCESORIES      NYC_1   201328     12.7414\n",
       "1         ACCESORIES_1_001   ACCESORIES      NYC_1   201329     12.7414\n",
       "2         ACCESORIES_1_001   ACCESORIES      NYC_1   201330     10.9858\n",
       "3         ACCESORIES_1_001   ACCESORIES      NYC_1   201331     10.9858\n",
       "4         ACCESORIES_1_001   ACCESORIES      NYC_1   201332     10.9858\n",
       "...                    ...          ...        ...      ...         ...\n",
       "6965693  SUPERMARKET_3_827  SUPERMARKET      PHI_3   201613      1.2000\n",
       "6965694  SUPERMARKET_3_827  SUPERMARKET      PHI_3   201614      1.2000\n",
       "6965695  SUPERMARKET_3_827  SUPERMARKET      PHI_3   201615      1.2000\n",
       "6965696  SUPERMARKET_3_827  SUPERMARKET      PHI_3   201616      1.2000\n",
       "6965697  SUPERMARKET_3_827  SUPERMARKET      PHI_3   201617      1.2000\n",
       "\n",
       "[6721783 rows x 5 columns]"
      ]
     },
     "execution_count": 299,
     "metadata": {},
     "output_type": "execute_result"
    }
   ],
   "source": [
    "df_prices"
   ]
  },
  {
   "cell_type": "markdown",
   "metadata": {
    "id": "CXCoA-tE9upu"
   },
   "source": [
    "## 5. Merge Prices y Sales"
   ]
  },
  {
   "cell_type": "markdown",
   "metadata": {
    "id": "wua-P3-9Fdi5"
   },
   "source": [
    "### 5.1. Merge para incluir el sell_price en df_sales"
   ]
  },
  {
   "cell_type": "markdown",
   "metadata": {
    "id": "qqLnSAC3orAv"
   },
   "source": [
    "- Se incluye la columna \"sell_price\" del df_prices en el df_sales a partir de las columnas \"item\", \"store_code\" y \"yearweek\".\n"
   ]
  },
  {
   "cell_type": "code",
   "execution_count": 300,
   "metadata": {
    "executionInfo": {
     "elapsed": 24996,
     "status": "ok",
     "timestamp": 1737033996214,
     "user": {
      "displayName": "Gaspar Manzini",
      "userId": "04945097798978388435"
     },
     "user_tz": -60
    },
    "id": "yaRwRoRlexu0"
   },
   "outputs": [],
   "source": [
    "df_sales_wprice = df_sales.merge(df_prices[['item','store_code', 'yearweek', 'sell_price']], on=['item','store_code', 'yearweek'], how='left')"
   ]
  },
  {
   "cell_type": "markdown",
   "metadata": {
    "id": "Y2eYNY6DaxHS"
   },
   "source": [
    "### 5.2. Check para ver que no hay NaN de Sell_price luego del merge\n"
   ]
  },
  {
   "cell_type": "markdown",
   "metadata": {
    "id": "FjQQZp3dmyt7"
   },
   "source": [
    "- En este punto se verifica que si hay o no NaN al incluir el \"sell_price\" en el df_sale, si hay NaN es porque la formula de \"yearweek\" no es correcta, en caso de que haya valores nulos ver si hay algun patron en los dias en los que hay errores\n",
    "- Este punto nos sirvo para identificar que los errores que teniamos se generaban los ultimos dias del mes de Diciembre en la mayoria de los años\n",
    "- Se observa que las lineas con valores nulos en el sell_price son lineas en las que no hay ventas, por lo que se creo una formula para completar el sell price, teniendo en cuenta el ultimo valor disponible, si no hay valor previo se utilizara el posterior\n",
    "- Se observa que la formula funciona correctamente, y no hay valores nulos\n"
   ]
  },
  {
   "cell_type": "code",
   "execution_count": 301,
   "metadata": {
    "executionInfo": {
     "elapsed": 11,
     "status": "ok",
     "timestamp": 1737033463062,
     "user": {
      "displayName": "Gaspar Manzini",
      "userId": "04945097798978388435"
     },
     "user_tz": -60
    },
    "id": "mRBjUvG1_y2O"
   },
   "outputs": [],
   "source": [
    "nan_rows_specific = df_sales_wprice[df_sales_wprice['sell_price'].isna()]"
   ]
  },
  {
   "cell_type": "code",
   "execution_count": 302,
   "metadata": {
    "colab": {
     "base_uri": "https://localhost:8080/",
     "height": 0
    },
    "executionInfo": {
     "elapsed": 11,
     "status": "ok",
     "timestamp": 1737033463062,
     "user": {
      "displayName": "Gaspar Manzini",
      "userId": "04945097798978388435"
     },
     "user_tz": -60
    },
    "id": "9cK5lNTwA5fs",
    "outputId": "b0dfbfed-f304-4688-b59f-5888c82ac35d"
   },
   "outputs": [
    {
     "data": {
      "text/html": [
       "<div>\n",
       "<style scoped>\n",
       "    .dataframe tbody tr th:only-of-type {\n",
       "        vertical-align: middle;\n",
       "    }\n",
       "\n",
       "    .dataframe tbody tr th {\n",
       "        vertical-align: top;\n",
       "    }\n",
       "\n",
       "    .dataframe thead th {\n",
       "        text-align: right;\n",
       "    }\n",
       "</style>\n",
       "<table border=\"1\" class=\"dataframe\">\n",
       "  <thead>\n",
       "    <tr style=\"text-align: right;\">\n",
       "      <th></th>\n",
       "      <th>id</th>\n",
       "      <th>item</th>\n",
       "      <th>category</th>\n",
       "      <th>department</th>\n",
       "      <th>store</th>\n",
       "      <th>store_code</th>\n",
       "      <th>region</th>\n",
       "      <th>Fecha</th>\n",
       "      <th>Qsale</th>\n",
       "      <th>date</th>\n",
       "      <th>yearweek</th>\n",
       "      <th>event</th>\n",
       "      <th>weekday</th>\n",
       "      <th>sell_price</th>\n",
       "    </tr>\n",
       "  </thead>\n",
       "  <tbody>\n",
       "    <tr>\n",
       "      <th>0</th>\n",
       "      <td>ACCESORIES_1_001_NYC_1</td>\n",
       "      <td>ACCESORIES_1_001</td>\n",
       "      <td>ACCESORIES</td>\n",
       "      <td>ACCESORIES_1</td>\n",
       "      <td>Greenwich_Village</td>\n",
       "      <td>NYC_1</td>\n",
       "      <td>New York</td>\n",
       "      <td>d_1</td>\n",
       "      <td>0</td>\n",
       "      <td>2011-01-29</td>\n",
       "      <td>201105</td>\n",
       "      <td>No_event</td>\n",
       "      <td>6</td>\n",
       "      <td>NaN</td>\n",
       "    </tr>\n",
       "    <tr>\n",
       "      <th>1</th>\n",
       "      <td>ACCESORIES_1_002_NYC_1</td>\n",
       "      <td>ACCESORIES_1_002</td>\n",
       "      <td>ACCESORIES</td>\n",
       "      <td>ACCESORIES_1</td>\n",
       "      <td>Greenwich_Village</td>\n",
       "      <td>NYC_1</td>\n",
       "      <td>New York</td>\n",
       "      <td>d_1</td>\n",
       "      <td>0</td>\n",
       "      <td>2011-01-29</td>\n",
       "      <td>201105</td>\n",
       "      <td>No_event</td>\n",
       "      <td>6</td>\n",
       "      <td>NaN</td>\n",
       "    </tr>\n",
       "    <tr>\n",
       "      <th>2</th>\n",
       "      <td>ACCESORIES_1_003_NYC_1</td>\n",
       "      <td>ACCESORIES_1_003</td>\n",
       "      <td>ACCESORIES</td>\n",
       "      <td>ACCESORIES_1</td>\n",
       "      <td>Greenwich_Village</td>\n",
       "      <td>NYC_1</td>\n",
       "      <td>New York</td>\n",
       "      <td>d_1</td>\n",
       "      <td>0</td>\n",
       "      <td>2011-01-29</td>\n",
       "      <td>201105</td>\n",
       "      <td>No_event</td>\n",
       "      <td>6</td>\n",
       "      <td>NaN</td>\n",
       "    </tr>\n",
       "    <tr>\n",
       "      <th>3</th>\n",
       "      <td>ACCESORIES_1_004_NYC_1</td>\n",
       "      <td>ACCESORIES_1_004</td>\n",
       "      <td>ACCESORIES</td>\n",
       "      <td>ACCESORIES_1</td>\n",
       "      <td>Greenwich_Village</td>\n",
       "      <td>NYC_1</td>\n",
       "      <td>New York</td>\n",
       "      <td>d_1</td>\n",
       "      <td>0</td>\n",
       "      <td>2011-01-29</td>\n",
       "      <td>201105</td>\n",
       "      <td>No_event</td>\n",
       "      <td>6</td>\n",
       "      <td>NaN</td>\n",
       "    </tr>\n",
       "    <tr>\n",
       "      <th>4</th>\n",
       "      <td>ACCESORIES_1_005_NYC_1</td>\n",
       "      <td>ACCESORIES_1_005</td>\n",
       "      <td>ACCESORIES</td>\n",
       "      <td>ACCESORIES_1</td>\n",
       "      <td>Greenwich_Village</td>\n",
       "      <td>NYC_1</td>\n",
       "      <td>New York</td>\n",
       "      <td>d_1</td>\n",
       "      <td>0</td>\n",
       "      <td>2011-01-29</td>\n",
       "      <td>201105</td>\n",
       "      <td>No_event</td>\n",
       "      <td>6</td>\n",
       "      <td>NaN</td>\n",
       "    </tr>\n",
       "    <tr>\n",
       "      <th>...</th>\n",
       "      <td>...</td>\n",
       "      <td>...</td>\n",
       "      <td>...</td>\n",
       "      <td>...</td>\n",
       "      <td>...</td>\n",
       "      <td>...</td>\n",
       "      <td>...</td>\n",
       "      <td>...</td>\n",
       "      <td>...</td>\n",
       "      <td>...</td>\n",
       "      <td>...</td>\n",
       "      <td>...</td>\n",
       "      <td>...</td>\n",
       "      <td>...</td>\n",
       "    </tr>\n",
       "    <tr>\n",
       "      <th>56108534</th>\n",
       "      <td>HOME_&amp;_GARDEN_1_278_NYC_3</td>\n",
       "      <td>HOME_&amp;_GARDEN_1_278</td>\n",
       "      <td>HOME_&amp;_GARDEN</td>\n",
       "      <td>HOME_&amp;_GARDEN_1</td>\n",
       "      <td>Tribeca</td>\n",
       "      <td>NYC_3</td>\n",
       "      <td>New York</td>\n",
       "      <td>d_1841</td>\n",
       "      <td>0</td>\n",
       "      <td>2016-02-12</td>\n",
       "      <td>201606</td>\n",
       "      <td>No_event</td>\n",
       "      <td>5</td>\n",
       "      <td>NaN</td>\n",
       "    </tr>\n",
       "    <tr>\n",
       "      <th>56110517</th>\n",
       "      <td>SUPERMARKET_3_595_NYC_3</td>\n",
       "      <td>SUPERMARKET_3_595</td>\n",
       "      <td>SUPERMARKET</td>\n",
       "      <td>SUPERMARKET_3</td>\n",
       "      <td>Tribeca</td>\n",
       "      <td>NYC_3</td>\n",
       "      <td>New York</td>\n",
       "      <td>d_1841</td>\n",
       "      <td>0</td>\n",
       "      <td>2016-02-12</td>\n",
       "      <td>201606</td>\n",
       "      <td>No_event</td>\n",
       "      <td>5</td>\n",
       "      <td>NaN</td>\n",
       "    </tr>\n",
       "    <tr>\n",
       "      <th>56111702</th>\n",
       "      <td>HOME_&amp;_GARDEN_1_400_NYC_4</td>\n",
       "      <td>HOME_&amp;_GARDEN_1_400</td>\n",
       "      <td>HOME_&amp;_GARDEN</td>\n",
       "      <td>HOME_&amp;_GARDEN_1</td>\n",
       "      <td>Brooklyn</td>\n",
       "      <td>NYC_4</td>\n",
       "      <td>New York</td>\n",
       "      <td>d_1841</td>\n",
       "      <td>0</td>\n",
       "      <td>2016-02-12</td>\n",
       "      <td>201606</td>\n",
       "      <td>No_event</td>\n",
       "      <td>5</td>\n",
       "      <td>NaN</td>\n",
       "    </tr>\n",
       "    <tr>\n",
       "      <th>56123886</th>\n",
       "      <td>HOME_&amp;_GARDEN_1_386_PHI_1</td>\n",
       "      <td>HOME_&amp;_GARDEN_1_386</td>\n",
       "      <td>HOME_&amp;_GARDEN</td>\n",
       "      <td>HOME_&amp;_GARDEN_1</td>\n",
       "      <td>Midtown_Village</td>\n",
       "      <td>PHI_1</td>\n",
       "      <td>Philadelphia</td>\n",
       "      <td>d_1841</td>\n",
       "      <td>0</td>\n",
       "      <td>2016-02-12</td>\n",
       "      <td>201606</td>\n",
       "      <td>No_event</td>\n",
       "      <td>5</td>\n",
       "      <td>NaN</td>\n",
       "    </tr>\n",
       "    <tr>\n",
       "      <th>56126576</th>\n",
       "      <td>HOME_&amp;_GARDEN_1_020_PHI_2</td>\n",
       "      <td>HOME_&amp;_GARDEN_1_020</td>\n",
       "      <td>HOME_&amp;_GARDEN</td>\n",
       "      <td>HOME_&amp;_GARDEN_1</td>\n",
       "      <td>Yorktown</td>\n",
       "      <td>PHI_2</td>\n",
       "      <td>Philadelphia</td>\n",
       "      <td>d_1841</td>\n",
       "      <td>0</td>\n",
       "      <td>2016-02-12</td>\n",
       "      <td>201606</td>\n",
       "      <td>No_event</td>\n",
       "      <td>5</td>\n",
       "      <td>NaN</td>\n",
       "    </tr>\n",
       "  </tbody>\n",
       "</table>\n",
       "<p>12299434 rows × 14 columns</p>\n",
       "</div>"
      ],
      "text/plain": [
       "                                 id                 item       category  \\\n",
       "0            ACCESORIES_1_001_NYC_1     ACCESORIES_1_001     ACCESORIES   \n",
       "1            ACCESORIES_1_002_NYC_1     ACCESORIES_1_002     ACCESORIES   \n",
       "2            ACCESORIES_1_003_NYC_1     ACCESORIES_1_003     ACCESORIES   \n",
       "3            ACCESORIES_1_004_NYC_1     ACCESORIES_1_004     ACCESORIES   \n",
       "4            ACCESORIES_1_005_NYC_1     ACCESORIES_1_005     ACCESORIES   \n",
       "...                             ...                  ...            ...   \n",
       "56108534  HOME_&_GARDEN_1_278_NYC_3  HOME_&_GARDEN_1_278  HOME_&_GARDEN   \n",
       "56110517    SUPERMARKET_3_595_NYC_3    SUPERMARKET_3_595    SUPERMARKET   \n",
       "56111702  HOME_&_GARDEN_1_400_NYC_4  HOME_&_GARDEN_1_400  HOME_&_GARDEN   \n",
       "56123886  HOME_&_GARDEN_1_386_PHI_1  HOME_&_GARDEN_1_386  HOME_&_GARDEN   \n",
       "56126576  HOME_&_GARDEN_1_020_PHI_2  HOME_&_GARDEN_1_020  HOME_&_GARDEN   \n",
       "\n",
       "               department              store store_code        region   Fecha  \\\n",
       "0            ACCESORIES_1  Greenwich_Village      NYC_1      New York     d_1   \n",
       "1            ACCESORIES_1  Greenwich_Village      NYC_1      New York     d_1   \n",
       "2            ACCESORIES_1  Greenwich_Village      NYC_1      New York     d_1   \n",
       "3            ACCESORIES_1  Greenwich_Village      NYC_1      New York     d_1   \n",
       "4            ACCESORIES_1  Greenwich_Village      NYC_1      New York     d_1   \n",
       "...                   ...                ...        ...           ...     ...   \n",
       "56108534  HOME_&_GARDEN_1            Tribeca      NYC_3      New York  d_1841   \n",
       "56110517    SUPERMARKET_3            Tribeca      NYC_3      New York  d_1841   \n",
       "56111702  HOME_&_GARDEN_1           Brooklyn      NYC_4      New York  d_1841   \n",
       "56123886  HOME_&_GARDEN_1    Midtown_Village      PHI_1  Philadelphia  d_1841   \n",
       "56126576  HOME_&_GARDEN_1           Yorktown      PHI_2  Philadelphia  d_1841   \n",
       "\n",
       "          Qsale       date yearweek     event  weekday  sell_price  \n",
       "0             0 2011-01-29   201105  No_event        6         NaN  \n",
       "1             0 2011-01-29   201105  No_event        6         NaN  \n",
       "2             0 2011-01-29   201105  No_event        6         NaN  \n",
       "3             0 2011-01-29   201105  No_event        6         NaN  \n",
       "4             0 2011-01-29   201105  No_event        6         NaN  \n",
       "...         ...        ...      ...       ...      ...         ...  \n",
       "56108534      0 2016-02-12   201606  No_event        5         NaN  \n",
       "56110517      0 2016-02-12   201606  No_event        5         NaN  \n",
       "56111702      0 2016-02-12   201606  No_event        5         NaN  \n",
       "56123886      0 2016-02-12   201606  No_event        5         NaN  \n",
       "56126576      0 2016-02-12   201606  No_event        5         NaN  \n",
       "\n",
       "[12299434 rows x 14 columns]"
      ]
     },
     "execution_count": 302,
     "metadata": {},
     "output_type": "execute_result"
    }
   ],
   "source": [
    "nan_rows_specific"
   ]
  },
  {
   "cell_type": "code",
   "execution_count": 303,
   "metadata": {},
   "outputs": [
    {
     "data": {
      "text/plain": [
       "1"
      ]
     },
     "execution_count": 303,
     "metadata": {},
     "output_type": "execute_result"
    }
   ],
   "source": [
    "nan_rows_specific['Qsale'].sum()"
   ]
  },
  {
   "cell_type": "code",
   "execution_count": 304,
   "metadata": {
    "colab": {
     "base_uri": "https://localhost:8080/"
    },
    "executionInfo": {
     "elapsed": 9,
     "status": "ok",
     "timestamp": 1737033463062,
     "user": {
      "displayName": "Gaspar Manzini",
      "userId": "04945097798978388435"
     },
     "user_tz": -60
    },
    "id": "bOAo07WCAwY7",
    "outputId": "a2bc638c-264d-4322-d4f2-882ced10d623"
   },
   "outputs": [
    {
     "data": {
      "text/plain": [
       "<DatetimeArray>\n",
       "['2011-01-29 00:00:00', '2011-01-30 00:00:00', '2011-01-31 00:00:00',\n",
       " '2011-02-01 00:00:00', '2011-02-02 00:00:00', '2011-02-03 00:00:00',\n",
       " '2011-02-04 00:00:00', '2011-02-05 00:00:00', '2011-02-06 00:00:00',\n",
       " '2011-02-07 00:00:00',\n",
       " ...\n",
       " '2016-02-03 00:00:00', '2016-02-04 00:00:00', '2016-02-05 00:00:00',\n",
       " '2016-02-06 00:00:00', '2016-02-07 00:00:00', '2016-02-08 00:00:00',\n",
       " '2016-02-09 00:00:00', '2016-02-10 00:00:00', '2016-02-11 00:00:00',\n",
       " '2016-02-12 00:00:00']\n",
       "Length: 1841, dtype: datetime64[ns]"
      ]
     },
     "execution_count": 304,
     "metadata": {},
     "output_type": "execute_result"
    }
   ],
   "source": [
    "valores_unicos = nan_rows_specific['date'].unique()\n",
    "valores_unicos"
   ]
  },
  {
   "cell_type": "code",
   "execution_count": 305,
   "metadata": {},
   "outputs": [
    {
     "data": {
      "text/plain": [
       "array([0, 1], dtype=int64)"
      ]
     },
     "execution_count": 305,
     "metadata": {},
     "output_type": "execute_result"
    }
   ],
   "source": [
    "valores_unicos_cant = nan_rows_specific['Qsale'].unique()\n",
    "valores_unicos_cant"
   ]
  },
  {
   "cell_type": "code",
   "execution_count": 306,
   "metadata": {},
   "outputs": [],
   "source": [
    "df_sales_wprice['sell_price'] = df_sales_wprice.groupby('id')['sell_price'].apply(lambda x: x.ffill().bfill()).reset_index(level=0, drop=True)"
   ]
  },
  {
   "cell_type": "code",
   "execution_count": 307,
   "metadata": {},
   "outputs": [],
   "source": [
    "nan_rows_specific2 = df_sales_wprice[df_sales_wprice['sell_price'].isna()]"
   ]
  },
  {
   "cell_type": "code",
   "execution_count": 308,
   "metadata": {},
   "outputs": [
    {
     "data": {
      "text/html": [
       "<div>\n",
       "<style scoped>\n",
       "    .dataframe tbody tr th:only-of-type {\n",
       "        vertical-align: middle;\n",
       "    }\n",
       "\n",
       "    .dataframe tbody tr th {\n",
       "        vertical-align: top;\n",
       "    }\n",
       "\n",
       "    .dataframe thead th {\n",
       "        text-align: right;\n",
       "    }\n",
       "</style>\n",
       "<table border=\"1\" class=\"dataframe\">\n",
       "  <thead>\n",
       "    <tr style=\"text-align: right;\">\n",
       "      <th></th>\n",
       "      <th>id</th>\n",
       "      <th>item</th>\n",
       "      <th>category</th>\n",
       "      <th>department</th>\n",
       "      <th>store</th>\n",
       "      <th>store_code</th>\n",
       "      <th>region</th>\n",
       "      <th>Fecha</th>\n",
       "      <th>Qsale</th>\n",
       "      <th>date</th>\n",
       "      <th>yearweek</th>\n",
       "      <th>event</th>\n",
       "      <th>weekday</th>\n",
       "      <th>sell_price</th>\n",
       "    </tr>\n",
       "  </thead>\n",
       "  <tbody>\n",
       "  </tbody>\n",
       "</table>\n",
       "</div>"
      ],
      "text/plain": [
       "Empty DataFrame\n",
       "Columns: [id, item, category, department, store, store_code, region, Fecha, Qsale, date, yearweek, event, weekday, sell_price]\n",
       "Index: []"
      ]
     },
     "execution_count": 308,
     "metadata": {},
     "output_type": "execute_result"
    }
   ],
   "source": [
    "nan_rows_specific2"
   ]
  },
  {
   "cell_type": "markdown",
   "metadata": {
    "id": "PgY1_XhhLr9A"
   },
   "source": [
    "## 6. Df_sales_wprice"
   ]
  },
  {
   "cell_type": "markdown",
   "metadata": {
    "id": "5O8WhC7sm7h8"
   },
   "source": [
    "- Se observan los valores unicos de 'category','department','store','region','event'\n",
    "- Se crear la columna de total_venta en el nuevo df para calcular el total por linea (Qsale*sell_price)\n",
    "- Se eliminan las columnas \"id\", \"store_code\" y \"Fecha\" ya que no aportan datos de valor y para que el archivo output ocupe menos espacio\n",
    "- Renombrado de columnas\n",
    "- Se crea un nuevo archivo csv a partir de este nuevo df para trabajar en los proximos pasos del proyecto sin la necesidad de ejecturar la limpieza y merge de datos\n",
    "- Luego de investigacion vimos que es mas conveniente exportar el df como pickel ya que ocupa menos espacio, y es mas eficiente para su lectura en este formato\n",
    "\n",
    "- Se podria cambiar la columna weekday por un flag de dia de fin de semana y cambiar la columna de event por uno de flags ( columnas de 1 y 0)\n"
   ]
  },
  {
   "cell_type": "code",
   "execution_count": 309,
   "metadata": {
    "colab": {
     "base_uri": "https://localhost:8080/",
     "height": 423
    },
    "executionInfo": {
     "elapsed": 8,
     "status": "ok",
     "timestamp": 1737033996214,
     "user": {
      "displayName": "Gaspar Manzini",
      "userId": "04945097798978388435"
     },
     "user_tz": -60
    },
    "id": "WN4fQiPnIIy6",
    "outputId": "9cb37fa8-637e-4fbd-d5da-b2c9250dc15e"
   },
   "outputs": [
    {
     "data": {
      "text/html": [
       "<div>\n",
       "<style scoped>\n",
       "    .dataframe tbody tr th:only-of-type {\n",
       "        vertical-align: middle;\n",
       "    }\n",
       "\n",
       "    .dataframe tbody tr th {\n",
       "        vertical-align: top;\n",
       "    }\n",
       "\n",
       "    .dataframe thead th {\n",
       "        text-align: right;\n",
       "    }\n",
       "</style>\n",
       "<table border=\"1\" class=\"dataframe\">\n",
       "  <thead>\n",
       "    <tr style=\"text-align: right;\">\n",
       "      <th></th>\n",
       "      <th>id</th>\n",
       "      <th>item</th>\n",
       "      <th>category</th>\n",
       "      <th>department</th>\n",
       "      <th>store</th>\n",
       "      <th>store_code</th>\n",
       "      <th>region</th>\n",
       "      <th>Fecha</th>\n",
       "      <th>Qsale</th>\n",
       "      <th>date</th>\n",
       "      <th>yearweek</th>\n",
       "      <th>event</th>\n",
       "      <th>weekday</th>\n",
       "      <th>sell_price</th>\n",
       "    </tr>\n",
       "  </thead>\n",
       "  <tbody>\n",
       "    <tr>\n",
       "      <th>0</th>\n",
       "      <td>ACCESORIES_1_001_NYC_1</td>\n",
       "      <td>ACCESORIES_1_001</td>\n",
       "      <td>ACCESORIES</td>\n",
       "      <td>ACCESORIES_1</td>\n",
       "      <td>Greenwich_Village</td>\n",
       "      <td>NYC_1</td>\n",
       "      <td>New York</td>\n",
       "      <td>d_1</td>\n",
       "      <td>0</td>\n",
       "      <td>2011-01-29</td>\n",
       "      <td>201105</td>\n",
       "      <td>No_event</td>\n",
       "      <td>6</td>\n",
       "      <td>12.7414</td>\n",
       "    </tr>\n",
       "    <tr>\n",
       "      <th>1</th>\n",
       "      <td>ACCESORIES_1_002_NYC_1</td>\n",
       "      <td>ACCESORIES_1_002</td>\n",
       "      <td>ACCESORIES</td>\n",
       "      <td>ACCESORIES_1</td>\n",
       "      <td>Greenwich_Village</td>\n",
       "      <td>NYC_1</td>\n",
       "      <td>New York</td>\n",
       "      <td>d_1</td>\n",
       "      <td>0</td>\n",
       "      <td>2011-01-29</td>\n",
       "      <td>201105</td>\n",
       "      <td>No_event</td>\n",
       "      <td>6</td>\n",
       "      <td>5.2801</td>\n",
       "    </tr>\n",
       "    <tr>\n",
       "      <th>2</th>\n",
       "      <td>ACCESORIES_1_003_NYC_1</td>\n",
       "      <td>ACCESORIES_1_003</td>\n",
       "      <td>ACCESORIES</td>\n",
       "      <td>ACCESORIES_1</td>\n",
       "      <td>Greenwich_Village</td>\n",
       "      <td>NYC_1</td>\n",
       "      <td>New York</td>\n",
       "      <td>d_1</td>\n",
       "      <td>0</td>\n",
       "      <td>2011-01-29</td>\n",
       "      <td>201105</td>\n",
       "      <td>No_event</td>\n",
       "      <td>6</td>\n",
       "      <td>3.9501</td>\n",
       "    </tr>\n",
       "    <tr>\n",
       "      <th>3</th>\n",
       "      <td>ACCESORIES_1_004_NYC_1</td>\n",
       "      <td>ACCESORIES_1_004</td>\n",
       "      <td>ACCESORIES</td>\n",
       "      <td>ACCESORIES_1</td>\n",
       "      <td>Greenwich_Village</td>\n",
       "      <td>NYC_1</td>\n",
       "      <td>New York</td>\n",
       "      <td>d_1</td>\n",
       "      <td>0</td>\n",
       "      <td>2011-01-29</td>\n",
       "      <td>201105</td>\n",
       "      <td>No_event</td>\n",
       "      <td>6</td>\n",
       "      <td>5.7722</td>\n",
       "    </tr>\n",
       "    <tr>\n",
       "      <th>4</th>\n",
       "      <td>ACCESORIES_1_005_NYC_1</td>\n",
       "      <td>ACCESORIES_1_005</td>\n",
       "      <td>ACCESORIES</td>\n",
       "      <td>ACCESORIES_1</td>\n",
       "      <td>Greenwich_Village</td>\n",
       "      <td>NYC_1</td>\n",
       "      <td>New York</td>\n",
       "      <td>d_1</td>\n",
       "      <td>0</td>\n",
       "      <td>2011-01-29</td>\n",
       "      <td>201105</td>\n",
       "      <td>No_event</td>\n",
       "      <td>6</td>\n",
       "      <td>3.9634</td>\n",
       "    </tr>\n",
       "    <tr>\n",
       "      <th>...</th>\n",
       "      <td>...</td>\n",
       "      <td>...</td>\n",
       "      <td>...</td>\n",
       "      <td>...</td>\n",
       "      <td>...</td>\n",
       "      <td>...</td>\n",
       "      <td>...</td>\n",
       "      <td>...</td>\n",
       "      <td>...</td>\n",
       "      <td>...</td>\n",
       "      <td>...</td>\n",
       "      <td>...</td>\n",
       "      <td>...</td>\n",
       "      <td>...</td>\n",
       "    </tr>\n",
       "    <tr>\n",
       "      <th>58327365</th>\n",
       "      <td>SUPERMARKET_3_823_PHI_3</td>\n",
       "      <td>SUPERMARKET_3_823</td>\n",
       "      <td>SUPERMARKET</td>\n",
       "      <td>SUPERMARKET_3</td>\n",
       "      <td>Queen_Village</td>\n",
       "      <td>PHI_3</td>\n",
       "      <td>Philadelphia</td>\n",
       "      <td>d_1913</td>\n",
       "      <td>1</td>\n",
       "      <td>2016-04-24</td>\n",
       "      <td>201617</td>\n",
       "      <td>No_event</td>\n",
       "      <td>7</td>\n",
       "      <td>3.5760</td>\n",
       "    </tr>\n",
       "    <tr>\n",
       "      <th>58327366</th>\n",
       "      <td>SUPERMARKET_3_824_PHI_3</td>\n",
       "      <td>SUPERMARKET_3_824</td>\n",
       "      <td>SUPERMARKET</td>\n",
       "      <td>SUPERMARKET_3</td>\n",
       "      <td>Queen_Village</td>\n",
       "      <td>PHI_3</td>\n",
       "      <td>Philadelphia</td>\n",
       "      <td>d_1913</td>\n",
       "      <td>0</td>\n",
       "      <td>2016-04-24</td>\n",
       "      <td>201617</td>\n",
       "      <td>No_event</td>\n",
       "      <td>7</td>\n",
       "      <td>2.9760</td>\n",
       "    </tr>\n",
       "    <tr>\n",
       "      <th>58327367</th>\n",
       "      <td>SUPERMARKET_3_825_PHI_3</td>\n",
       "      <td>SUPERMARKET_3_825</td>\n",
       "      <td>SUPERMARKET</td>\n",
       "      <td>SUPERMARKET_3</td>\n",
       "      <td>Queen_Village</td>\n",
       "      <td>PHI_3</td>\n",
       "      <td>Philadelphia</td>\n",
       "      <td>d_1913</td>\n",
       "      <td>0</td>\n",
       "      <td>2016-04-24</td>\n",
       "      <td>201617</td>\n",
       "      <td>No_event</td>\n",
       "      <td>7</td>\n",
       "      <td>4.7760</td>\n",
       "    </tr>\n",
       "    <tr>\n",
       "      <th>58327368</th>\n",
       "      <td>SUPERMARKET_3_826_PHI_3</td>\n",
       "      <td>SUPERMARKET_3_826</td>\n",
       "      <td>SUPERMARKET</td>\n",
       "      <td>SUPERMARKET_3</td>\n",
       "      <td>Queen_Village</td>\n",
       "      <td>PHI_3</td>\n",
       "      <td>Philadelphia</td>\n",
       "      <td>d_1913</td>\n",
       "      <td>3</td>\n",
       "      <td>2016-04-24</td>\n",
       "      <td>201617</td>\n",
       "      <td>No_event</td>\n",
       "      <td>7</td>\n",
       "      <td>1.5360</td>\n",
       "    </tr>\n",
       "    <tr>\n",
       "      <th>58327369</th>\n",
       "      <td>SUPERMARKET_3_827_PHI_3</td>\n",
       "      <td>SUPERMARKET_3_827</td>\n",
       "      <td>SUPERMARKET</td>\n",
       "      <td>SUPERMARKET_3</td>\n",
       "      <td>Queen_Village</td>\n",
       "      <td>PHI_3</td>\n",
       "      <td>Philadelphia</td>\n",
       "      <td>d_1913</td>\n",
       "      <td>0</td>\n",
       "      <td>2016-04-24</td>\n",
       "      <td>201617</td>\n",
       "      <td>No_event</td>\n",
       "      <td>7</td>\n",
       "      <td>1.2000</td>\n",
       "    </tr>\n",
       "  </tbody>\n",
       "</table>\n",
       "<p>58327370 rows × 14 columns</p>\n",
       "</div>"
      ],
      "text/plain": [
       "                               id               item     category  \\\n",
       "0          ACCESORIES_1_001_NYC_1   ACCESORIES_1_001   ACCESORIES   \n",
       "1          ACCESORIES_1_002_NYC_1   ACCESORIES_1_002   ACCESORIES   \n",
       "2          ACCESORIES_1_003_NYC_1   ACCESORIES_1_003   ACCESORIES   \n",
       "3          ACCESORIES_1_004_NYC_1   ACCESORIES_1_004   ACCESORIES   \n",
       "4          ACCESORIES_1_005_NYC_1   ACCESORIES_1_005   ACCESORIES   \n",
       "...                           ...                ...          ...   \n",
       "58327365  SUPERMARKET_3_823_PHI_3  SUPERMARKET_3_823  SUPERMARKET   \n",
       "58327366  SUPERMARKET_3_824_PHI_3  SUPERMARKET_3_824  SUPERMARKET   \n",
       "58327367  SUPERMARKET_3_825_PHI_3  SUPERMARKET_3_825  SUPERMARKET   \n",
       "58327368  SUPERMARKET_3_826_PHI_3  SUPERMARKET_3_826  SUPERMARKET   \n",
       "58327369  SUPERMARKET_3_827_PHI_3  SUPERMARKET_3_827  SUPERMARKET   \n",
       "\n",
       "             department              store store_code        region   Fecha  \\\n",
       "0          ACCESORIES_1  Greenwich_Village      NYC_1      New York     d_1   \n",
       "1          ACCESORIES_1  Greenwich_Village      NYC_1      New York     d_1   \n",
       "2          ACCESORIES_1  Greenwich_Village      NYC_1      New York     d_1   \n",
       "3          ACCESORIES_1  Greenwich_Village      NYC_1      New York     d_1   \n",
       "4          ACCESORIES_1  Greenwich_Village      NYC_1      New York     d_1   \n",
       "...                 ...                ...        ...           ...     ...   \n",
       "58327365  SUPERMARKET_3      Queen_Village      PHI_3  Philadelphia  d_1913   \n",
       "58327366  SUPERMARKET_3      Queen_Village      PHI_3  Philadelphia  d_1913   \n",
       "58327367  SUPERMARKET_3      Queen_Village      PHI_3  Philadelphia  d_1913   \n",
       "58327368  SUPERMARKET_3      Queen_Village      PHI_3  Philadelphia  d_1913   \n",
       "58327369  SUPERMARKET_3      Queen_Village      PHI_3  Philadelphia  d_1913   \n",
       "\n",
       "          Qsale       date yearweek     event  weekday  sell_price  \n",
       "0             0 2011-01-29   201105  No_event        6     12.7414  \n",
       "1             0 2011-01-29   201105  No_event        6      5.2801  \n",
       "2             0 2011-01-29   201105  No_event        6      3.9501  \n",
       "3             0 2011-01-29   201105  No_event        6      5.7722  \n",
       "4             0 2011-01-29   201105  No_event        6      3.9634  \n",
       "...         ...        ...      ...       ...      ...         ...  \n",
       "58327365      1 2016-04-24   201617  No_event        7      3.5760  \n",
       "58327366      0 2016-04-24   201617  No_event        7      2.9760  \n",
       "58327367      0 2016-04-24   201617  No_event        7      4.7760  \n",
       "58327368      3 2016-04-24   201617  No_event        7      1.5360  \n",
       "58327369      0 2016-04-24   201617  No_event        7      1.2000  \n",
       "\n",
       "[58327370 rows x 14 columns]"
      ]
     },
     "execution_count": 309,
     "metadata": {},
     "output_type": "execute_result"
    }
   ],
   "source": [
    "df_sales_wprice"
   ]
  },
  {
   "cell_type": "code",
   "execution_count": 310,
   "metadata": {},
   "outputs": [
    {
     "name": "stdout",
     "output_type": "stream",
     "text": [
      "\n",
      "category\n",
      "['ACCESORIES' 'HOME_&_GARDEN' 'SUPERMARKET']\n",
      "\n",
      "department\n",
      "['ACCESORIES_1' 'ACCESORIES_2' 'HOME_&_GARDEN_1' 'HOME_&_GARDEN_2'\n",
      " 'SUPERMARKET_1' 'SUPERMARKET_2' 'SUPERMARKET_3']\n",
      "\n",
      "store\n",
      "['Greenwich_Village' 'Harlem' 'Tribeca' 'Brooklyn' 'South_End' 'Roxbury'\n",
      " 'Back_Bay' 'Midtown_Village' 'Yorktown' 'Queen_Village']\n",
      "\n",
      "region\n",
      "['New York' 'Boston' 'Philadelphia']\n",
      "\n",
      "event\n",
      "['No_event' 'SuperBowl' '4 de Julio' 'Ramadan starts' 'Thanksgiving'\n",
      " 'Navidad' 'NewYear' 'Easter']\n"
     ]
    }
   ],
   "source": [
    "for i in ['category','department','store','region','event']:\n",
    "  print(f'\\n{i}\\n{df_sales_wprice[i].unique()}')"
   ]
  },
  {
   "cell_type": "code",
   "execution_count": 311,
   "metadata": {
    "executionInfo": {
     "elapsed": 173,
     "status": "ok",
     "timestamp": 1737034001758,
     "user": {
      "displayName": "Gaspar Manzini",
      "userId": "04945097798978388435"
     },
     "user_tz": -60
    },
    "id": "FzzLFBnML3Wm"
   },
   "outputs": [],
   "source": [
    "#Creado de columna total venta Qsale*sell_price\n",
    "df_sales_wprice['total_venta'] = df_sales_wprice['Qsale']*df_sales_wprice['sell_price']"
   ]
  },
  {
   "cell_type": "code",
   "execution_count": 312,
   "metadata": {
    "executionInfo": {
     "elapsed": 1424,
     "status": "ok",
     "timestamp": 1737034005874,
     "user": {
      "displayName": "Gaspar Manzini",
      "userId": "04945097798978388435"
     },
     "user_tz": -60
    },
    "id": "iXpyW9X6AbFI"
   },
   "outputs": [],
   "source": [
    "df_sales_wprice.drop(columns=['Fecha','id','store_code'], inplace=True)"
   ]
  },
  {
   "cell_type": "code",
   "execution_count": 313,
   "metadata": {
    "executionInfo": {
     "elapsed": 3,
     "status": "ok",
     "timestamp": 1737034006329,
     "user": {
      "displayName": "Gaspar Manzini",
      "userId": "04945097798978388435"
     },
     "user_tz": -60
    },
    "id": "hWfWfUtwH4M8"
   },
   "outputs": [],
   "source": [
    "df_sales_wprice.rename(columns={'region': 'city', 'sell_price': 'unit_price'}, inplace=True)"
   ]
  },
  {
   "cell_type": "code",
   "execution_count": 314,
   "metadata": {},
   "outputs": [],
   "source": [
    "with open('df_sales_wprice.pkl', 'wb') as file:  \n",
    "    pickle.dump(df_sales_wprice, file)      "
   ]
  }
 ],
 "metadata": {
  "colab": {
   "collapsed_sections": [
    "Gvx-hiwfw8XP",
    "qWc8Nfbsu3En",
    "vBnUTxQHeGt0",
    "npplXzYjd2sj",
    "QbKn0udfwTr9",
    "W69KvKSgug1Q",
    "_WsrXhF4utbX",
    "CXCoA-tE9upu",
    "wua-P3-9Fdi5",
    "Y2eYNY6DaxHS"
   ],
   "provenance": []
  },
  "kernelspec": {
   "display_name": "base",
   "language": "python",
   "name": "python3"
  },
  "language_info": {
   "codemirror_mode": {
    "name": "ipython",
    "version": 3
   },
   "file_extension": ".py",
   "mimetype": "text/x-python",
   "name": "python",
   "nbconvert_exporter": "python",
   "pygments_lexer": "ipython3",
   "version": "3.12.7"
  }
 },
 "nbformat": 4,
 "nbformat_minor": 0
}
